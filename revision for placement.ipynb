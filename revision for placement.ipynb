{
 "cells": [
  {
   "cell_type": "code",
   "execution_count": 1,
   "id": "b27084df",
   "metadata": {},
   "outputs": [
    {
     "name": "stdout",
     "output_type": "stream",
     "text": [
      "enter 1st name : chandru\n",
      "enter 2nd name : ramya\n",
      "chandru\n",
      "ramya\n",
      "chndu\n",
      "mya\n",
      "8\n",
      "relationship btwn them Affection\n"
     ]
    }
   ],
   "source": [
    "name1 = str(input(\"enter 1st name : \")).lower()\n",
    "name2 = str(input(\"enter 2nd name : \")).lower()\n",
    "name1 = name1.replace(\" \",\"\")\n",
    "name2 = name2.replace(\" \",\"\")\n",
    "print(name1)\n",
    "print(name2)\n",
    "\n",
    "for i in name1:\n",
    "    for j in name2:\n",
    "        if i==j:\n",
    "            name1 = name1.replace(i,\"\",1)\n",
    "            name2 = name2.replace(j,\"\",1)\n",
    "            break\n",
    "print(name1)\n",
    "print(name2)\n",
    "\n",
    "count = len(name1+name2)\n",
    "print(count)\n",
    "\n",
    "if count>0:\n",
    "    list1 = [\"Frnd\",\"Love\",\"Affection\",\"Marriage\",\"Enemies\",\"Sibling\"]\n",
    "    while len(list1)>1:\n",
    "        c = count%len(list1)\n",
    "        s_index = c-1\n",
    "        if s_index>=0:\n",
    "            left = list1[:s_index]count\n",
    "            right = list1[s_index+1:]\n",
    "            list1 = right+left\n",
    "        else:\n",
    "            list1 = list1[:len(list1)-1]\n",
    "    print(\"relationship btwn them\",list1[0])"
   ]
  },
  {
   "cell_type": "code",
   "execution_count": 2,
   "id": "3812d707",
   "metadata": {},
   "outputs": [
    {
     "name": "stdout",
     "output_type": "stream",
     "text": [
      "Twinkle, twinkle, little star, \n",
      "\tHow I wonder what you are! \n",
      "\t\tUp above the world so high, \n",
      "\t\tLike a diamond in the sky. \n",
      "Twinkle, twinkle, little star, \n",
      "\tHow I wonder what you are!\n"
     ]
    }
   ],
   "source": [
    "print(\"Twinkle, twinkle, little star, \\n\\tHow I wonder what you are! \\n\\t\\tUp above the world so high, \\n\\t\\tLike a diamond in the sky. \\nTwinkle, twinkle, little star, \\n\\tHow I wonder what you are!\")\n"
   ]
  },
  {
   "cell_type": "code",
   "execution_count": 3,
   "id": "00c0efed",
   "metadata": {},
   "outputs": [
    {
     "name": "stdout",
     "output_type": "stream",
     "text": [
      "Python version\n",
      "3.8.8 (default, Apr 13 2021, 15:08:03) [MSC v.1916 64 bit (AMD64)]\n",
      "Version info.\n",
      "sys.version_info(major=3, minor=8, micro=8, releaselevel='final', serial=0)\n"
     ]
    }
   ],
   "source": [
    "import sys\n",
    "print(\"Python version\")\n",
    "print (sys.version)\n",
    "print(\"Version info.\")\n",
    "print (sys.version_info)\n"
   ]
  },
  {
   "cell_type": "code",
   "execution_count": 4,
   "id": "ba0ac803",
   "metadata": {},
   "outputs": [
    {
     "name": "stdout",
     "output_type": "stream",
     "text": [
      "3.8.8\n"
     ]
    }
   ],
   "source": [
    "import platform\n",
    "print(platform.python_version())\n"
   ]
  },
  {
   "cell_type": "code",
   "execution_count": 5,
   "id": "55030511",
   "metadata": {},
   "outputs": [
    {
     "name": "stdout",
     "output_type": "stream",
     "text": [
      "Current date and time : \n",
      "2021-06-23 17:57:20\n"
     ]
    }
   ],
   "source": [
    "import datetime\n",
    "now = datetime.datetime.now()\n",
    "print (\"Current date and time : \")\n",
    "print (now.strftime(\"%Y-%m-%d %H:%M:%S\"))\n"
   ]
  },
  {
   "cell_type": "code",
   "execution_count": 6,
   "id": "deee6650",
   "metadata": {},
   "outputs": [],
   "source": [
    "import numpy as np"
   ]
  },
  {
   "cell_type": "code",
   "execution_count": 7,
   "id": "27dae025",
   "metadata": {},
   "outputs": [
    {
     "name": "stdout",
     "output_type": "stream",
     "text": [
      "Input the Filename: chandru\n",
      "The extension of the file is : 'chandru'\n"
     ]
    }
   ],
   "source": [
    "filename = input(\"Input the Filename: \")\n",
    "f_extns = filename.split(\".\")\n",
    "print (\"The extension of the file is : \" + repr(f_extns[-1]))\n",
    "# here split will occur on what condition if we use dot will split after the dot, if we we give , sepreate values after comma"
   ]
  },
  {
   "cell_type": "code",
   "execution_count": 8,
   "id": "eea46c88",
   "metadata": {},
   "outputs": [
    {
     "name": "stdout",
     "output_type": "stream",
     "text": [
      "Red Black\n"
     ]
    }
   ],
   "source": [
    "color_list = [\"Red\",\"Green\",\"White\" ,\"Black\"]\n",
    "print(color_list[0],color_list[3])"
   ]
  },
  {
   "cell_type": "code",
   "execution_count": 9,
   "id": "5f1c327c",
   "metadata": {},
   "outputs": [
    {
     "name": "stdout",
     "output_type": "stream",
     "text": [
      "The Examination Will Start From : 11 / 12 / 2014\n"
     ]
    }
   ],
   "source": [
    "exam_st_date = (11, 12, 2014)\n",
    "print(\"The Examination Will Start From : %i / %i / %i\" %exam_st_date)"
   ]
  },
  {
   "cell_type": "code",
   "execution_count": 10,
   "id": "f4110e87",
   "metadata": {},
   "outputs": [
    {
     "name": "stdout",
     "output_type": "stream",
     "text": [
      "enter the number whic we need to give: 23\n",
      "234669\n"
     ]
    }
   ],
   "source": [
    "# Write a Python program that accepts an integer (n) and computes the value of n+nn+nnn.\n",
    "\n",
    "a = int(input(\"enter the number whic we need to give: \"))\n",
    "n1 = int(\"%s\"% a)\n",
    "n2 = int(\"%s%s\" %(a,a))\n",
    "n3 = int(\"%s%s%s\"%(a,a,a))\n",
    "print(n1+n2+n3)\n",
    "\n"
   ]
  },
  {
   "cell_type": "markdown",
   "id": "ef0984db",
   "metadata": {},
   "source": [
    "# mcq"
   ]
  },
  {
   "cell_type": "code",
   "execution_count": 11,
   "id": "d487a233",
   "metadata": {},
   "outputs": [
    {
     "data": {
      "text/plain": [
       "type"
      ]
     },
     "execution_count": 11,
     "metadata": {},
     "output_type": "execute_result"
    }
   ],
   "source": [
    "type(type(int))"
   ]
  },
  {
   "cell_type": "code",
   "execution_count": 12,
   "id": "efbe0584",
   "metadata": {},
   "outputs": [
    {
     "name": "stdout",
     "output_type": "stream",
     "text": [
      "abcd\n"
     ]
    }
   ],
   "source": [
    "L = ['a','b','c','d']\n",
    "print(\"\".join(L))"
   ]
  },
  {
   "cell_type": "code",
   "execution_count": 13,
   "id": "2e1a0d5c",
   "metadata": {},
   "outputs": [
    {
     "data": {
      "text/plain": [
       "'A'"
      ]
     },
     "execution_count": 13,
     "metadata": {},
     "output_type": "execute_result"
    }
   ],
   "source": [
    "chr(ord('A'))"
   ]
  },
  {
   "cell_type": "code",
   "execution_count": 14,
   "id": "c507ad13",
   "metadata": {},
   "outputs": [
    {
     "name": "stdout",
     "output_type": "stream",
     "text": [
      "48\n"
     ]
    }
   ],
   "source": [
    "y = 8\n",
    "z = lambda x : x * y\n",
    "print (z(6))"
   ]
  },
  {
   "cell_type": "markdown",
   "id": "710fd2cf",
   "metadata": {},
   "source": [
    "## Consider the results of a medical experiment that aims to predict whether someone is going to develop myopia based on some physical measurements and heredity. In this case, the input dataset consists of the person’s medical characteristics and the target variable is binary: 1 for those who are likely to develop myopia and 0 for those who aren’t. This can be best classified as"
   ]
  },
  {
   "cell_type": "code",
   "execution_count": null,
   "id": "40272b25",
   "metadata": {},
   "outputs": [],
   "source": [
    "#Decision Tree"
   ]
  },
  {
   "cell_type": "code",
   "execution_count": 18,
   "id": "0828ad02",
   "metadata": {},
   "outputs": [
    {
     "data": {
      "text/plain": [
       "4"
      ]
     },
     "execution_count": 18,
     "metadata": {},
     "output_type": "execute_result"
    }
   ],
   "source": [
    "9//2"
   ]
  },
  {
   "cell_type": "code",
   "execution_count": 23,
   "id": "327b6925",
   "metadata": {},
   "outputs": [
    {
     "name": "stdout",
     "output_type": "stream",
     "text": [
      "0\n",
      "2\n",
      "1\n",
      "3\n",
      "2\n",
      "4\n"
     ]
    }
   ],
   "source": [
    "i = 0\n",
    "while i < 3:\n",
    "       print(i)\n",
    "       i += 1\n",
    "       print(i+1)"
   ]
  },
  {
   "cell_type": "code",
   "execution_count": 1,
   "id": "6f61b808",
   "metadata": {},
   "outputs": [
    {
     "name": "stdout",
     "output_type": "stream",
     "text": [
      "{0: 0, 7: 0, 1: 1, 8: 1}\n"
     ]
    }
   ],
   "source": [
    "D = dict()\n",
    "for x in enumerate(range(2)):\n",
    "\tD[x[0]] = x[1]\n",
    "\tD[x[1]+7] = x[0]\n",
    "print(D)\n"
   ]
  },
  {
   "cell_type": "code",
   "execution_count": 4,
   "id": "a032e6f2",
   "metadata": {},
   "outputs": [
    {
     "name": "stdout",
     "output_type": "stream",
     "text": [
      "8\n"
     ]
    }
   ],
   "source": [
    "def myfunc(a):\n",
    "    a = a + 2\n",
    "    a = a * 2\n",
    "    return a\n",
    " \n",
    "print(myfunc(2))"
   ]
  },
  {
   "cell_type": "code",
   "execution_count": 5,
   "id": "c1ee7899",
   "metadata": {},
   "outputs": [
    {
     "data": {
      "text/plain": [
       "3"
      ]
     },
     "execution_count": 5,
     "metadata": {},
     "output_type": "execute_result"
    }
   ],
   "source": [
    "3*1**3 #Precedence of ** is higher than that of 3, thus first 1**3 will be executed and the result will be multiplied by 3."
   ]
  },
  {
   "cell_type": "code",
   "execution_count": 7,
   "id": "73154263",
   "metadata": {},
   "outputs": [
    {
     "name": "stdout",
     "output_type": "stream",
     "text": [
      "0.33\n"
     ]
    }
   ],
   "source": [
    "print('{0:.2}'.format(1.0 / 3))#.2 defines the precision of the floating point number."
   ]
  },
  {
   "cell_type": "code",
   "execution_count": 8,
   "id": "a4ce29b7",
   "metadata": {},
   "outputs": [
    {
     "name": "stdout",
     "output_type": "stream",
     "text": [
      "33.333333%\n"
     ]
    }
   ],
   "source": [
    "print('{0:-2%}'.format(1.0 / 3))"
   ]
  },
  {
   "cell_type": "code",
   "execution_count": 9,
   "id": "1879758b",
   "metadata": {},
   "outputs": [
    {
     "ename": "SyntaxError",
     "evalue": "invalid syntax (<ipython-input-9-adef796ea081>, line 2)",
     "output_type": "error",
     "traceback": [
      "\u001b[1;36m  File \u001b[1;32m\"<ipython-input-9-adef796ea081>\"\u001b[1;36m, line \u001b[1;32m2\u001b[0m\n\u001b[1;33m    if tuple == ( 'abcd', 786 , 2.23, 'john', 70.2 )\u001b[0m\n\u001b[1;37m                                                    ^\u001b[0m\n\u001b[1;31mSyntaxError\u001b[0m\u001b[1;31m:\u001b[0m invalid syntax\n"
     ]
    }
   ],
   "source": [
    "print(tuple[1:3])\n",
    "if tuple == ( 'abcd', 786 , 2.23, 'john', 70.2 ):\n",
    "    \n",
    "else tuple()\n",
    "#error code"
   ]
  },
  {
   "cell_type": "code",
   "execution_count": 10,
   "id": "194f3dff",
   "metadata": {},
   "outputs": [
    {
     "ename": "TypeError",
     "evalue": "'type' object is not subscriptable",
     "output_type": "error",
     "traceback": [
      "\u001b[1;31m---------------------------------------------------------------------------\u001b[0m",
      "\u001b[1;31mTypeError\u001b[0m                                 Traceback (most recent call last)",
      "\u001b[1;32m<ipython-input-10-477c652598d8>\u001b[0m in \u001b[0;36m<module>\u001b[1;34m\u001b[0m\n\u001b[1;32m----> 1\u001b[1;33m \u001b[0mprint\u001b[0m\u001b[1;33m(\u001b[0m\u001b[0mtuple\u001b[0m\u001b[1;33m[\u001b[0m\u001b[1;36m1\u001b[0m\u001b[1;33m:\u001b[0m\u001b[1;36m3\u001b[0m\u001b[1;33m]\u001b[0m\u001b[1;33m)\u001b[0m\u001b[1;33m\u001b[0m\u001b[1;33m\u001b[0m\u001b[0m\n\u001b[0m",
      "\u001b[1;31mTypeError\u001b[0m: 'type' object is not subscriptable"
     ]
    }
   ],
   "source": [
    "print(tuple[1:3])# error code "
   ]
  },
  {
   "cell_type": "code",
   "execution_count": 11,
   "id": "7caa5e7e",
   "metadata": {},
   "outputs": [
    {
     "name": "stdout",
     "output_type": "stream",
     "text": [
      "0\n",
      "1\n",
      "2\n",
      "0\n"
     ]
    }
   ],
   "source": [
    "i = 0\n",
    "while i < 3: \n",
    "    print(i) \n",
    "    i += 1\n",
    "else: \n",
    "    print(0)"
   ]
  },
  {
   "cell_type": "code",
   "execution_count": 12,
   "id": "9a530945",
   "metadata": {},
   "outputs": [
    {
     "name": "stdout",
     "output_type": "stream",
     "text": [
      "('', 'cd', '')\n"
     ]
    }
   ],
   "source": [
    "print('cd'.partition('cd'))"
   ]
  },
  {
   "cell_type": "code",
   "execution_count": 13,
   "id": "07a5a405",
   "metadata": {},
   "outputs": [
    {
     "name": "stdout",
     "output_type": "stream",
     "text": [
      "abcefd\n"
     ]
    }
   ],
   "source": [
    "print('abcefd'.replace('cd', '12'))"
   ]
  },
  {
   "cell_type": "code",
   "execution_count": 14,
   "id": "1dec2439",
   "metadata": {},
   "outputs": [
    {
     "name": "stdout",
     "output_type": "stream",
     "text": [
      "3 44\n"
     ]
    }
   ],
   "source": [
    "def f(value, values):\n",
    "    v = 1\n",
    "    values[0] = 44\n",
    "t = 3\n",
    "v = [1, 2, 3]\n",
    "f(t, v)\n",
    "print(t, v[0])"
   ]
  },
  {
   "cell_type": "code",
   "execution_count": null,
   "id": "00c0db88",
   "metadata": {},
   "outputs": [],
   "source": []
  }
 ],
 "metadata": {
  "kernelspec": {
   "display_name": "Python 3",
   "language": "python",
   "name": "python3"
  },
  "language_info": {
   "codemirror_mode": {
    "name": "ipython",
    "version": 3
   },
   "file_extension": ".py",
   "mimetype": "text/x-python",
   "name": "python",
   "nbconvert_exporter": "python",
   "pygments_lexer": "ipython3",
   "version": "3.8.8"
  },
  "varInspector": {
   "cols": {
    "lenName": 16,
    "lenType": 16,
    "lenVar": 40
   },
   "kernels_config": {
    "python": {
     "delete_cmd_postfix": "",
     "delete_cmd_prefix": "del ",
     "library": "var_list.py",
     "varRefreshCmd": "print(var_dic_list())"
    },
    "r": {
     "delete_cmd_postfix": ") ",
     "delete_cmd_prefix": "rm(",
     "library": "var_list.r",
     "varRefreshCmd": "cat(var_dic_list()) "
    }
   },
   "types_to_exclude": [
    "module",
    "function",
    "builtin_function_or_method",
    "instance",
    "_Feature"
   ],
   "window_display": false
  }
 },
 "nbformat": 4,
 "nbformat_minor": 5
}
