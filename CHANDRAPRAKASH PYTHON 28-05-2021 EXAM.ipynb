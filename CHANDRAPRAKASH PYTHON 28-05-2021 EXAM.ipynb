{
 "cells": [
  {
   "cell_type": "code",
   "execution_count": 1,
   "id": "d00c981d",
   "metadata": {},
   "outputs": [],
   "source": [
    "import numpy as np"
   ]
  },
  {
   "cell_type": "code",
   "execution_count": 2,
   "id": "dd93ba50",
   "metadata": {},
   "outputs": [],
   "source": [
    "import pandas as pd"
   ]
  },
  {
   "cell_type": "code",
   "execution_count": 3,
   "id": "224f26c5",
   "metadata": {},
   "outputs": [
    {
     "name": "stdout",
     "output_type": "stream",
     "text": [
      "positive comments ['He is a good boy', 'He is an awesome player', 'She is the best', 'These burger are really nice']\n",
      "/n\n",
      "negative comments  ['Food is the worst here', 'This pizza tastes awful']\n"
     ]
    }
   ],
   "source": [
    "# . 1. Given below are a list of positive and negative words. Also a list of comments is provided. \n",
    "# Segregate the comments based on positive and negative sentiments.\n",
    "positive = ['good','awesome', 'best', 'nice']\n",
    "negative = ['worst','awful']\n",
    "comments = ['He is a good boy',\n",
    " 'Food is the worst here',\n",
    " 'He is an awesome player',\n",
    " 'She is the best',\n",
    " 'This pizza tastes awful',\n",
    " 'These burger are really nice']\n",
    "\n",
    "pos = []\n",
    "neg = []\n",
    "for sentence in comments:\n",
    "    for word in sentence.split(' '):\n",
    "        if word in positive:\n",
    "            pos.append(sentence)\n",
    "        elif word in negative:\n",
    "            neg.append(sentence)\n",
    "            \n",
    "print(\"positive comments\",pos)\n",
    "print(\"/n\")\n",
    "print(\"negative comments \",neg)"
   ]
  },
  {
   "cell_type": "code",
   "execution_count": 4,
   "id": "d0294c83",
   "metadata": {},
   "outputs": [
    {
     "name": "stdout",
     "output_type": "stream",
     "text": [
      "my values : 5\n",
      "25\n",
      "125\n",
      "2.23606797749979\n"
     ]
    }
   ],
   "source": [
    "# 2. Create a dictionary containing three lambda functions square, cube and square root.\n",
    "# Pass the values (input from the user) to the functions in the dictionary \n",
    "# respectively. Then add the outputs of each function and print it\n",
    "\n",
    "cp = eval(input(\"my values : \"))\n",
    "dictionary = {\"square function\": lambda x: x**2, \"cube function\" : lambda x: x**3 , \"squareroot\" :lambda x: x**(1/2)}\n",
    "\n",
    "for i in dictionary.values():\n",
    "    print(i(cp))\n"
   ]
  },
  {
   "cell_type": "code",
   "execution_count": 6,
   "id": "b2e83144",
   "metadata": {},
   "outputs": [
    {
     "name": "stdout",
     "output_type": "stream",
     "text": [
      "old fruits (('Lemon', 'sour'), ('DragonFruit', 'Sweet'), ('Grapes', 'soUr'), ('Kiwi', 'Sour'), ('Apples', 'sweet'), ('Orange', 'sour'), ('Blueberries', 'sweet'), ('Limes', 'Sour'))\n",
      "/n\n",
      "sour fruits ['Lemon', 'Grapes', 'Kiwi', 'Orange', 'Limes']\n"
     ]
    }
   ],
   "source": [
    "# 3. Find the fruits that are sour in taste from the tuple given below.\n",
    "fruits = (('Lemon','sour'),\n",
    " ('DragonFruit', 'Sweet'),\n",
    " ('Grapes','soUr'),\n",
    " ('Kiwi','Sour'),\n",
    " ('Apples','sweet'),\n",
    " ('Orange','sour'),\n",
    " ('Blueberries','sweet'),\n",
    " ('Limes','Sour')\n",
    ") \n",
    "\n",
    "print(\"old fruits\",fruits)\n",
    "print(\"/n\")\n",
    "new = []\n",
    "for i in fruits:\n",
    "    if i[1].lower()=='sour':\n",
    "        new.append(i[0])\n",
    "print(\"sour fruits\",new)"
   ]
  },
  {
   "cell_type": "code",
   "execution_count": 7,
   "id": "f55d8e6f",
   "metadata": {},
   "outputs": [
    {
     "name": "stdout",
     "output_type": "stream",
     "text": [
      "\n",
      "['hOw', 'ARe']\n"
     ]
    }
   ],
   "source": [
    "# 4. A list of words is given. Find the words from the list that have their \n",
    "# second character in uppercase.\n",
    "ls = ['hello', 'Dear', 'hOw', 'ARe', 'You']\n",
    "print()\n",
    "Output: ['hOw', 'ARe']\n",
    "    \n",
    "new_1 = []\n",
    "for char in ls:\n",
    "    if char[1].isupper():\n",
    "        new_1.append(char)\n",
    "print(new_1)\n",
    "\n",
    "\n"
   ]
  },
  {
   "cell_type": "code",
   "execution_count": 38,
   "id": "2b117920",
   "metadata": {},
   "outputs": [
    {
     "data": {
      "text/plain": [
       "{'John': 7.44, 'Shelly': 10.75, 'Marry': 5.79}"
      ]
     },
     "execution_count": 38,
     "metadata": {},
     "output_type": "execute_result"
    }
   ],
   "source": [
    "# 5. A dictionary of names and their weights on earth is given. Find how much they will weigh on the moon. (Use map and lambda functions)\n",
    "#Formula : wMoon = (wEarth * GMoon) / GEarth\n",
    "# Weight of people in kg\n",
    "#WeightOnEarth = {'John':45, 'Shelly':65, 'Marry':35} \n",
    "# Gravitational force on the Moon: 1.622 m/s2\n",
    "#GMoon = 1.622 \n",
    "# Gravitational force on the Earth: 9.81 m/s2\n",
    "#GEarth = 9.81 \n",
    "#Output: \n",
    "#Weight on Moon: {'John': 7.44, 'Shelly': 10.75, 'Marry': 5.79}\n",
    "d = {'John':45, 'Shelly':65, 'Marry':35} \n",
    "WeightOnEarth = {'John':45, 'Shelly':65, 'Marry':35}\n",
    "GMoon = 1.622\n",
    "GEarth = 9.81\n",
    "dict(map(lambda x : (x, round((WeightOnEarth[x]/GEarth)*GMoon, 2)), WeightOnEarth))\n"
   ]
  },
  {
   "cell_type": "code",
   "execution_count": 9,
   "id": "8575d93c",
   "metadata": {},
   "outputs": [
    {
     "name": "stdout",
     "output_type": "stream",
     "text": [
      "{'John': 7.44, 'Shelly': 10.75, 'Marry': 5.79}\n"
     ]
    }
   ],
   "source": [
    "\n",
    "calc_grav = lambda x: round((x / 9.81) * 1.622, 2)\n",
    "\n",
    "calc = lambda k: (k,  calc_grav(d[k]))\n",
    "\n",
    "r  = dict(calc(k) for k in d)\n",
    "\n",
    "print(r)"
   ]
  },
  {
   "cell_type": "code",
   "execution_count": 35,
   "id": "54f78515",
   "metadata": {},
   "outputs": [
    {
     "name": "stdout",
     "output_type": "stream",
     "text": [
      "output:  ['Maria', 'Hello', 'World', 'Merry', 'You']\n"
     ]
    }
   ],
   "source": [
    "# 6. Write a program to fetch the words from the given list which have their  first character in uppercase.\n",
    "\n",
    "namesList = ['santa Maria', 'Hello World','Merry christmas', 'tHank You']\n",
    "output = []\n",
    "for names in namesList:\n",
    "    for names in names.split():\n",
    "        if names[0].isupper():\n",
    "            output.append(names)\n",
    "print(\"output: \" , output)"
   ]
  },
  {
   "cell_type": "code",
   "execution_count": 19,
   "id": "9fb9e2c9",
   "metadata": {},
   "outputs": [],
   "source": [
    "from functools import reduce"
   ]
  },
  {
   "cell_type": "code",
   "execution_count": 24,
   "id": "bc01e1f9",
   "metadata": {},
   "outputs": [
    {
     "name": "stdout",
     "output_type": "stream",
     "text": [
      "[8, 3]\n"
     ]
    }
   ],
   "source": [
    "\n",
    "# 7. A list containing multiple lists is given. Convert each inner list into sets and find the intersection of all the sets.\n",
    "# Use reduce function.\n",
    "given_sets = [[1, 2, 3, 4, 8], [2, 3, 8, 5, 6], [8, 4, 5, 3, 7], [6, 9, 8, 3], [9, \n",
    "12, 3, 7, 6, 8, 4, 6, 21, 1, 6]]\n",
    "\n",
    "from functools import reduce\n",
    "\n",
    "res = list(reduce(lambda i, j: i & j, (set(n) for n in given_sets)))\n",
    "print(res)"
   ]
  },
  {
   "cell_type": "code",
   "execution_count": 1,
   "id": "ac329904",
   "metadata": {},
   "outputs": [
    {
     "name": "stdout",
     "output_type": "stream",
     "text": [
      "6.8\n"
     ]
    },
    {
     "data": {
      "text/plain": [
       "[9.0, 7.0, 7.0, 7.25, 6.8]"
      ]
     },
     "execution_count": 1,
     "metadata": {},
     "output_type": "execute_result"
    }
   ],
   "source": [
    "# 8. Find the cumulative average of the list [9,8,7,6,5] using accumulate()  and lambda function\n",
    "\n",
    "\n",
    "    \n",
    "import itertools\n",
    "import operator\n",
    "Input_List = [9, 5, 7, 8, 5]\n",
    "Output_List = itertools.accumulate(Input_List,operator.add)\n",
    "cnt = 0\n",
    "for i in Output_List:\n",
    "    cnt += 1\n",
    "    pass\n",
    "print(i/cnt)\n",
    "\n",
    "from itertools import accumulate\n",
    "I = [9, 5, 7, 8, 5]\n",
    "a = list(accumulate(I))\n",
    "list(map(lambda x: x/(a.index(x)+1),a))"
   ]
  },
  {
   "cell_type": "code",
   "execution_count": 37,
   "id": "2eb09ccf",
   "metadata": {},
   "outputs": [
    {
     "data": {
      "text/plain": [
       "['TRUE', 'FALSE', 'TRUE', 'TRUE', 'FALSE', 'FALSE']"
      ]
     },
     "execution_count": 37,
     "metadata": {},
     "output_type": "execute_result"
    }
   ],
   "source": [
    "# 9. A list of words is given. Convert the words into uppercase. Use lambda and map functions.\n",
    "\n",
    "lsbool = ['True','FALse','tRUe','tRue','False','faLse']\n",
    "\n",
    "\n",
    "upp = map(lambda x:x.upper(),lsbool)\n",
    "list(upp)\n"
   ]
  },
  {
   "cell_type": "code",
   "execution_count": null,
   "id": "dd3148e0",
   "metadata": {},
   "outputs": [],
   "source": [
    "converted_list = [x.upper() for x in lsbool]\n",
    "print(converted_list)\n"
   ]
  },
  {
   "cell_type": "code",
   "execution_count": null,
   "id": "061fa1cf",
   "metadata": {},
   "outputs": [],
   "source": []
  },
  {
   "cell_type": "code",
   "execution_count": 43,
   "id": "b38b879c",
   "metadata": {},
   "outputs": [
    {
     "data": {
      "text/plain": [
       "['1997', '2011', '1993', '2020']"
      ]
     },
     "execution_count": 43,
     "metadata": {},
     "output_type": "execute_result"
    }
   ],
   "source": [
    "# 10. A list of dates (dd-mm-yyyy) in the form of string is given below. \n",
    "# Create a new list that stores years i.e. the 'yyyy' part from the dates in  the given list.\n",
    "\n",
    "datesList = ['17-12-1997','22-04-2011','01-05-1993','19-06-2020']\n",
    "import datetime\n",
    "dat=[]\n",
    "for i in datesList: \n",
    "    dat.append(str(datetime.datetime.strptime(i,'%d-%m-%Y').year))\n",
    "dat\n"
   ]
  },
  {
   "cell_type": "code",
   "execution_count": 5,
   "id": "7e5c4bd8",
   "metadata": {},
   "outputs": [
    {
     "name": "stdout",
     "output_type": "stream",
     "text": [
      "enter how many numbers to perform5\n",
      "the number of 332\n",
      "maximum number in the lst 32\n"
     ]
    }
   ],
   "source": [
    "lst = []\n",
    "num = np.\n",
    "\n",
    "for x in num:\n",
    "    numers = input(\"the number of 3\")\n",
    "    lst.append(numers)\n",
    "print(\"maximum number in the lst\",max(lst))"
   ]
  },
  {
   "cell_type": "code",
   "execution_count": 8,
   "id": "84c173da",
   "metadata": {},
   "outputs": [
    {
     "name": "stdout",
     "output_type": "stream",
     "text": [
      "5\n"
     ]
    }
   ],
   "source": [
    "a = 2\n",
    "b = 3\n",
    "\n",
    "lambda x : a*b\n",
    "print(x)"
   ]
  },
  {
   "cell_type": "code",
   "execution_count": null,
   "id": "1596078d",
   "metadata": {},
   "outputs": [],
   "source": [
    "Select all records where the City column has the value 'Berlin' or 'London'.\n",
    "\n",
    "SELECT * FROM COUNRTY WHERE CITY = \"berlin\" or \"london\n",
    "\n",
    "\n",
    "Delete all the records from the Customers table where the Country value is 'Norway'.\"\n",
    "\n",
    "DELETE customers where country = \"norway\""
   ]
  },
  {
   "cell_type": "code",
   "execution_count": null,
   "id": "823e40c8",
   "metadata": {},
   "outputs": [],
   "source": [
    "number of customers in each country, ordered by the country with the most customers first\n",
    "\n",
    "SELECT DISTICT COUNTRY FROM TABLE WHERE (SELECT MAX(COUN))"
   ]
  }
 ],
 "metadata": {
  "kernelspec": {
   "display_name": "Python 3",
   "language": "python",
   "name": "python3"
  },
  "language_info": {
   "codemirror_mode": {
    "name": "ipython",
    "version": 3
   },
   "file_extension": ".py",
   "mimetype": "text/x-python",
   "name": "python",
   "nbconvert_exporter": "python",
   "pygments_lexer": "ipython3",
   "version": "3.8.8"
  },
  "varInspector": {
   "cols": {
    "lenName": 16,
    "lenType": 16,
    "lenVar": 40
   },
   "kernels_config": {
    "python": {
     "delete_cmd_postfix": "",
     "delete_cmd_prefix": "del ",
     "library": "var_list.py",
     "varRefreshCmd": "print(var_dic_list())"
    },
    "r": {
     "delete_cmd_postfix": ") ",
     "delete_cmd_prefix": "rm(",
     "library": "var_list.r",
     "varRefreshCmd": "cat(var_dic_list()) "
    }
   },
   "types_to_exclude": [
    "module",
    "function",
    "builtin_function_or_method",
    "instance",
    "_Feature"
   ],
   "window_display": false
  }
 },
 "nbformat": 4,
 "nbformat_minor": 5
}
