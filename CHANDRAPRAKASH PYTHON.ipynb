{
 "cells": [
  {
   "cell_type": "code",
   "execution_count": 3,
   "id": "8d5871fa",
   "metadata": {},
   "outputs": [],
   "source": [
    "import pandas as pd"
   ]
  },
  {
   "cell_type": "code",
   "execution_count": 4,
   "id": "5be6385f",
   "metadata": {},
   "outputs": [],
   "source": [
    "import numpy as np"
   ]
  },
  {
   "cell_type": "code",
   "execution_count": 3,
   "id": "6216b604",
   "metadata": {},
   "outputs": [
    {
     "name": "stdout",
     "output_type": "stream",
     "text": [
      "[2, 3, 5, 7, 11, 13, 17, 19, 23, 29, 31, 37, 41, 43, 47, 53, 59, 61, 67, 71, 73, 79, 83, 89, 97]\n"
     ]
    }
   ],
   "source": [
    "# 1 . Write a program using list comprehension to find primes in range 2 to 100\n",
    "primes = [i for i in range(2,100) if all(i%j != 0 for j in range(2, int(i ** 0.5) + 1))]\n",
    "print(primes)"
   ]
  },
  {
   "cell_type": "code",
   "execution_count": 4,
   "id": "054595cd",
   "metadata": {},
   "outputs": [
    {
     "name": "stdout",
     "output_type": "stream",
     "text": [
      "enter the string = chandru\n",
      "The original string is : chandru\n",
      "The reversed string(using recursion) is : urdnahc\n"
     ]
    }
   ],
   "source": [
    "# Q.2 Write a function to reverse a string.\n",
    "# Python code to reverse a string\n",
    "# using recursion\n",
    "s = str(input(\"enter the string = \"))\n",
    "# give input user chandraprakash\n",
    "def reverse(s):\n",
    "    if len(s) == 0:\n",
    "        return s\n",
    "    else:\n",
    "        return reverse(s[1:]) + s[0]\n",
    "\n",
    "print (\"The original string is : \",end=\"\")\n",
    "print (s)\n",
    "\n",
    "print (\"The reversed string(using recursion) is : \",end=\"\")\n",
    "print (reverse(s))\n"
   ]
  },
  {
   "cell_type": "code",
   "execution_count": 5,
   "id": "08c30f70",
   "metadata": {},
   "outputs": [
    {
     "name": "stdout",
     "output_type": "stream",
     "text": [
      "['Monday', 'Sunday', 'Saturday']\n"
     ]
    }
   ],
   "source": [
    "#3. write a program to extract the words from the given list which have their first character in uppercase.\n",
    "\n",
    "Days = ['Monday', 'tuesday','friday', 'Sunday', 'Saturday']\n",
    "Days\n",
    "# Output: ['Monday', 'Sunday', 'Saturday']\n",
    "    \n",
    "output = []\n",
    "for d in Days:\n",
    "    if d[0].isupper() == True:\n",
    "        output.append(d)\n",
    "print(output)\n"
   ]
  },
  {
   "cell_type": "code",
   "execution_count": 3,
   "id": "1ec7462b",
   "metadata": {},
   "outputs": [],
   "source": [
    "\n",
    "import datetime"
   ]
  },
  {
   "cell_type": "code",
   "execution_count": 4,
   "id": "0fb96218",
   "metadata": {},
   "outputs": [
    {
     "name": "stdout",
     "output_type": "stream",
     "text": [
      "['15-06-1997', '15-06-2011', '15-06-1993', '15-06-2020']\n"
     ]
    },
    {
     "data": {
      "text/plain": [
       "[1997, 2011, 1993, 2020]"
      ]
     },
     "execution_count": 4,
     "metadata": {},
     "output_type": "execute_result"
    }
   ],
   "source": [
    "# 4.Write a program to extract the year part from the dates in the given list.\n",
    "\n",
    "Batch = ['15-06-1997','15-06-2011','15-06-1993','15-06-2020']\n",
    "print(Batch)\n",
    "# Output: ['1997','2011','1993','2020']\n",
    "\n",
    "\n",
    "dat=[]\n",
    "for i in Batch: \n",
    "    dat.append(datetime.datetime.strptime(i,'%d-%m-%Y'))  \n",
    "year=[]\n",
    "for i in dat:\n",
    "    year.append(i.year)\n",
    "year"
   ]
  },
  {
   "cell_type": "code",
   "execution_count": 107,
   "id": "9e3af161",
   "metadata": {},
   "outputs": [
    {
     "name": "stdout",
     "output_type": "stream",
     "text": [
      "module : \n",
      "{'Data Science': 1, 'Machine Learning': 2, 'SQL': 3, 'Big Data': 4}\n",
      "\n",
      "Dictionary after swapping is :  \n",
      "keys: values\n",
      "1  :   Data Science\n",
      "2  :   Machine Learning\n",
      "3  :   SQL\n",
      "4  :   Big Data\n"
     ]
    }
   ],
   "source": [
    "# 5.write a program swap the keys to values and values to keys of the given dictionary\n",
    "\n",
    "\n",
    "Module = {'Data Science':1,'Machine Learning':2, 'SQL':3, 'Big Data':4}\n",
    "new_module = dict([(value, key) for key, value in Module.items()])\n",
    "print (\"module : \")\n",
    "print(Module) \n",
    "print()\n",
    "print (\"Dictionary after swapping is :  \") \n",
    "print(\"keys: values\")\n",
    "for i in new_module:\n",
    "    print(i, \" :  \", new_module[i])"
   ]
  },
  {
   "cell_type": "code",
   "execution_count": 1,
   "id": "61773af7",
   "metadata": {},
   "outputs": [
    {
     "name": "stdout",
     "output_type": "stream",
     "text": [
      "3.6\n"
     ]
    }
   ],
   "source": [
    "# Q.6 write a program to calculate the cumulative average of the given list using accumulate() and lambda function.\n",
    "\n",
    "\n",
    "def nums_cumulative_sum(nums_list):\n",
    "    return [sum(nums_list[:i+1]) for i in range(len(nums_list))]\n",
    "\n",
    "print(nums_cumulative_sum([5,2,1,4,6]))\n",
    "\n",
    "\n",
    "# or\n",
    "import itertools\n",
    "import operator\n",
    "Input_List = [5,2,1,4,6]\n",
    "Output_List = itertools.accumulate(Input_List,operator.add)\n",
    "cnt = 0\n",
    "for i in Output_List:\n",
    "    cnt += 1\n",
    "    pass\n",
    "print(i/cnt)\n",
    "\n"
   ]
  },
  {
   "cell_type": "code",
   "execution_count": 10,
   "id": "49a8c351",
   "metadata": {},
   "outputs": [
    {
     "name": "stdout",
     "output_type": "stream",
     "text": [
      "Enter the sentence: c    h   d \n",
      "c    h   d \n",
      "number of string in the given sentence : 2\n"
     ]
    }
   ],
   "source": [
    "#  7.Write a program to count the number of elements in the string (given by the user)\n",
    "#that are not present in the 'my_string'. \n",
    "#Do not count the white spaces\n",
    "\n",
    "sentence = input(\"Enter the sentence: \")\n",
    "string = sentence.lower() or sentence.upper()\n",
    "print(string)\n",
    "count = 0\n",
    "my_string = 'Data Science'\n",
    "for char in string:\n",
    "    if char not in my_string:\n",
    "        count = count + 1\n",
    "print(\"number of string in the given sentence :\",count)"
   ]
  },
  {
   "cell_type": "code",
   "execution_count": null,
   "id": "31abe154",
   "metadata": {
    "scrolled": true
   },
   "outputs": [],
   "source": [
    "#8. Define a function to check whether a number is in a range (1000,10000) or not\n",
    "\n",
    "def test_range(n):\n",
    "    if n in range(1000,10000):\n",
    "        print( \" %s is in the range\"%str(n))\n",
    "    else :\n",
    "        print(\" %s The number is outside the given range.\"%str(n))\n",
    "print(test_range(9586))\n",
    "print(test_range(986))\n"
   ]
  },
  {
   "cell_type": "code",
   "execution_count": 165,
   "id": "ac2bf0ef",
   "metadata": {
    "scrolled": true
   },
   "outputs": [
    {
     "name": "stdout",
     "output_type": "stream",
     "text": [
      "enter the number of rows6\n",
      "          1   \n",
      "        1   1   \n",
      "      1   2   1   \n",
      "    1   3   3   1   \n",
      "  1   4   6   4   1   \n",
      "1   5   10  10  5   1   \n"
     ]
    }
   ],
   "source": [
    "#9. Write a program to print pascal triangle upto 6 steps (using list)\n",
    "n = int(input(\"enter the number of rows\"))\n",
    "list1 = []\n",
    "for i in range(n):\n",
    "    temp_list=[]\n",
    "    for j in range(i+1):\n",
    "        if j==0 or j==i:\n",
    "            temp_list.append(1)\n",
    "        else:\n",
    "            temp_list.append(list1[i-1][j-1] + list1[i-1][j])\n",
    "    list1.append(temp_list)\n",
    "\n",
    "    \n",
    "for i in range(n):\n",
    "    for j in range(n-i-1):\n",
    "        print(format(\" \",\"<2\"),end=\"\")\n",
    "    for j in range(i+1):\n",
    "        print(format(list1[i][j],\"<3\"),end=\" \")\n",
    "    print()\n",
    "    "
   ]
  },
  {
   "cell_type": "code",
   "execution_count": 171,
   "id": "ee06eea3",
   "metadata": {},
   "outputs": [
    {
     "name": "stdout",
     "output_type": "stream",
     "text": [
      "su of all elemnets 104\n"
     ]
    }
   ],
   "source": [
    "#10.  Write a program to calculate the sum of all elements in the list.\n",
    "test_score = [10, 32, 23, 14, 25]\n",
    "\n",
    "total = 0\n",
    "\n",
    "for ele in range(0, len(test_score)):\n",
    "    total = total + test_score[ele]\n",
    "print(\"su of all elemnets\",total)"
   ]
  },
  {
   "cell_type": "code",
   "execution_count": 176,
   "id": "d39cb87b",
   "metadata": {},
   "outputs": [
    {
     "data": {
      "text/plain": [
       "array([210, 106, 125, 240])"
      ]
     },
     "execution_count": 176,
     "metadata": {},
     "output_type": "execute_result"
    }
   ],
   "source": [
    "# 11.Find the minimum value along each of the rows.\n",
    "\n",
    "Score = np.array([[210, 402, 383],\n",
    "[140, 375, 106],\n",
    "[140, 125, 217],\n",
    "[292, 240, 295]])\n",
    "Score\n",
    "\n",
    "Score.min(axis=1)"
   ]
  },
  {
   "cell_type": "code",
   "execution_count": 144,
   "id": "7cd16542",
   "metadata": {},
   "outputs": [
    {
     "name": "stdout",
     "output_type": "stream",
     "text": [
      "[ 0 21 -1 13 -1 45 -1 -1 -1 -1 65 -1 -1]\n"
     ]
    }
   ],
   "source": [
    "#12. Replace all even numbers in the array with -1.\n",
    "\n",
    "num_array = np.array([0, 21, 32, 13, 44, 45, 26, 28, 38, 34, 65, 48, 76])\n",
    "num_array\n",
    "\n",
    "print(np.array([x if ((x % 2 != 0) or (x==0)) else -1 for x in num_array]))\n",
    "\n",
    "#or"
   ]
  },
  {
   "cell_type": "code",
   "execution_count": 4,
   "id": "a28038e9",
   "metadata": {},
   "outputs": [],
   "source": [
    "import numpy as np"
   ]
  },
  {
   "cell_type": "code",
   "execution_count": 11,
   "id": "beac3fff",
   "metadata": {},
   "outputs": [
    {
     "name": "stdout",
     "output_type": "stream",
     "text": [
      "Original array:\n",
      "[   0    1    2 ... 1997 1998 1999]\n",
      "[1999]\n"
     ]
    }
   ],
   "source": [
    "x = np.arange(2000)\n",
    "print(\"Original array:\")\n",
    "print(x)\n",
    "np.random.shuffle(x)\n",
    "n = 1\n",
    "print (x[np.argsort(x)[-n:]])"
   ]
  },
  {
   "cell_type": "code",
   "execution_count": 13,
   "id": "533c7762",
   "metadata": {},
   "outputs": [
    {
     "name": "stdout",
     "output_type": "stream",
     "text": [
      "How many numbers: 5\n",
      "Enter number 6\n",
      "Enter number 7\n",
      "Enter number 8\n",
      "Enter number 9\n",
      "Enter number 2\n",
      "Maximum element in the list is : 9\n"
     ]
    }
   ],
   "source": [
    "lst = []\n",
    " \n",
    "num = int(input('How many numbers: '))\n",
    " \n",
    "for n in range(num):\n",
    "    numbers = int(input('Enter number '))\n",
    "    lst.append(numbers)\n",
    "     \n",
    "print(\"Maximum element in the list is :\", max(lst))"
   ]
  },
  {
   "cell_type": "code",
   "execution_count": 4,
   "id": "95b24c83",
   "metadata": {},
   "outputs": [
    {
     "name": "stdout",
     "output_type": "stream",
     "text": [
      "how many numbers want to compare : 5\n",
      "enter the numbers : 56\n",
      "enter the numbers : 56\n",
      "enter the numbers : 36\n",
      "enter the numbers : 153\n",
      "enter the numbers : 1021\n",
      "maximum number :  1021\n"
     ]
    }
   ],
   "source": [
    "lst = []\n",
    "num = int(input(\"how many numbers want to compare : \"))\n",
    "\n",
    "for x in range(num):\n",
    "    numbers = int(input(\"enter the numbers : \"))\n",
    "    lst.append(numbers)\n",
    "\n",
    "print(\"maximum number : \", max(lst))"
   ]
  },
  {
   "cell_type": "code",
   "execution_count": null,
   "id": "959e5b45",
   "metadata": {},
   "outputs": [],
   "source": []
  }
 ],
 "metadata": {
  "kernelspec": {
   "display_name": "Python 3",
   "language": "python",
   "name": "python3"
  },
  "language_info": {
   "codemirror_mode": {
    "name": "ipython",
    "version": 3
   },
   "file_extension": ".py",
   "mimetype": "text/x-python",
   "name": "python",
   "nbconvert_exporter": "python",
   "pygments_lexer": "ipython3",
   "version": "3.8.8"
  },
  "varInspector": {
   "cols": {
    "lenName": 16,
    "lenType": 16,
    "lenVar": 40
   },
   "kernels_config": {
    "python": {
     "delete_cmd_postfix": "",
     "delete_cmd_prefix": "del ",
     "library": "var_list.py",
     "varRefreshCmd": "print(var_dic_list())"
    },
    "r": {
     "delete_cmd_postfix": ") ",
     "delete_cmd_prefix": "rm(",
     "library": "var_list.r",
     "varRefreshCmd": "cat(var_dic_list()) "
    }
   },
   "types_to_exclude": [
    "module",
    "function",
    "builtin_function_or_method",
    "instance",
    "_Feature"
   ],
   "window_display": false
  }
 },
 "nbformat": 4,
 "nbformat_minor": 5
}
