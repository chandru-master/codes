{
 "cells": [
  {
   "cell_type": "markdown",
   "id": "8b20a418",
   "metadata": {},
   "source": [
    "# Python program to find the second largest number in a list\n"
   ]
  },
  {
   "cell_type": "code",
   "execution_count": 1,
   "id": "fe2ee635",
   "metadata": {},
   "outputs": [
    {
     "name": "stdout",
     "output_type": "stream",
     "text": [
      "original list :  [21, 32, 56, 64, 89, 37, 91]\n",
      "second largest number :  89\n"
     ]
    }
   ],
   "source": [
    "list1 = [21,32,56,64,89,37,91]\n",
    "print(\"original list : \", list1)\n",
    "new_list = set(list1)\n",
    "# to remove the largest of new element\n",
    "new_list.remove(max(new_list))\n",
    "# largest 2nd number\n",
    "print(\"second largest number : \", max(new_list))"
   ]
  },
  {
   "cell_type": "code",
   "execution_count": 3,
   "id": "d9ccdc71",
   "metadata": {},
   "outputs": [
    {
     "name": "stdout",
     "output_type": "stream",
     "text": [
      "original list :  [21, 32, 56, 64, 89, 37, 91]\n",
      "second largest number :  89\n"
     ]
    }
   ],
   "source": [
    "print(\"original list : \", list1)\n",
    "list1.sort()\n",
    "print(\"second largest number : \", list1[-2])"
   ]
  },
  {
   "cell_type": "code",
   "execution_count": 7,
   "id": "21bb6499",
   "metadata": {},
   "outputs": [
    {
     "name": "stdout",
     "output_type": "stream",
     "text": [
      "original list :  [21, 32, 37, 56, 64, 89, 91]\n",
      "maximum :  32\n",
      "minimum :  21\n",
      "second larget number :  89\n"
     ]
    }
   ],
   "source": [
    "print(\"original list : \", list1)\n",
    "\n",
    "max_ = max(list1[0],list1[1])\n",
    "second_max = min(list1[0],list1[1])\n",
    "print(\"maximum : \", max_)\n",
    "print(\"minimum : \", second_max)\n",
    "for i in range(2,len(list1)):\n",
    "    if list1[i]>max_:\n",
    "        second_max = max_\n",
    "        max_ = list1[i]\n",
    "    else:\n",
    "        if list1[i]>second_max:\n",
    "            second_max = list1[i]\n",
    "print(\"second larget number : \", str(second_max))"
   ]
  },
  {
   "cell_type": "markdown",
   "id": "de625c59",
   "metadata": {},
   "source": [
    "# Verify whether two arrays is equal or not python"
   ]
  },
  {
   "cell_type": "code",
   "execution_count": 38,
   "id": "a809e365",
   "metadata": {},
   "outputs": [
    {
     "name": "stdout",
     "output_type": "stream",
     "text": [
      "Yes\n"
     ]
    }
   ],
   "source": [
    "        # Python3 program to find given\n",
    "        # two array are equal or not\n",
    "\n",
    "        # Returns true if arr1[0..n-1] and\n",
    "        # arr2[0..m-1] contain same elements.\n",
    "\n",
    "\n",
    "        def areEqual(arr1, arr2, n, m):\n",
    "\n",
    "            # If lengths of array are not\n",
    "            # equal means array are not equal\n",
    "            if (n != m):\n",
    "                return False\n",
    "\n",
    "            # Sort both arrays\n",
    "            arr1.sort()\n",
    "            arr2.sort()\n",
    "\n",
    "            # Linearly compare elements\n",
    "            for i in range(0, n - 1):\n",
    "                if (arr1[i] != arr2[i]):\n",
    "                    return False\n",
    "\n",
    "            # If all elements were same.\n",
    "            return True\n",
    "\n",
    "\n",
    "        # Driver Code\n",
    "        arr1 = [3, 5, 2, 5, 2]\n",
    "        arr2 = [2, 3, 5, 5, 2]\n",
    "        n = len(arr1)\n",
    "        m = len(arr2)\n",
    "\n",
    "        if (areEqual(arr1, arr2, n, m)):\n",
    "            print(\"Yes\")\n",
    "        else:\n",
    "            print(\"No\")\n",
    "\n",
    "        # This code is contributed\n",
    "        # by Shivi_Aggarwal.\n"
   ]
  },
  {
   "cell_type": "code",
   "execution_count": 37,
   "id": "8a6ab757",
   "metadata": {
    "scrolled": true
   },
   "outputs": [
    {
     "name": "stdout",
     "output_type": "stream",
     "text": [
      "a[x] is equal to b[x]\n",
      "\n",
      "The tables are not equal\n",
      "\n"
     ]
    }
   ],
   "source": [
    "import numpy as np\n",
    "\n",
    "a = np.array([1, 2, 3])\n",
    "b = np.array([1, 3, 4])\n",
    "\n",
    "areEqual = True\n",
    "\n",
    "for x in range(0, a.size-1):\n",
    "        if a[x] != b[x]:\n",
    "                areEqual = False\n",
    "                break\n",
    "        else:\n",
    "               print(\"a[x] is equal to b[x]\\n\")\n",
    "\n",
    "if areEqual:\n",
    "        print(\"The tables are equal\\n\")\n",
    "else:\n",
    "        print(\"The tables are not equal\\n\")"
   ]
  },
  {
   "cell_type": "markdown",
   "id": "7550feca",
   "metadata": {},
   "source": [
    "# Python3 program to find the length of the longest balanced substring"
   ]
  },
  {
   "cell_type": "code",
   "execution_count": 39,
   "id": "9f7c462e",
   "metadata": {},
   "outputs": [
    {
     "name": "stdout",
     "output_type": "stream",
     "text": [
      "6\n"
     ]
    }
   ],
   "source": [
    "    # Python3 program to find the length of\n",
    "    # the longest balanced substring\n",
    "\n",
    "    # Function to check if a contains\n",
    "    # equal number of one and zeros or not\n",
    "    def isValid(p):\n",
    "\n",
    "        n = len(p)\n",
    "        c1 = 0\n",
    "        c0 = 0\n",
    "\n",
    "        for i in range(n):\n",
    "            if (p[i] == '0'):\n",
    "                c0 += 1\n",
    "            if (p[i] == '1'):\n",
    "                c1 += 1\n",
    "\n",
    "        if (c0 == c1):\n",
    "            return True\n",
    "        else:\n",
    "            return False\n",
    "\n",
    "    # Function to find the length of\n",
    "    # the longest balanced substring\n",
    "    def longestSub(s):\n",
    "\n",
    "        max_len = 0\n",
    "        n = len(s)\n",
    "\n",
    "        for i in range(n):\n",
    "            for j in range(i, n):\n",
    "                if (isValid(s[i : j - i + 1]) and\n",
    "                        max_len < j - i + 1):\n",
    "                    max_len = j - i + 1\n",
    "\n",
    "        return max_len\n",
    "\n",
    "    # Driver code\n",
    "    if __name__ == '__main__':\n",
    "\n",
    "        s = \"101001000\"\n",
    "\n",
    "        # Function call\n",
    "        print(longestSub(s))\n",
    "\n",
    "    # This code is contributed by mohit kumar 29\n"
   ]
  },
  {
   "cell_type": "markdown",
   "id": "d0cf22ad",
   "metadata": {},
   "source": [
    "# Elbow Method for optimal value of k in KMeans"
   ]
  },
  {
   "cell_type": "code",
   "execution_count": 1,
   "id": "a6361be2",
   "metadata": {},
   "outputs": [],
   "source": [
    "from sklearn.cluster import KMeans\n",
    "from sklearn import metrics\n",
    "from scipy.spatial.distance import cdist\n",
    "import numpy as np\n",
    "import matplotlib.pyplot as plt\n"
   ]
  },
  {
   "cell_type": "code",
   "execution_count": 3,
   "id": "0550356c",
   "metadata": {},
   "outputs": [
    {
     "data": {
      "text/plain": [
       "array([[3, 5],\n",
       "       [1, 4],\n",
       "       [1, 5],\n",
       "       [2, 6],\n",
       "       [1, 5],\n",
       "       [6, 8],\n",
       "       [6, 6],\n",
       "       [6, 7],\n",
       "       [5, 6],\n",
       "       [6, 7],\n",
       "       [7, 1],\n",
       "       [8, 2],\n",
       "       [9, 1],\n",
       "       [8, 2],\n",
       "       [9, 3],\n",
       "       [9, 2],\n",
       "       [8, 3]])"
      ]
     },
     "execution_count": 3,
     "metadata": {},
     "output_type": "execute_result"
    }
   ],
   "source": [
    "\n",
    "x1 = np.array([3, 1, 1, 2, 1, 6, 6, 6, 5, 6, 7, 8, 9, 8, 9, 9, 8])\n",
    "x2 = np.array([5, 4, 5, 6, 5, 8, 6, 7, 6, 7, 1, 2, 1, 2, 3, 2, 3])\n",
    "X = np.array(list(zip(x1, x2))).reshape(len(x1),2)\n",
    "X"
   ]
  },
  {
   "cell_type": "code",
   "execution_count": 4,
   "id": "6fb2e419",
   "metadata": {},
   "outputs": [
    {
     "data": {
      "image/png": "[encoded data removed]",
      "text/plain": [
       "<Figure size 432x288 with 1 Axes>"
      ]
     },
     "metadata": {
      "needs_background": "light"
     },
     "output_type": "display_data"
    }
   ],
   "source": [
    "# Visualizing the data\n",
    "plt.plot()\n",
    "plt.xlim([0, 10])\n",
    "plt.ylim([0, 10])\n",
    "plt.title('Dataset')\n",
    "plt.scatter(x1, x2)\n",
    "plt.show()"
   ]
  },
  {
   "cell_type": "markdown",
   "id": "2ebd459c",
   "metadata": {},
   "source": [
    "#     Distortion: It is calculated as the average of the squared distances from the     cluster centers of the respective clusters. Typically, the Euclidean distance   metric is used.\n",
    "\n",
    "# Inertia: It is the sum of squared distances of samples to their closest cluster center.\n",
    "\n",
    "\n",
    "# We iterate the values of k from 1 to 9 and calculate the values of distortions for each value of k and calculate the distortion and inertia for each value of k in the given range."
   ]
  },
  {
   "cell_type": "code",
   "execution_count": 6,
   "id": "47059f22",
   "metadata": {},
   "outputs": [
    {
     "name": "stderr",
     "output_type": "stream",
     "text": [
      "C:\\Users\\chandraprakash\\anaconda3\\lib\\site-packages\\sklearn\\cluster\\_kmeans.py:881: UserWarning: KMeans is known to have a memory leak on Windows with MKL, when there are less chunks than available threads. You can avoid it by setting the environment variable OMP_NUM_THREADS=1.\n",
      "  warnings.warn(\n",
      "C:\\Users\\chandraprakash\\anaconda3\\lib\\site-packages\\sklearn\\cluster\\_kmeans.py:881: UserWarning: KMeans is known to have a memory leak on Windows with MKL, when there are less chunks than available threads. You can avoid it by setting the environment variable OMP_NUM_THREADS=1.\n",
      "  warnings.warn(\n"
     ]
    }
   ],
   "source": [
    "distortions = []\n",
    "inertias = []\n",
    "mapping1 = {}\n",
    "mapping2 = {}\n",
    "\n",
    "K = range(1, 10)\n",
    "\n",
    "for k in K:\n",
    "    # Building and fitting the model\n",
    "    \n",
    "    kmeanModel = KMeans(n_clusters=k).fit(X)\n",
    "    kmeanModel.fit(X)\n",
    "\n",
    "    distortions.append(sum(np.min(cdist(X, kmeanModel.cluster_centers_,'euclidean'), axis=1)) / X.shape[0])\n",
    "    inertias.append(kmeanModel.inertia_)\n",
    "\n",
    "    mapping1[k] = sum(np.min(cdist(X, kmeanModel.cluster_centers_,'euclidean'), axis=1)) / X.shape[0]\n",
    "    mapping2[k] = kmeanModel.inertia_\n"
   ]
  },
  {
   "cell_type": "code",
   "execution_count": 7,
   "id": "420589df",
   "metadata": {},
   "outputs": [
    {
     "name": "stdout",
     "output_type": "stream",
     "text": [
      "1 : 3.4577032384495707\n",
      "2 : 1.7687413573405673\n",
      "3 : 0.8819889697423957\n",
      "4 : 0.7587138847606585\n",
      "5 : 0.6635212812400347\n",
      "6 : 0.5808803063754726\n",
      "7 : 0.5293957542883456\n",
      "8 : 0.42618267462691206\n",
      "9 : 0.35294117647058826\n"
     ]
    }
   ],
   "source": [
    "for key, val in mapping1.items():\n",
    "    print(f'{key} : {val}')\n"
   ]
  },
  {
   "cell_type": "code",
   "execution_count": 8,
   "id": "661f71ce",
   "metadata": {},
   "outputs": [
    {
     "data": {
      "image/png": "[encoded data removed]",
      "text/plain": [
       "<Figure size 432x288 with 1 Axes>"
      ]
     },
     "metadata": {
      "needs_background": "light"
     },
     "output_type": "display_data"
    }
   ],
   "source": [
    "plt.plot(K, distortions, 'bx-')\n",
    "plt.xlabel('Values of K')\n",
    "plt.ylabel('Distortion')\n",
    "plt.title('The Elbow Method using Distortion')\n",
    "plt.show()\n"
   ]
  },
  {
   "cell_type": "code",
   "execution_count": 9,
   "id": "28e1d14f",
   "metadata": {},
   "outputs": [
    {
     "name": "stdout",
     "output_type": "stream",
     "text": [
      "1 : 217.64705882352948\n",
      "2 : 68.42857142857142\n",
      "3 : 16.228571428571428\n",
      "4 : 12.695238095238095\n",
      "5 : 9.600000000000001\n",
      "6 : 7.166666666666665\n",
      "7 : 6.25\n",
      "8 : 4.083333333333334\n",
      "9 : 3.0\n"
     ]
    }
   ],
   "source": [
    "for key, val in mapping2.items():\n",
    "    print(f'{key} : {val}')\n"
   ]
  },
  {
   "cell_type": "code",
   "execution_count": 10,
   "id": "aaa410e6",
   "metadata": {},
   "outputs": [
    {
     "data": {
      "image/png": "[encoded data removed]",
      "text/plain": [
       "<Figure size 432x288 with 1 Axes>"
      ]
     },
     "metadata": {
      "needs_background": "light"
     },
     "output_type": "display_data"
    }
   ],
   "source": [
    "plt.plot(K, inertias, 'bx-')\n",
    "plt.xlabel('Values of K')\n",
    "plt.ylabel('Inertia')\n",
    "plt.title('The Elbow Method using Inertia')\n",
    "plt.show()\n"
   ]
  },
  {
   "cell_type": "code",
   "execution_count": null,
   "id": "25ab4e72",
   "metadata": {},
   "outputs": [],
   "source": []
  }
 ],
 "metadata": {
  "kernelspec": {
   "display_name": "Python 3",
   "language": "python",
   "name": "python3"
  },
  "language_info": {
   "codemirror_mode": {
    "name": "ipython",
    "version": 3
   },
   "file_extension": ".py",
   "mimetype": "text/x-python",
   "name": "python",
   "nbconvert_exporter": "python",
   "pygments_lexer": "ipython3",
   "version": "3.8.8"
  },
  "varInspector": {
   "cols": {
    "lenName": 16,
    "lenType": 16,
    "lenVar": 40
   },
   "kernels_config": {
    "python": {
     "delete_cmd_postfix": "",
     "delete_cmd_prefix": "del ",
     "library": "var_list.py",
     "varRefreshCmd": "print(var_dic_list())"
    },
    "r": {
     "delete_cmd_postfix": ") ",
     "delete_cmd_prefix": "rm(",
     "library": "var_list.r",
     "varRefreshCmd": "cat(var_dic_list()) "
    }
   },
   "types_to_exclude": [
    "module",
    "function",
    "builtin_function_or_method",
    "instance",
    "_Feature"
   ],
   "window_display": false
  }
 },
 "nbformat": 4,
 "nbformat_minor": 5
}
