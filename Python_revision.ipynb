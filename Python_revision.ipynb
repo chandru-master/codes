{
 "cells": [
  {
   "cell_type": "code",
   "execution_count": 1,
   "id": "2c1bb045",
   "metadata": {},
   "outputs": [],
   "source": [
    "import pandas as pd"
   ]
  },
  {
   "cell_type": "code",
   "execution_count": 2,
   "id": "1dcf25c1",
   "metadata": {},
   "outputs": [],
   "source": [
    "import numpy as np"
   ]
  },
  {
   "cell_type": "code",
   "execution_count": 3,
   "id": "2eb40f1d",
   "metadata": {},
   "outputs": [
    {
     "name": "stdout",
     "output_type": "stream",
     "text": [
      "int values : 5\n",
      "int values : 5\n",
      "20\n",
      "25\n"
     ]
    }
   ],
   "source": [
    "n = int(input(\"int values : \"))\n",
    "m = int(input(\"int values : \"))\n",
    "r = lambda a : a + 15\n",
    "print(r(n))\n",
    "r = lambda x, y : x * y\n",
    "print(r(n,m))"
   ]
  },
  {
   "cell_type": "code",
   "execution_count": 4,
   "id": "3c25ef0f",
   "metadata": {},
   "outputs": [
    {
     "name": "stdout",
     "output_type": "stream",
     "text": [
      "my values : 5\n",
      "10\n",
      "15\n",
      "20\n"
     ]
    }
   ],
   "source": [
    "cp = eval(input(\"my values : \"))\n",
    "dictionary = {\"square function\": lambda x: x*2, \"cube function\" : lambda x: x*3 , \"squareroot\" :lambda x: x*4}\n",
    "\n",
    "for i in dictionary.values():\n",
    "     print(i(cp))\n"
   ]
  },
  {
   "cell_type": "code",
   "execution_count": 5,
   "id": "8376fbbe",
   "metadata": {
    "scrolled": true
   },
   "outputs": [
    {
     "name": "stdout",
     "output_type": "stream",
     "text": [
      "9100 days, 0:00:00\n"
     ]
    }
   ],
   "source": [
    "from datetime import date\n",
    "a = date(1996,6,29)\n",
    "b = date.today()\n",
    "print(b-a)"
   ]
  },
  {
   "cell_type": "code",
   "execution_count": 6,
   "id": "e6717947",
   "metadata": {},
   "outputs": [
    {
     "data": {
      "text/plain": [
       "datetime.date(2021, 5, 29)"
      ]
     },
     "execution_count": 6,
     "metadata": {},
     "output_type": "execute_result"
    }
   ],
   "source": [
    "date.today()"
   ]
  },
  {
   "cell_type": "code",
   "execution_count": 4,
   "id": "7981e84e",
   "metadata": {},
   "outputs": [],
   "source": [
    "import datetime"
   ]
  },
  {
   "cell_type": "code",
   "execution_count": 5,
   "id": "58f10191",
   "metadata": {},
   "outputs": [
    {
     "name": "stdout",
     "output_type": "stream",
     "text": [
      "what is your birth year [yyyy]:1996\n",
      "what is your bith month [MM]:1\n",
      "what is your bith month [DD] : 21\n",
      "-129.61308345153935\n"
     ]
    }
   ],
   "source": [
    "def get_rajkiran_birthday():\n",
    "    year = eval(input(\"what is your birth year [yyyy]:\"))\n",
    "    month = eval(input(\"what is your bith month [MM]:\" ))\n",
    "    days = eval(input(\"what is your bith month [DD] : \"))\n",
    "    \n",
    "    birthday = datetime.datetime(year,month,days)\n",
    "    return birthday\n",
    "\n",
    "def calculate_dates(original_date,now):\n",
    "    date1 = now\n",
    "    date2 = datetime.datetime(now.year,original_date.month,original_date.day)\n",
    "    delta = date2 - date1\n",
    "    days = delta.total_seconds() /60/60/24\n",
    "    return days\n",
    "\n",
    "\n",
    "def show_info(self):\n",
    "    pass\n",
    "bd = get_rajkiran_birthday()\n",
    "now = datetime.datetime.now()\n",
    "chandru = calculate_dates(bd,now)\n",
    "print(chandru)"
   ]
  },
  {
   "cell_type": "code",
   "execution_count": 7,
   "id": "47cfd315",
   "metadata": {},
   "outputs": [
    {
     "name": "stdout",
     "output_type": "stream",
     "text": [
      "FROM MAIL_ID chandraprakash2194@gmail.com\n",
      "TO MAIL_ID :\"amazingraj@gmail.com\"\n",
      "amazingraj@gmail.com\n",
      "SUBJECTintership\n"
     ]
    },
    {
     "ename": "NameError",
     "evalue": "name 'intership' is not defined",
     "output_type": "error",
     "traceback": [
      "\u001b[1;31m---------------------------------------------------------------------------\u001b[0m",
      "\u001b[1;31mNameError\u001b[0m                                 Traceback (most recent call last)",
      "\u001b[1;32m<ipython-input-7-84f0d1527842>\u001b[0m in \u001b[0;36m<module>\u001b[1;34m\u001b[0m\n\u001b[0;32m      3\u001b[0m \u001b[0mTo\u001b[0m \u001b[1;33m=\u001b[0m \u001b[0meval\u001b[0m\u001b[1;33m(\u001b[0m\u001b[0minput\u001b[0m\u001b[1;33m(\u001b[0m\u001b[1;34m\"TO MAIL_ID :\"\u001b[0m\u001b[1;33m)\u001b[0m\u001b[1;33m)\u001b[0m\u001b[1;33m\u001b[0m\u001b[1;33m\u001b[0m\u001b[0m\n\u001b[0;32m      4\u001b[0m \u001b[0mprint\u001b[0m\u001b[1;33m(\u001b[0m\u001b[0mTo\u001b[0m\u001b[1;33m)\u001b[0m\u001b[1;33m\u001b[0m\u001b[1;33m\u001b[0m\u001b[0m\n\u001b[1;32m----> 5\u001b[1;33m \u001b[0mSub\u001b[0m \u001b[1;33m=\u001b[0m \u001b[0meval\u001b[0m\u001b[1;33m(\u001b[0m\u001b[0minput\u001b[0m\u001b[1;33m(\u001b[0m\u001b[1;34m\"SUBJECT\"\u001b[0m\u001b[1;33m)\u001b[0m\u001b[1;33m)\u001b[0m\u001b[1;33m\u001b[0m\u001b[1;33m\u001b[0m\u001b[0m\n\u001b[0m\u001b[0;32m      6\u001b[0m \u001b[0mprint\u001b[0m\u001b[1;33m(\u001b[0m\u001b[0mSub\u001b[0m\u001b[1;33m)\u001b[0m\u001b[1;33m\u001b[0m\u001b[1;33m\u001b[0m\u001b[0m\n\u001b[0;32m      7\u001b[0m \u001b[1;33m\u001b[0m\u001b[0m\n",
      "\u001b[1;32m<string>\u001b[0m in \u001b[0;36m<module>\u001b[1;34m\u001b[0m\n",
      "\u001b[1;31mNameError\u001b[0m: name 'intership' is not defined"
     ]
    }
   ],
   "source": [
    "From = \"chandraprakash2194@gmail.com\"\n",
    "print(\"FROM MAIL_ID\",From)\n",
    "To = eval(input(\"TO MAIL_ID :\"))\n",
    "print(To)\n",
    "Sub = eval(input(\"SUBJECT\"))\n",
    "print(Sub)\n",
    "\n"
   ]
  },
  {
   "cell_type": "code",
   "execution_count": 1,
   "id": "bcac786c",
   "metadata": {},
   "outputs": [
    {
     "name": "stdout",
     "output_type": "stream",
     "text": [
      "enter the 1st name : rajkiran\n",
      "enter the 2nd name : harini\n",
      "rajkiran\n",
      "harini\n",
      "jkra\n",
      "hi\n",
      "6\n",
      "relation between them M\n"
     ]
    }
   ],
   "source": [
    "name1 = str(input(\"enter the 1st name : \"))\n",
    "name2 = str(input(\"enter the 2nd name : \"))\n",
    "name1 = name1.replace(\" \",\"\")\n",
    "name2 = name2.replace(\" \",\"\")\n",
    "print(name1)\n",
    "print(name2)\n",
    "\n",
    "for i in name1:\n",
    "    for j in name2:\n",
    "        if i==j :\n",
    "            name1 = name1.replace(i,\"\",1)\n",
    "            name2 = name2.replace(j,\"\",1)\n",
    "            break\n",
    "print(name1)\n",
    "print(name2)        \n",
    "\n",
    "count = len(name1+name2)\n",
    "print(count)\n",
    "\n",
    "\n",
    "if count>0:\n",
    "    list1 = [\"F\",\"L\",\"A\",\"M\",\"E\",\"S\"]\n",
    "    while len(list1)>1:\n",
    "        c = count%len(list1)\n",
    "        s_index = c-1\n",
    "        if s_index>=0:\n",
    "            left = list1[:s_index]\n",
    "            right = list1[s_index+1:]\n",
    "            list1 = right+left\n",
    "        else:\n",
    "            list1 = list1[:len(list1)-1]\n",
    "    print(\"relation between them\",list1[0])"
   ]
  },
  {
   "cell_type": "code",
   "execution_count": 1,
   "id": "99e5a179",
   "metadata": {},
   "outputs": [
    {
     "name": "stdout",
     "output_type": "stream",
     "text": [
      "enter the value of N = 5\n",
      "enter the statement = hello world\n",
      "first out put 10\n",
      "second line : hello world\n"
     ]
    }
   ],
   "source": [
    "N = int(input(\"enter the value of N = \"))\n",
    "S = str(input(\"enter the statement = \"))\n",
    "n = N*2\n",
    "print(\"first out put\",n)\n",
    "print(\"second line :\",S)"
   ]
  },
  {
   "cell_type": "markdown",
   "id": "2bfb3111",
   "metadata": {},
   "source": [
    "3\n",
    "4 5 6 \n",
    "\n",
    "YES\n",
    "NO\n",
    "NO"
   ]
  },
  {
   "cell_type": "code",
   "execution_count": 2,
   "id": "95b1ee1a",
   "metadata": {},
   "outputs": [
    {
     "name": "stdout",
     "output_type": "stream",
     "text": [
      "29 is a prime number\n"
     ]
    }
   ],
   "source": [
    "# Program to check if a number is prime or not\n",
    "\n",
    "num = 29\n",
    "\n",
    "# To take input from the user\n",
    "#num = int(input(\"Enter a number: \"))\n",
    "\n",
    "# define a flag variable\n",
    "flag = False\n",
    "\n",
    "# prime numbers are greater than 1\n",
    "if num > 1:\n",
    "    # check for factors\n",
    "    for i in range(2, num):\n",
    "        if (num % i) == 0:\n",
    "            # if factor is found, set flag to True\n",
    "            flag = True\n",
    "            # break out of loop\n",
    "            break\n",
    "\n",
    "# check if flag is True\n",
    "if flag:\n",
    "    print(num, \"is not a prime number\")\n",
    "else:\n",
    "    print(num, \"is a prime number\")\n",
    "    "
   ]
  },
  {
   "cell_type": "code",
   "execution_count": 9,
   "id": "6e082a81",
   "metadata": {},
   "outputs": [
    {
     "name": "stdout",
     "output_type": "stream",
     "text": [
      "Prime numbers between 1 and 105 are:\n",
      
     ]
    }
   ],
   "source": [
    "# Python program to display all the prime numbers within an interval\n",
    "\n",
    "n = (1<n<105)\n",
    "print(\"Prime numbers between\", 1, \"and\", 105, \"are:\")\n",
    "\n",
    "for num in range(1,105):\n",
    "   # all prime numbers are greater than 1\n",
    "   if num > 1:\n",
    "        for i in range(2, num):\n",
    "            if (num % i) == 0:\n",
    "                break\n",
    "            else:\n",
    "                print(num)"
   ]
  },
  {
   "cell_type": "code",
   "execution_count": 13,
   "id": "0ed3b54f",
   "metadata": {
    "code_folding": []
   },
   "outputs": [
    {
     "name": "stdout",
     "output_type": "stream",
     "text": [
      "False is a prime number\n"
     ]
    }
   ],
   "source": [
    "# Python program to check if\n",
    "# given number is prime or not\n",
    "\n",
    "\n",
    "\n",
    "# If given number is greater than 1\n",
    "if num > 1 or num < 105:\n",
    "\n",
    "\t# Iterate from 2 to n / 2\n",
    "\tfor i in range(2, int(num/2)+1):\n",
    "\n",
    "\t\t# If num is divisible by any number between\n",
    "\t\t# 2 and n / 2, it is not prime\n",
    "\t\tif (num % i) == 0:\n",
    "\t\t\tprint(num, \"is not a prime number\")\n",
    "\t\t\tbreak\n",
    "\telse:\n",
    "\t\tprint(num, \"is a prime number\")\n",
    "\n",
    "else:\n",
    "\tprint(num, \"is not a prime number\")\n"
   ]
  },
  {
   "cell_type": "code",
   "execution_count": 14,
   "id": "62979b80",
   "metadata": {},
   "outputs": [
    {
     "name": "stdout",
     "output_type": "stream",
     "text": [
      "[1, 2, 3, 5, 7, 11, 13, 17, 19, 23, 29, 31, 37, 41, 43, 47, 53, 59, 61, 67, 71, 73, 79, 83, 89, 97, 101, 103]\n"
     ]
    }
   ],
   "source": [
    "# 1 . Write a program using list comprehension to find primes in range 2 to 100\n",
    "primes = [i for i in range(1,105) if all(i%j != 0 for j in range(2, int(i ** 0.5) + 1))]\n",
    "print(primes)"
   ]
  },
  {
   "cell_type": "code",
   "execution_count": null,
   "id": "15e99468",
   "metadata": {},
   "outputs": [],
   "source": []
  }
 ],
 "metadata": {
  "kernelspec": {
   "display_name": "Python 3",
   "language": "python",
   "name": "python3"
  },
  "language_info": {
   "codemirror_mode": {
    "name": "ipython",
    "version": 3
   },
   "file_extension": ".py",
   "mimetype": "text/x-python",
   "name": "python",
   "nbconvert_exporter": "python",
   "pygments_lexer": "ipython3",
   "version": "3.8.8"
  },
  "varInspector": {
   "cols": {
    "lenName": 16,
    "lenType": 16,
    "lenVar": 40
   },
   "kernels_config": {
    "python": {
     "delete_cmd_postfix": "",
     "delete_cmd_prefix": "del ",
     "library": "var_list.py",
     "varRefreshCmd": "print(var_dic_list())"
    },
    "r": {
     "delete_cmd_postfix": ") ",
     "delete_cmd_prefix": "rm(",
     "library": "var_list.r",
     "varRefreshCmd": "cat(var_dic_list()) "
    }
   },
   "types_to_exclude": [
    "module",
    "function",
    "builtin_function_or_method",
    "instance",
    "_Feature"
   ],
   "window_display": false
  }
 },
 "nbformat": 4,
 "nbformat_minor": 5
}
