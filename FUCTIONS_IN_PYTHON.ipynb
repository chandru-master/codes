{
 "cells": [
  {
   "cell_type": "code",
   "execution_count": 1,
   "id": "e9504cd6",
   "metadata": {},
   "outputs": [
    {
     "name": "stdout",
     "output_type": "stream",
     "text": [
      "56\n"
     ]
    }
   ],
   "source": [
    "# Write a Python function to find the Max of three numbers.\n",
    "\n",
    "def max_of_two (x,y):\n",
    "    if x > y:\n",
    "        return x\n",
    "    return y\n",
    "def max_of_three (x,y,z):\n",
    "    return max_of_two(x,max_of_two(y,z))\n",
    "print(max_of_three(5,-1,56))"
   ]
  },
  {
   "cell_type": "code",
   "execution_count": 70,
   "id": "3882e4bf",
   "metadata": {},
   "outputs": [
    {
     "name": "stdout",
     "output_type": "stream",
     "text": [
      "number need pass :1,2,3,4\n",
      "10\n",
      "24\n"
     ]
    }
   ],
   "source": [
    "# Write a Python function to sum all the numbers in a list.\n",
    "numbers = eval(input(\"number need pass :\"))\n",
    "def sum(numbers):\n",
    "    total = 0\n",
    "    for x in numbers:\n",
    "        total += x\n",
    "    return total\n",
    "print(sum(numbers))\n",
    "# Write a Python function to multiply all the numbers in a list.\n",
    "def mul(numbers):\n",
    "    total = 1\n",
    "    for x in numbers:\n",
    "        total *= x\n",
    "    return total\n",
    "print(mul(numbers))"
   ]
  },
  {
   "cell_type": "code",
   "execution_count": 71,
   "id": "c7f73b32",
   "metadata": {},
   "outputs": [
    {
     "name": "stdout",
     "output_type": "stream",
     "text": [
      "urdnahc\n"
     ]
    }
   ],
   "source": [
    "# Write a Python program to reverse a string.\n",
    "\n",
    "def string_reverse(str1):\n",
    "    restr1 = ''\n",
    "    index = len(str1)\n",
    "    while index > 0:\n",
    "        restr1 += str1[ index - 1]\n",
    "        index = index -1\n",
    "    return restr1\n",
    "print(string_reverse('chandru'))\n"
   ]
  },
  {
   "cell_type": "code",
   "execution_count": 72,
   "id": "189d24ed",
   "metadata": {},
   "outputs": [
    {
     "name": "stdout",
     "output_type": "stream",
     "text": [
      "Input a number to compute the factiorial : 5\n",
      "120\n"
     ]
    }
   ],
   "source": [
    "# factorial program funtion\n",
    "def factorial(n):\n",
    "    if n == 0:\n",
    "        return 1\n",
    "    else:\n",
    "        return n * factorial(n-1)\n",
    "n=int(input(\"Input a number to compute the factiorial : \"))\n",
    "print(factorial(n))\n"
   ]
  },
  {
   "cell_type": "code",
   "execution_count": 73,
   "id": "c3978cd6",
   "metadata": {},
   "outputs": [
    {
     "name": "stdout",
     "output_type": "stream",
     "text": [
      "number which need to pass : 5\n",
      "5 is in the range\n"
     ]
    }
   ],
   "source": [
    "# the given number is in the range or not\n",
    "m = eval(input(\"number which need to pass : \"))\n",
    "def test_range(m):\n",
    "    if m in range(5,10):\n",
    "        print(\"%s is in the range\" %str(m))\n",
    "    else:\n",
    "        print(\"given number is in outside the range\")\n",
    "test_range(m)"
   ]
  },
  {
   "cell_type": "code",
   "execution_count": 75,
   "id": "3c65120f",
   "metadata": {},
   "outputs": [
    {
     "name": "stdout",
     "output_type": "stream",
     "text": [
      "Enter the words :\"chandraPRAKASH\"\n",
      "the given chandraPRAKASH\n",
      "the uppercase:  7\n",
      "the lowercase:  7\n"
     ]
    }
   ],
   "source": [
    "# Write a Python function that accepts a string and calculate the number of upper case letters and lower case letters.\n",
    "s = eval(input(\"Enter the words :\"))\n",
    "def string_test(s):\n",
    "    d = {\"UPPER_CASE\":0,\"LOWER_CASE\":0}\n",
    "    for c in s:\n",
    "        if c.isupper():\n",
    "            d[\"UPPER_CASE\"] +=1\n",
    "        elif c.islower():\n",
    "            d[\"LOWER_CASE\"] +=1\n",
    "        else:\n",
    "            pass\n",
    "    print(\"the given\",s)\n",
    "    print(\"the uppercase: \",d[\"UPPER_CASE\"])\n",
    "    print(\"the lowercase: \",d[\"LOWER_CASE\"])\n",
    "        \n",
    "\n",
    "string_test(s)\n"
   ]
  },
  {
   "cell_type": "code",
   "execution_count": 76,
   "id": "c615259d",
   "metadata": {},
   "outputs": [
    {
     "name": "stdout",
     "output_type": "stream",
     "text": [
      "[1, 2, 3, 4, 5, 6]\n"
     ]
    }
   ],
   "source": [
    "# Write a Python function that takes a list and returns a new list with unique elements of the first list\n",
    "L = [1,2,3,3,3,3,4,4,5,6]\n",
    "\n",
    "def unique_list(L):\n",
    "    x = []\n",
    "    for a in L:\n",
    "        if a not in x:\n",
    "            x.append(a)\n",
    "    return x\n",
    "print(unique_list(L))"
   ]
  },
  {
   "cell_type": "code",
   "execution_count": 77,
   "id": "88a5ae3a",
   "metadata": {},
   "outputs": [
    {
     "name": "stdout",
     "output_type": "stream",
     "text": [
      "enter the number :37\n",
      "True\n"
     ]
    }
   ],
   "source": [
    "# prime number or not:\n",
    "p = int(input(\"enter the number :\"))\n",
    "def prime_number(p):\n",
    "    if (p==1):\n",
    "        return False\n",
    "    elif (p==2):\n",
    "        return True;\n",
    "    else:\n",
    "        for x in range(2,p):\n",
    "            if(p % x==0):\n",
    "                return False\n",
    "        return True\n",
    "print(prime_number(p))"
   ]
  },
  {
   "cell_type": "code",
   "execution_count": 78,
   "id": "00a8346a",
   "metadata": {},
   "outputs": [
    {
     "name": "stdout",
     "output_type": "stream",
     "text": [
      "[2, 4, 4, 6]\n"
     ]
    }
   ],
   "source": [
    "# to find the even number in the list:\n",
    "def is_even_num(l):\n",
    "    enum = []\n",
    "    for n in L:\n",
    "        if n % 2==0:\n",
    "            enum.append(n)\n",
    "    return enum\n",
    "print(is_even_num([1, 2, 3, 4, 5, 6, 7, 8, 9]))\n"
   ]
  },
  {
   "cell_type": "markdown",
   "id": "b642a0c5",
   "metadata": {},
   "source": [
    "# N LARGEST AND SMALLEST AND SUM AND AVERAGE NUMBERS"
   ]
  },
  {
   "cell_type": "code",
   "execution_count": 2,
   "id": "81c2c9f1",
   "metadata": {},
   "outputs": [
    {
     "name": "stdout",
     "output_type": "stream",
     "text": [
      "enter the number of elements: 5\n",
      "enther the numbers: 223\n",
      "enther the numbers: 554\n",
      "enther the numbers: 554\n",
      "enther the numbers: 454\n",
      "enther the numbers: 54\n",
      "sum of numbers in list 1839\n",
      "Maximum numbers of list 554\n",
      "Minimum numbers of list 54\n",
      "average numbers of list 367.8\n"
     ]
    }
   ],
   "source": [
    "n = int(input(\"enter the number of elements: \"))\n",
    "lis = list()\n",
    "for x in range(n):\n",
    "    nums = int(input(\"enther the numbers: \"))\n",
    "    lis.append(nums)\n",
    "    \n",
    "\n",
    "Sum = sum(lis)\n",
    "Max = max(lis)\n",
    "Min = min(lis)\n",
    "Avg = sum(lis)/len(lis)\n",
    "\n",
    "print(\"sum of numbers in list\",Sum)\n",
    "print(\"Maximum numbers of list\",Max)\n",
    "print(\"Minimum numbers of list\",Min)\n",
    "print(\"average numbers of list\",Avg)"
   ]
  },
  {
   "cell_type": "markdown",
   "id": "3370ee92",
   "metadata": {},
   "source": [
    "# lambda function to multiply 2 numbers :"
   ]
  },
  {
   "cell_type": "code",
   "execution_count": 3,
   "id": "35951714",
   "metadata": {},
   "outputs": [
    {
     "name": "stdout",
     "output_type": "stream",
     "text": [
      "6\n"
     ]
    }
   ],
   "source": [
    "li = lambda a,b:a*b\n",
    "\n",
    "print(li(2,3))"
   ]
  },
  {
   "cell_type": "markdown",
   "id": "8bae9a80",
   "metadata": {},
   "source": [
    "# sql"
   ]
  },
  {
   "cell_type": "code",
   "execution_count": null,
   "id": "b7cf3c6d",
   "metadata": {},
   "outputs": [],
   "source": [
    "SELECT *\n",
    "FROM table_name\n",
    "WHERE condition;"
   ]
  },
  {
   "cell_type": "code",
   "execution_count": null,
   "id": "a6f7a96d",
   "metadata": {},
   "outputs": [],
   "source": [
    "SELECT * FROM Customers\n",
    "ORDER BY Country;"
   ]
  },
  {
   "cell_type": "code",
   "execution_count": null,
   "id": "aa852f89",
   "metadata": {},
   "outputs": [],
   "source": [
    "SELECT COUNT(ProductID)\n",
    "FROM Products;"
   ]
  },
  {
   "cell_type": "code",
   "execution_count": null,
   "id": "3ffb9bb9",
   "metadata": {},
   "outputs": [],
   "source": [
    "DELETE FROM table_name;"
   ]
  },
  {
   "cell_type": "markdown",
   "id": "33b06fa3",
   "metadata": {},
   "source": [
    "# statistic question"
   ]
  },
  {
   "cell_type": "code",
   "execution_count": null,
   "id": "557ef119",
   "metadata": {},
   "outputs": [],
   "source": [
    "# normal distribution : natural occurs and normally disrtibuted values\n",
    "Heights of people.\n",
    "Measurement errors.\n",
    "Blood pressure.\n",
    "Points on a test.\n",
    "IQ scores.\n",
    "Salaries."
   ]
  },
  {
   "cell_type": "markdown",
   "id": "5b364b5a",
   "metadata": {},
   "source": [
    "# difference between co va and variance:\n",
    "\n",
    "\n",
    "In statistics, a variance is the spread of a data set around its mean value, \n",
    "while a covariance is the measure of the directional relationship between two random variables."
   ]
  },
  {
   "cell_type": "markdown",
   "id": "50c0069a",
   "metadata": {},
   "source": [
    "# t test and anova:\n"
   ]
  },
  {
   "cell_type": "markdown",
   "id": "6b33c48d",
   "metadata": {},
   "source": [
    "What are they? The t-test is a method that determines whether two populations are statistically different \n",
    "from each other, whereas ANOVA determines whether three or more populations are statistically different from each other.\n",
    "Both of them look at the difference in means and the spread of the distributions (i.e., variance) across groups; \n",
    "however, the ways that they determine the statistical significance are different.\n",
    "\n",
    "When are they used? These tests are performed when 1) the samples are independent of each other \n",
    "2) have (approximately) normal distributions or when the sample number is high (e.g., > 30 per group).\n",
    "More samples are better, but the tests can be performed with as little as 3 samples per condition\n",
    "\n",
    "# sample < 30 t test"
   ]
  },
  {
   "cell_type": "code",
   "execution_count": null,
   "id": "80ecd75d",
   "metadata": {},
   "outputs": [],
   "source": []
  }
 ],
 "metadata": {
  "kernelspec": {
   "display_name": "Python 3",
   "language": "python",
   "name": "python3"
  },
  "language_info": {
   "codemirror_mode": {
    "name": "ipython",
    "version": 3
   },
   "file_extension": ".py",
   "mimetype": "text/x-python",
   "name": "python",
   "nbconvert_exporter": "python",
   "pygments_lexer": "ipython3",
   "version": "3.8.8"
  },
  "varInspector": {
   "cols": {
    "lenName": 16,
    "lenType": 16,
    "lenVar": 40
   },
   "kernels_config": {
    "python": {
     "delete_cmd_postfix": "",
     "delete_cmd_prefix": "del ",
     "library": "var_list.py",
     "varRefreshCmd": "print(var_dic_list())"
    },
    "r": {
     "delete_cmd_postfix": ") ",
     "delete_cmd_prefix": "rm(",
     "library": "var_list.r",
     "varRefreshCmd": "cat(var_dic_list()) "
    }
   },
   "types_to_exclude": [
    "module",
    "function",
    "builtin_function_or_method",
    "instance",
    "_Feature"
   ],
   "window_display": false
  }
 },
 "nbformat": 4,
 "nbformat_minor": 5
}
