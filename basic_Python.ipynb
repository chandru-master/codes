{
 "cells": [
  {
   "cell_type": "code",
   "execution_count": 1,
   "id": "93e35b48",
   "metadata": {},
   "outputs": [],
   "source": [
    "a = range(1,11)"
   ]
  },
  {
   "cell_type": "code",
   "execution_count": 2,
   "id": "1b727eeb",
   "metadata": {},
   "outputs": [
    {
     "data": {
      "text/plain": [
       "range(1, 11)"
      ]
     },
     "execution_count": 2,
     "metadata": {},
     "output_type": "execute_result"
    }
   ],
   "source": [
    "a"
   ]
  },
  {
   "cell_type": "code",
   "execution_count": 3,
   "id": "6961f470",
   "metadata": {},
   "outputs": [
    {
     "data": {
      "text/plain": [
       "[1, 2, 3, 4, 5, 6, 7, 8, 9, 10]"
      ]
     },
     "execution_count": 3,
     "metadata": {},
     "output_type": "execute_result"
    }
   ],
   "source": [
    "list(a)"
   ]
  },
  {
   "cell_type": "code",
   "execution_count": 1,
   "id": "3e82cee4",
   "metadata": {},
   "outputs": [
    {
     "name": "stdout",
     "output_type": "stream",
     "text": [
      "1\n",
      "2\n",
      "3\n",
      "4\n",
      "5\n",
      "6\n",
      "7\n",
      "8\n",
      "9\n",
      "10\n"
     ]
    }
   ],
   "source": [
    "for i in range(1,11):\n",
    "    print(i)\n",
    " "
   ]
  },
  {
   "cell_type": "code",
   "execution_count": 9,
   "id": "31d90d75",
   "metadata": {},
   "outputs": [
    {
     "name": "stdout",
     "output_type": "stream",
     "text": [
      "chandru\n",
      "chandru\n",
      "chandru\n",
      "chandru\n",
      "chandru\n",
      "chandru\n",
      "chandru\n",
      "chandru\n",
      "chandru\n",
      "chandru\n"
     ]
    }
   ],
   "source": [
    "for i in range(1,11):\n",
    "    print('chandru')\n",
    " "
   ]
  },
  {
   "cell_type": "code",
   "execution_count": 15,
   "id": "07891ed4",
   "metadata": {},
   "outputs": [
    {
     "name": "stdout",
     "output_type": "stream",
     "text": [
      "chandru chandru chandru chandru chandru chandru chandru chandru chandru chandru "
     ]
    }
   ],
   "source": [
    "for i in range(1,11):\n",
    "    print('chandru', end=' ')\n",
    " "
   ]
  },
  {
   "cell_type": "code",
   "execution_count": 16,
   "id": "8d7ca4cc",
   "metadata": {},
   "outputs": [
    {
     "name": "stdout",
     "output_type": "stream",
     "text": [
      "chandru/t/nchandru/t/nchandru/t/nchandru/t/nchandru/t/nchandru/t/nchandru/t/nchandru/t/nchandru/t/nchandru/t/n"
     ]
    }
   ],
   "source": [
    "for i in range(1,11):\n",
    "    print('chandru', end='/t/n')\n",
    " "
   ]
  },
  {
   "cell_type": "code",
   "execution_count": 17,
   "id": "afbd5842",
   "metadata": {},
   "outputs": [],
   "source": [
    "a = []\n",
    "for i in range(1,11):\n",
    "    a.append(i)\n"
   ]
  },
  {
   "cell_type": "code",
   "execution_count": 18,
   "id": "3f439da0",
   "metadata": {},
   "outputs": [
    {
     "data": {
      "text/plain": [
       "[1, 2, 3, 4, 5, 6, 7, 8, 9, 10]"
      ]
     },
     "execution_count": 18,
     "metadata": {},
     "output_type": "execute_result"
    }
   ],
   "source": [
    "a"
   ]
  },
  {
   "cell_type": "code",
   "execution_count": 19,
   "id": "147cbb9e",
   "metadata": {},
   "outputs": [
    {
     "name": "stdout",
     "output_type": "stream",
     "text": [
      "enter the value of a =9\n",
      "enter the value of b =5\n",
      "multiplication of both =  45\n"
     ]
    }
   ],
   "source": [
    "a = int(input('enter the value of a ='))\n",
    "b = int(input('enter the value of b ='))\n",
    "c = a * b \n",
    "print('multiplication of both = ',c)\n",
    "\n"
   ]
  },
  {
   "cell_type": "code",
   "execution_count": null,
   "id": "3fcaf2fc",
   "metadata": {},
   "outputs": [],
   "source": [
    "a = eval(input('enter the value of a ='))\n",
    "b = eval(input('enter the value of b ='))\n",
    "c = a * b \n",
    "print('multiplication of both = ',c)\n",
    "\n"
   ]
  },
  {
   "cell_type": "code",
   "execution_count": null,
   "id": "6964af5e",
   "metadata": {},
   "outputs": [],
   "source": [
    "##eval is tha advanced keyword which is used for int,float,string "
   ]
  },
  {
   "cell_type": "code",
   "execution_count": 6,
   "id": "9b2cd648",
   "metadata": {},
   "outputs": [
    {
     "name": "stdout",
     "output_type": "stream",
     "text": [
      "enter the posiible value :1\n",
      "enter the posiible value :2\n",
      "enter the posiible value :5\n",
      "enter the posiible value :6\n",
      "enter the posiible value :5\n"
     ]
    }
   ],
   "source": [
    "a = []\n",
    "for i in range (1,6):\n",
    "    b = eval(input('enter the posiible value :'))\n",
    "    a.append(b)"
   ]
  },
  {
   "cell_type": "code",
   "execution_count": 14,
   "id": "711ae844",
   "metadata": {},
   "outputs": [
    {
     "name": "stdout",
     "output_type": "stream",
     "text": [
      "[1, 2, 5, 6, 5]\n"
     ]
    }
   ],
   "source": [
    "print(a)"
   ]
  },
  {
   "cell_type": "code",
   "execution_count": 20,
   "id": "febab494",
   "metadata": {},
   "outputs": [
    {
     "name": "stdout",
     "output_type": "stream",
     "text": [
      "position of 6 is 3\n"
     ]
    }
   ],
   "source": [
    "for i in a:\n",
    "    if i==6:\n",
    "        print('position of %i is %i'%(i,a.index(i)))\n",
    "    else:\n",
    "        continue\n",
    "  "
   ]
  },
  {
   "cell_type": "code",
   "execution_count": 19,
   "id": "e4ab19f1",
   "metadata": {},
   "outputs": [
    {
     "name": "stdout",
     "output_type": "stream",
     "text": [
      "index of 5 2\n"
     ]
    }
   ],
   "source": [
    "index = a.index(5)\n",
    "print('index of 5',index)"
   ]
  },
  {
   "cell_type": "code",
   "execution_count": 21,
   "id": "8052effd",
   "metadata": {},
   "outputs": [
    {
     "name": "stdout",
     "output_type": "stream",
     "text": [
      "Collecting pydataset\n",
      "  Downloading pydataset-0.2.0.tar.gz (15.9 MB)\n",
      "Requirement already satisfied: pandas in c:\\users\\chandraprakash\\anaconda3\\lib\\site-packages (from pydataset) (1.2.4)\n",
      "Requirement already satisfied: python-dateutil>=2.7.3 in c:\\users\\chandraprakash\\anaconda3\\lib\\site-packages (from pandas->pydataset) (2.8.1)\n",
      "Requirement already satisfied: numpy>=1.16.5 in c:\\users\\chandraprakash\\anaconda3\\lib\\site-packages (from pandas->pydataset) (1.20.1)\n",
      "Requirement already satisfied: pytz>=2017.3 in c:\\users\\chandraprakash\\anaconda3\\lib\\site-packages (from pandas->pydataset) (2021.1)\n",
      "Requirement already satisfied: six>=1.5 in c:\\users\\chandraprakash\\anaconda3\\lib\\site-packages (from python-dateutil>=2.7.3->pandas->pydataset) (1.15.0)\n",
      "Building wheels for collected packages: pydataset\n",
      "  Building wheel for pydataset (setup.py): started\n",
      "  Building wheel for pydataset (setup.py): finished with status 'done'\n",
      "  Created wheel for pydataset: filename=pydataset-0.2.0-py3-none-any.whl size=15939431 sha256=bc4418afa3620bf42153e3aa60292d7c36bf0d689fb5b3793ad88380a41d74c2\n",
      "  Stored in directory: c:\\users\\chandraprakash\\appdata\\local\\pip\\cache\\wheels\\d7\\e5\\36\\85d319586b4a405d001029d489102f526ce5546248c295932a\n",
      "Successfully built pydataset\n",
      "Installing collected packages: pydataset\n",
      "Successfully installed pydataset-0.2.0\n"
     ]
    }
   ],
   "source": [
    "!pip install pydataset"
   ]
  },
  {
   "cell_type": "code",
   "execution_count": 24,
   "id": "38f88e2d",
   "metadata": {},
   "outputs": [],
   "source": [
    "from pydataset import data"
   ]
  },
  {
   "cell_type": "code",
   "execution_count": 25,
   "id": "659879c0",
   "metadata": {},
   "outputs": [
    {
     "data": {
      "text/plain": [
       "['__annotations__',\n",
       " '__call__',\n",
       " '__class__',\n",
       " '__closure__',\n",
       " '__code__',\n",
       " '__defaults__',\n",
       " '__delattr__',\n",
       " '__dict__',\n",
       " '__dir__',\n",
       " '__doc__',\n",
       " '__eq__',\n",
       " '__format__',\n",
       " '__ge__',\n",
       " '__get__',\n",
       " '__getattribute__',\n",
       " '__globals__',\n",
       " '__gt__',\n",
       " '__hash__',\n",
       " '__init__',\n",
       " '__init_subclass__',\n",
       " '__kwdefaults__',\n",
       " '__le__',\n",
       " '__lt__',\n",
       " '__module__',\n",
       " '__name__',\n",
       " '__ne__',\n",
       " '__new__',\n",
       " '__qualname__',\n",
       " '__reduce__',\n",
       " '__reduce_ex__',\n",
       " '__repr__',\n",
       " '__setattr__',\n",
       " '__sizeof__',\n",
       " '__str__',\n",
       " '__subclasshook__']"
      ]
     },
     "execution_count": 25,
     "metadata": {},
     "output_type": "execute_result"
    }
   ],
   "source": [
    "dir(data)"
   ]
  },
  {
   "cell_type": "code",
   "execution_count": 26,
   "id": "f6edd3f3",
   "metadata": {},
   "outputs": [],
   "source": [
    "import pydataset"
   ]
  },
  {
   "cell_type": "code",
   "execution_count": 27,
   "id": "3dc87941",
   "metadata": {},
   "outputs": [
    {
     "data": {
      "text/plain": [
       "['__builtins__',\n",
       " '__cached__',\n",
       " '__datasets_desc',\n",
       " '__doc__',\n",
       " '__file__',\n",
       " '__loader__',\n",
       " '__name__',\n",
       " '__package__',\n",
       " '__path__',\n",
       " '__print_item_docs',\n",
       " '__read_csv',\n",
       " '__spec__',\n",
       " 'data',\n",
       " 'datasets_handler',\n",
       " 'dump_data',\n",
       " 'find_similar',\n",
       " 'locate_datasets',\n",
       " 'support',\n",
       " 'utils']"
      ]
     },
     "execution_count": 27,
     "metadata": {},
     "output_type": "execute_result"
    }
   ],
   "source": [
    "dir(pydataset)"
   ]
  },
  {
   "cell_type": "code",
   "execution_count": 28,
   "id": "0d914e62",
   "metadata": {},
   "outputs": [],
   "source": [
    "df = data('Boston')"
   ]
  },
  {
   "cell_type": "code",
   "execution_count": 29,
   "id": "6784a56a",
   "metadata": {},
   "outputs": [
    {
     "data": {
      "text/html": [
       "<div>\n",
       "<style scoped>\n",
       "    .dataframe tbody tr th:only-of-type {\n",
       "        vertical-align: middle;\n",
       "    }\n",
       "\n",
       "    .dataframe tbody tr th {\n",
       "        vertical-align: top;\n",
       "    }\n",
       "\n",
       "    .dataframe thead th {\n",
       "        text-align: right;\n",
       "    }\n",
       "</style>\n",
       "<table border=\"1\" class=\"dataframe\">\n",
       "  <thead>\n",
       "    <tr style=\"text-align: right;\">\n",
       "      <th></th>\n",
       "      <th>crim</th>\n",
       "      <th>zn</th>\n",
       "      <th>indus</th>\n",
       "      <th>chas</th>\n",
       "      <th>nox</th>\n",
       "      <th>rm</th>\n",
       "      <th>age</th>\n",
       "      <th>dis</th>\n",
       "      <th>rad</th>\n",
       "      <th>tax</th>\n",
       "      <th>ptratio</th>\n",
       "      <th>black</th>\n",
       "      <th>lstat</th>\n",
       "      <th>medv</th>\n",
       "    </tr>\n",
       "  </thead>\n",
       "  <tbody>\n",
       "    <tr>\n",
       "      <th>1</th>\n",
       "      <td>0.00632</td>\n",
       "      <td>18.0</td>\n",
       "      <td>2.31</td>\n",
       "      <td>0</td>\n",
       "      <td>0.538</td>\n",
       "      <td>6.575</td>\n",
       "      <td>65.2</td>\n",
       "      <td>4.0900</td>\n",
       "      <td>1</td>\n",
       "      <td>296</td>\n",
       "      <td>15.3</td>\n",
       "      <td>396.90</td>\n",
       "      <td>4.98</td>\n",
       "      <td>24.0</td>\n",
       "    </tr>\n",
       "    <tr>\n",
       "      <th>2</th>\n",
       "      <td>0.02731</td>\n",
       "      <td>0.0</td>\n",
       "      <td>7.07</td>\n",
       "      <td>0</td>\n",
       "      <td>0.469</td>\n",
       "      <td>6.421</td>\n",
       "      <td>78.9</td>\n",
       "      <td>4.9671</td>\n",
       "      <td>2</td>\n",
       "      <td>242</td>\n",
       "      <td>17.8</td>\n",
       "      <td>396.90</td>\n",
       "      <td>9.14</td>\n",
       "      <td>21.6</td>\n",
       "    </tr>\n",
       "    <tr>\n",
       "      <th>3</th>\n",
       "      <td>0.02729</td>\n",
       "      <td>0.0</td>\n",
       "      <td>7.07</td>\n",
       "      <td>0</td>\n",
       "      <td>0.469</td>\n",
       "      <td>7.185</td>\n",
       "      <td>61.1</td>\n",
       "      <td>4.9671</td>\n",
       "      <td>2</td>\n",
       "      <td>242</td>\n",
       "      <td>17.8</td>\n",
       "      <td>392.83</td>\n",
       "      <td>4.03</td>\n",
       "      <td>34.7</td>\n",
       "    </tr>\n",
       "    <tr>\n",
       "      <th>4</th>\n",
       "      <td>0.03237</td>\n",
       "      <td>0.0</td>\n",
       "      <td>2.18</td>\n",
       "      <td>0</td>\n",
       "      <td>0.458</td>\n",
       "      <td>6.998</td>\n",
       "      <td>45.8</td>\n",
       "      <td>6.0622</td>\n",
       "      <td>3</td>\n",
       "      <td>222</td>\n",
       "      <td>18.7</td>\n",
       "      <td>394.63</td>\n",
       "      <td>2.94</td>\n",
       "      <td>33.4</td>\n",
       "    </tr>\n",
       "    <tr>\n",
       "      <th>5</th>\n",
       "      <td>0.06905</td>\n",
       "      <td>0.0</td>\n",
       "      <td>2.18</td>\n",
       "      <td>0</td>\n",
       "      <td>0.458</td>\n",
       "      <td>7.147</td>\n",
       "      <td>54.2</td>\n",
       "      <td>6.0622</td>\n",
       "      <td>3</td>\n",
       "      <td>222</td>\n",
       "      <td>18.7</td>\n",
       "      <td>396.90</td>\n",
       "      <td>5.33</td>\n",
       "      <td>36.2</td>\n",
       "    </tr>\n",
       "  </tbody>\n",
       "</table>\n",
       "</div>"
      ],
      "text/plain": [
       "      crim    zn  indus  chas    nox     rm   age     dis  rad  tax  ptratio   black  lstat  medv\n",
       "1  0.00632  18.0   2.31     0  0.538  6.575  65.2  4.0900    1  296     15.3  396.90   4.98  24.0\n",
       "2  0.02731   0.0   7.07     0  0.469  6.421  78.9  4.9671    2  242     17.8  396.90   9.14  21.6\n",
       "3  0.02729   0.0   7.07     0  0.469  7.185  61.1  4.9671    2  242     17.8  392.83   4.03  34.7\n",
       "4  0.03237   0.0   2.18     0  0.458  6.998  45.8  6.0622    3  222     18.7  394.63   2.94  33.4\n",
       "5  0.06905   0.0   2.18     0  0.458  7.147  54.2  6.0622    3  222     18.7  396.90   5.33  36.2"
      ]
     },
     "execution_count": 29,
     "metadata": {},
     "output_type": "execute_result"
    }
   ],
   "source": [
    "df.head()"
   ]
  },
  {
   "cell_type": "code",
   "execution_count": 30,
   "id": "c544a240",
   "metadata": {},
   "outputs": [
    {
     "data": {
      "text/plain": [
       "(506, 14)"
      ]
     },
     "execution_count": 30,
     "metadata": {},
     "output_type": "execute_result"
    }
   ],
   "source": [
    "df.shape"
   ]
  },
  {
   "cell_type": "code",
   "execution_count": 31,
   "id": "98f8dfa6",
   "metadata": {},
   "outputs": [
    {
     "ename": "AttributeError",
     "evalue": "'DataFrame' object has no attribute 'desccribe'",
     "output_type": "error",
     "traceback": [
      "\u001b[1;31m---------------------------------------------------------------------------\u001b[0m",
      "\u001b[1;31mAttributeError\u001b[0m                            Traceback (most recent call last)",
      "\u001b[1;32m<ipython-input-31-8e1ba8ed4a43>\u001b[0m in \u001b[0;36m<module>\u001b[1;34m\u001b[0m\n\u001b[1;32m----> 1\u001b[1;33m \u001b[0mdf\u001b[0m\u001b[1;33m.\u001b[0m\u001b[0mdesccribe\u001b[0m\u001b[1;33m\u001b[0m\u001b[1;33m\u001b[0m\u001b[0m\n\u001b[0m",
      "\u001b[1;32m~\\anaconda3\\lib\\site-packages\\pandas\\core\\generic.py\u001b[0m in \u001b[0;36m__getattr__\u001b[1;34m(self, name)\u001b[0m\n\u001b[0;32m   5463\u001b[0m             \u001b[1;32mif\u001b[0m \u001b[0mself\u001b[0m\u001b[1;33m.\u001b[0m\u001b[0m_info_axis\u001b[0m\u001b[1;33m.\u001b[0m\u001b[0m_can_hold_identifiers_and_holds_name\u001b[0m\u001b[1;33m(\u001b[0m\u001b[0mname\u001b[0m\u001b[1;33m)\u001b[0m\u001b[1;33m:\u001b[0m\u001b[1;33m\u001b[0m\u001b[1;33m\u001b[0m\u001b[0m\n\u001b[0;32m   5464\u001b[0m                 \u001b[1;32mreturn\u001b[0m \u001b[0mself\u001b[0m\u001b[1;33m[\u001b[0m\u001b[0mname\u001b[0m\u001b[1;33m]\u001b[0m\u001b[1;33m\u001b[0m\u001b[1;33m\u001b[0m\u001b[0m\n\u001b[1;32m-> 5465\u001b[1;33m             \u001b[1;32mreturn\u001b[0m \u001b[0mobject\u001b[0m\u001b[1;33m.\u001b[0m\u001b[0m__getattribute__\u001b[0m\u001b[1;33m(\u001b[0m\u001b[0mself\u001b[0m\u001b[1;33m,\u001b[0m \u001b[0mname\u001b[0m\u001b[1;33m)\u001b[0m\u001b[1;33m\u001b[0m\u001b[1;33m\u001b[0m\u001b[0m\n\u001b[0m\u001b[0;32m   5466\u001b[0m \u001b[1;33m\u001b[0m\u001b[0m\n\u001b[0;32m   5467\u001b[0m     \u001b[1;32mdef\u001b[0m \u001b[0m__setattr__\u001b[0m\u001b[1;33m(\u001b[0m\u001b[0mself\u001b[0m\u001b[1;33m,\u001b[0m \u001b[0mname\u001b[0m\u001b[1;33m:\u001b[0m \u001b[0mstr\u001b[0m\u001b[1;33m,\u001b[0m \u001b[0mvalue\u001b[0m\u001b[1;33m)\u001b[0m \u001b[1;33m->\u001b[0m \u001b[1;32mNone\u001b[0m\u001b[1;33m:\u001b[0m\u001b[1;33m\u001b[0m\u001b[1;33m\u001b[0m\u001b[0m\n",
      "\u001b[1;31mAttributeError\u001b[0m: 'DataFrame' object has no attribute 'desccribe'"
     ]
    }
   ],
   "source": [
    "df.desccribe"
   ]
  },
  {
   "cell_type": "code",
   "execution_count": 32,
   "id": "ba984fd2",
   "metadata": {},
   "outputs": [
    {
     "data": {
      "text/plain": [
       "<bound method NDFrame.describe of         crim    zn  indus  chas    nox     rm   age     dis  rad  tax  ptratio   black  lstat  medv\n",
       "1    0.00632  18.0   2.31     0  0.538  6.575  65.2  4.0900    1  296     15.3  396.90   4.98  24.0\n",
       "2    0.02731   0.0   7.07     0  0.469  6.421  78.9  4.9671    2  242     17.8  396.90   9.14  21.6\n",
       "3    0.02729   0.0   7.07     0  0.469  7.185  61.1  4.9671    2  242     17.8  392.83   4.03  34.7\n",
       "4    0.03237   0.0   2.18     0  0.458  6.998  45.8  6.0622    3  222     18.7  394.63   2.94  33.4\n",
       "5    0.06905   0.0   2.18     0  0.458  7.147  54.2  6.0622    3  222     18.7  396.90   5.33  36.2\n",
       "..       ...   ...    ...   ...    ...    ...   ...     ...  ...  ...      ...     ...    ...   ...\n",
       "502  0.06263   0.0  11.93     0  0.573  6.593  69.1  2.4786    1  273     21.0  391.99   9.67  22.4\n",
       "503  0.04527   0.0  11.93     0  0.573  6.120  76.7  2.2875    1  273     21.0  396.90   9.08  20.6\n",
       "504  0.06076   0.0  11.93     0  0.573  6.976  91.0  2.1675    1  273     21.0  396.90   5.64  23.9\n",
       "505  0.10959   0.0  11.93     0  0.573  6.794  89.3  2.3889    1  273     21.0  393.45   6.48  22.0\n",
       "506  0.04741   0.0  11.93     0  0.573  6.030  80.8  2.5050    1  273     21.0  396.90   7.88  11.9\n",
       "\n",
       "[506 rows x 14 columns]>"
      ]
     },
     "execution_count": 32,
     "metadata": {},
     "output_type": "execute_result"
    }
   ],
   "source": [
    "df.describe"
   ]
  },
  {
   "cell_type": "code",
   "execution_count": 36,
   "id": "f7870bf9",
   "metadata": {},
   "outputs": [],
   "source": [
    "crim = []\n",
    "for i in df.crim:\n",
    "    crim.append(i)"
   ]
  },
  {
   "cell_type": "code",
   "execution_count": 37,
   "id": "f06e64dd",
   "metadata": {},
   "outputs": [
    {
     "data": {
      "text/plain": [
       "[0.00632,\n",
       " 0.02731,\n",
       " 0.02729,\n",
       " 0.03237,\n",
       " 0.06905,\n",
       " 0.02985,\n",
       " 0.08829,\n",
       " 0.14455,\n",
       " 0.21124,\n",
       " 0.17004,\n",
       " 0.22489,\n",
       " 0.11747,\n",
       " 0.09378,\n",
       " 0.62976,\n",
       " 0.63796,\n",
       " 0.62739,\n",
       " 1.05393,\n",
       " 0.7842,\n",
       " 0.80271,\n",
       " 0.7258,\n",
       " 1.25179,\n",
       " 0.85204,\n",
       " 1.23247,\n",
       " 0.98843,\n",
       " 0.75026,\n",
       " 0.84054,\n",
       " 0.67191,\n",
       " 0.95577,\n",
       " 0.77299,\n",
       " 1.00245,\n",
       " 1.13081,\n",
       " 1.35472,\n",
       " 1.38799,\n",
       " 1.15172,\n",
       " 1.61282,\n",
       " 0.06417,\n",
       " 0.09744,\n",
       " 0.08014,\n",
       " 0.17505,\n",
       " 0.02763,\n",
       " 0.03359,\n",
       " 0.12744,\n",
       " 0.1415,\n",
       " 0.15936,\n",
       " 0.12269,\n",
       " 0.17142,\n",
       " 0.18836,\n",
       " 0.22927,\n",
       " 0.25387,\n",
       " 0.21977,\n",
       " 0.08873,\n",
       " 0.04337,\n",
       " 0.0536,\n",
       " 0.04981,\n",
       " 0.0136,\n",
       " 0.01311,\n",
       " 0.02055,\n",
       " 0.01432,\n",
       " 0.15445,\n",
       " 0.10328,\n",
       " 0.14932,\n",
       " 0.17171,\n",
       " 0.11027,\n",
       " 0.1265,\n",
       " 0.01951,\n",
       " 0.03584,\n",
       " 0.04379,\n",
       " 0.05789,\n",
       " 0.13554,\n",
       " 0.12816,\n",
       " 0.08826,\n",
       " 0.15876,\n",
       " 0.09164,\n",
       " 0.19539,\n",
       " 0.07896,\n",
       " 0.09512,\n",
       " 0.10153,\n",
       " 0.08707,\n",
       " 0.05646,\n",
       " 0.08387,\n",
       " 0.04113,\n",
       " 0.04462,\n",
       " 0.03659,\n",
       " 0.03551,\n",
       " 0.05059,\n",
       " 0.05735,\n",
       " 0.05188,\n",
       " 0.07151,\n",
       " 0.0566,\n",
       " 0.05302,\n",
       " 0.04684,\n",
       " 0.03932,\n",
       " 0.04203,\n",
       " 0.02875,\n",
       " 0.04294,\n",
       " 0.12204,\n",
       " 0.11504,\n",
       " 0.12083,\n",
       " 0.08187,\n",
       " 0.0686,\n",
       " 0.14866,\n",
       " 0.11432,\n",
       " 0.22876,\n",
       " 0.21161,\n",
       " 0.1396,\n",
       " 0.13262,\n",
       " 0.1712,\n",
       " 0.13117,\n",
       " 0.12802,\n",
       " 0.26363,\n",
       " 0.10793,\n",
       " 0.10084,\n",
       " 0.12329,\n",
       " 0.22212,\n",
       " 0.14231,\n",
       " 0.17134,\n",
       " 0.13158,\n",
       " 0.15098,\n",
       " 0.13058,\n",
       " 0.14476,\n",
       " 0.06899,\n",
       " 0.07165,\n",
       " 0.09299,\n",
       " 0.15038,\n",
       " 0.09849,\n",
       " 0.16902,\n",
       " 0.38735,\n",
       " 0.25915,\n",
       " 0.32543,\n",
       " 0.88125,\n",
       " 0.34006,\n",
       " 1.19294,\n",
       " 0.59005,\n",
       " 0.32982,\n",
       " 0.97617,\n",
       " 0.55778,\n",
       " 0.32264,\n",
       " 0.35233,\n",
       " 0.2498,\n",
       " 0.54452,\n",
       " 0.2909,\n",
       " 1.62864,\n",
       " 3.32105,\n",
       " 4.0974,\n",
       " 2.77974,\n",
       " 2.37934,\n",
       " 2.15505,\n",
       " 2.36862,\n",
       " 2.33099,\n",
       " 2.73397,\n",
       " 1.6566,\n",
       " 1.49632,\n",
       " 1.12658,\n",
       " 2.14918,\n",
       " 1.41385,\n",
       " 3.53501,\n",
       " 2.44668,\n",
       " 1.22358,\n",
       " 1.34284,\n",
       " 1.42502,\n",
       " 1.27346,\n",
       " 1.46336,\n",
       " 1.83377,\n",
       " 1.51902,\n",
       " 2.24236,\n",
       " 2.924,\n",
       " 2.01019,\n",
       " 1.80028,\n",
       " 2.3004,\n",
       " 2.44953,\n",
       " 1.20742,\n",
       " 2.3139,\n",
       " 0.13914,\n",
       " 0.09178,\n",
       " 0.08447,\n",
       " 0.06664,\n",
       " 0.07022,\n",
       " 0.05425,\n",
       " 0.06642,\n",
       " 0.0578,\n",
       " 0.06588,\n",
       " 0.06888,\n",
       " 0.09103,\n",
       " 0.10008,\n",
       " 0.08308,\n",
       " 0.06047,\n",
       " 0.05602,\n",
       " 0.07875,\n",
       " 0.12579,\n",
       " 0.0837,\n",
       " 0.09068,\n",
       " 0.06911,\n",
       " 0.08664,\n",
       " 0.02187,\n",
       " 0.01439,\n",
       " 0.01381,\n",
       " 0.04011,\n",
       " 0.04666,\n",
       " 0.03768,\n",
       " 0.0315,\n",
       " 0.01778,\n",
       " 0.03445,\n",
       " 0.02177,\n",
       " 0.0351,\n",
       " 0.02009,\n",
       " 0.13642,\n",
       " 0.22969,\n",
       " 0.25199,\n",
       " 0.13587,\n",
       " 0.43571,\n",
       " 0.17446,\n",
       " 0.37578,\n",
       " 0.21719,\n",
       " 0.14052,\n",
       " 0.28955,\n",
       " 0.19802,\n",
       " 0.0456,\n",
       " 0.07013,\n",
       " 0.11069,\n",
       " 0.11425,\n",
       " 0.35809,\n",
       " 0.40771,\n",
       " 0.62356,\n",
       " 0.6147,\n",
       " 0.31533,\n",
       " 0.52693,\n",
       " 0.38214,\n",
       " 0.41238,\n",
       " 0.29819,\n",
       " 0.44178,\n",
       " 0.537,\n",
       " 0.46296,\n",
       " 0.57529,\n",
       " 0.33147,\n",
       " 0.44791,\n",
       " 0.33045,\n",
       " 0.52058,\n",
       " 0.51183,\n",
       " 0.08244,\n",
       " 0.09252,\n",
       " 0.11329,\n",
       " 0.10612,\n",
       " 0.1029,\n",
       " 0.12757,\n",
       " 0.20608,\n",
       " 0.19133,\n",
       " 0.33983,\n",
       " 0.19657,\n",
       " 0.16439,\n",
       " 0.19073,\n",
       " 0.1403,\n",
       " 0.21409,\n",
       " 0.08221,\n",
       " 0.36894,\n",
       " 0.04819,\n",
       " 0.03548,\n",
       " 0.01538,\n",
       " 0.61154,\n",
       " 0.66351,\n",
       " 0.65665,\n",
       " 0.54011,\n",
       " 0.53412,\n",
       " 0.52014,\n",
       " 0.82526,\n",
       " 0.55007,\n",
       " 0.76162,\n",
       " 0.7857,\n",
       " 0.57834,\n",
       " 0.5405,\n",
       " 0.09065,\n",
       " 0.29916,\n",
       " 0.16211,\n",
       " 0.1146,\n",
       " 0.22188,\n",
       " 0.05644,\n",
       " 0.09604,\n",
       " 0.10469,\n",
       " 0.06127,\n",
       " 0.07978,\n",
       " 0.21038,\n",
       " 0.03578,\n",
       " 0.03705,\n",
       " 0.06129,\n",
       " 0.01501,\n",
       " 0.00906,\n",
       " 0.01096,\n",
       " 0.01965,\n",
       " 0.03871,\n",
       " 0.0459,\n",
       " 0.04297,\n",
       " 0.03502,\n",
       " 0.07886,\n",
       " 0.03615,\n",
       " 0.08265,\n",
       " 0.08199,\n",
       " 0.12932,\n",
       " 0.05372,\n",
       " 0.14103,\n",
       " 0.06466,\n",
       " 0.05561,\n",
       " 0.04417,\n",
       " 0.03537,\n",
       " 0.09266,\n",
       " 0.1,\n",
       " 0.05515,\n",
       " 0.05479,\n",
       " 0.07503,\n",
       " 0.04932,\n",
       " 0.49298,\n",
       " 0.3494,\n",
       " 2.63548,\n",
       " 0.79041,\n",
       " 0.26169,\n",
       " 0.26938,\n",
       " 0.3692,\n",
       " 0.25356,\n",
       " 0.31827,\n",
       " 0.24522,\n",
       " 0.40202,\n",
       " 0.47547,\n",
       " 0.1676,\n",
       " 0.18159,\n",
       " 0.35114,\n",
       " 0.28392,\n",
       " 0.34109,\n",
       " 0.19186,\n",
       " 0.30347,\n",
       " 0.24103,\n",
       " 0.06617,\n",
       " 0.06724,\n",
       " 0.04544,\n",
       " 0.05023,\n",
       " 0.03466,\n",
       " 0.05083,\n",
       " 0.03738,\n",
       " 0.03961,\n",
       " 0.03427,\n",
       " 0.03041,\n",
       " 0.03306,\n",
       " 0.05497,\n",
       " 0.06151,\n",
       " 0.01301,\n",
       " 0.02498,\n",
       " 0.02543,\n",
       " 0.03049,\n",
       " 0.03113,\n",
       " 0.06162,\n",
       " 0.0187,\n",
       " 0.01501,\n",
       " 0.02899,\n",
       " 0.06211,\n",
       " 0.0795,\n",
       " 0.07244,\n",
       " 0.01709,\n",
       " 0.04301,\n",
       " 0.10659,\n",
       " 8.98296,\n",
       " 3.8497,\n",
       " 5.20177,\n",
       " 4.26131,\n",
       " 4.54192,\n",
       " 3.83684,\n",
       " 3.67822,\n",
       " 4.22239,\n",
       " 3.47428,\n",
       " 4.55587,\n",
       " 3.69695,\n",
       " 13.5222,\n",
       " 4.89822,\n",
       " 5.66998,\n",
       " 6.53876,\n",
       " 9.2323,\n",
       " 8.26725,\n",
       " 11.1081,\n",
       " 18.4982,\n",
       " 19.6091,\n",
       " 15.288,\n",
       " 9.82349,\n",
       " 23.6482,\n",
       " 17.8667,\n",
       " 88.9762,\n",
       " 15.8744,\n",
       " 9.18702,\n",
       " 7.99248,\n",
       " 20.0849,\n",
       " 16.8118,\n",
       " 24.3938,\n",
       " 22.5971,\n",
       " 14.3337,\n",
       " 8.15174,\n",
       " 6.96215,\n",
       " 5.29305,\n",
       " 11.5779,\n",
       " 8.64476,\n",
       " 13.3598,\n",
       " 8.71675,\n",
       " 5.87205,\n",
       " 7.67202,\n",
       " 38.3518,\n",
       " 9.91655,\n",
       " 25.0461,\n",
       " 14.2362,\n",
       " 9.59571,\n",
       " 24.8017,\n",
       " 41.5292,\n",
       " 67.9208,\n",
       " 20.7162,\n",
       " 11.9511,\n",
       " 7.40389,\n",
       " 14.4383,\n",
       " 51.1358,\n",
       " 14.0507,\n",
       " 18.811,\n",
       " 28.6558,\n",
       " 45.7461,\n",
       " 18.0846,\n",
       " 10.8342,\n",
       " 25.9406,\n",
       " 73.5341,\n",
       " 11.8123,\n",
       " 11.0874,\n",
       " 7.02259,\n",
       " 12.0482,\n",
       " 7.05042,\n",
       " 8.79212,\n",
       " 15.8603,\n",
       " 12.2472,\n",
       " 37.6619,\n",
       " 7.36711,\n",
       " 9.33889,\n",
       " 8.49213,\n",
       " 10.0623,\n",
       " 6.44405,\n",
       " 5.58107,\n",
       " 13.9134,\n",
       " 11.1604,\n",
       " 14.4208,\n",
       " 15.1772,\n",
       " 13.6781,\n",
       " 9.39063,\n",
       " 22.0511,\n",
       " 9.72418,\n",
       " 5.66637,\n",
       " 9.96654,\n",
       " 12.8023,\n",
       " 10.6718,\n",
       " 6.28807,\n",
       " 9.92485,\n",
       " 9.32909,\n",
       " 7.52601,\n",
       " 6.71772,\n",
       " 5.44114,\n",
       " 5.09017,\n",
       " 8.24809,\n",
       " 9.51363,\n",
       " 4.75237,\n",
       " 4.66883,\n",
       " 8.20058,\n",
       " 7.75223,\n",
       " 6.80117,\n",
       " 4.81213,\n",
       " 3.69311,\n",
       " 6.65492,\n",
       " 5.82115,\n",
       " 7.83932,\n",
       " 3.1636,\n",
       " 3.77498,\n",
       " 4.42228,\n",
       " 15.5757,\n",
       " 13.0751,\n",
       " 4.34879,\n",
       " 4.03841,\n",
       " 3.56868,\n",
       " 4.64689,\n",
       " 8.05579,\n",
       " 6.39312,\n",
       " 4.87141,\n",
       " 15.0234,\n",
       " 10.233,\n",
       " 14.3337,\n",
       " 5.82401,\n",
       " 5.70818,\n",
       " 5.73116,\n",
       " 2.81838,\n",
       " 2.37857,\n",
       " 3.67367,\n",
       " 5.69175,\n",
       " 4.83567,\n",
       " 0.15086,\n",
       " 0.18337,\n",
       " 0.20746,\n",
       " 0.10574,\n",
       " 0.11132,\n",
       " 0.17331,\n",
       " 0.27957,\n",
       " 0.17899,\n",
       " 0.2896,\n",
       " 0.26838,\n",
       " 0.23912,\n",
       " 0.17783,\n",
       " 0.22438,\n",
       " 0.06263,\n",
       " 0.04527,\n",
       " 0.06076,\n",
       " 0.10959,\n",
       " 0.04741]"
      ]
     },
     "execution_count": 37,
     "metadata": {},
     "output_type": "execute_result"
    }
   ],
   "source": [
    "crim"
   ]
  },
  {
   "cell_type": "code",
   "execution_count": 38,
   "id": "cb9fdef6",
   "metadata": {},
   "outputs": [
    {
     "data": {
      "text/plain": [
       "Index(['crim', 'zn', 'indus', 'chas', 'nox', 'rm', 'age', 'dis', 'rad', 'tax',\n",
       "       'ptratio', 'black', 'lstat', 'medv'],\n",
       "      dtype='object')"
      ]
     },
     "execution_count": 38,
     "metadata": {},
     "output_type": "execute_result"
    }
   ],
   "source": [
    "df.columns"
   ]
  },
  {
   "cell_type": "code",
   "execution_count": 39,
   "id": "110202dc",
   "metadata": {},
   "outputs": [
    {
     "data": {
      "text/plain": [
       "88.9762"
      ]
     },
     "execution_count": 39,
     "metadata": {},
     "output_type": "execute_result"
    }
   ],
   "source": [
    "max(crim)"
   ]
  },
  {
   "cell_type": "code",
   "execution_count": 40,
   "id": "583cbcc8",
   "metadata": {},
   "outputs": [
    {
     "name": "stdout",
     "output_type": "stream",
     "text": [
      "380\n"
     ]
    }
   ],
   "source": [
    "for i in crim:\n",
    "    if i == max(crim):\n",
    "        print(crim.index(i))"
   ]
  },
  {
   "cell_type": "code",
   "execution_count": 42,
   "id": "8d09f86d",
   "metadata": {},
   "outputs": [
    {
     "data": {
      "text/plain": [
       "0.04741"
      ]
     },
     "execution_count": 42,
     "metadata": {},
     "output_type": "execute_result"
    }
   ],
   "source": [
    "crim[-1]"
   ]
  },
  {
   "cell_type": "code",
   "execution_count": 43,
   "id": "e7d2d698",
   "metadata": {},
   "outputs": [
    {
     "data": {
      "text/plain": [
       "0.04741"
      ]
     },
     "execution_count": 43,
     "metadata": {},
     "output_type": "execute_result"
    }
   ],
   "source": [
    "crim[505]"
   ]
  },
  {
   "cell_type": "code",
   "execution_count": 47,
   "id": "666ae46c",
   "metadata": {},
   "outputs": [],
   "source": [
    "crim_rev = []\n",
    "for i in crim:\n",
    "    p = crim.pop()\n",
    "    crim_rev.append(p)"
   ]
  },
  {
   "cell_type": "code",
   "execution_count": 48,
   "id": "6163227e",
   "metadata": {},
   "outputs": [
    {
     "data": {
      "text/plain": [
       "[0.00632,\n",
       " 0.02731,\n",
       " 0.02729,\n",
       " 0.03237,\n",
       " 0.06905,\n",
       " 0.02985,\n",
       " 0.08829,\n",
       " 0.14455,\n",
       " 0.21124,\n",
       " 0.17004,\n",
       " 0.22489,\n",
       " 0.11747,\n",
       " 0.09378,\n",
       " 0.62976,\n",
       " 0.63796,\n",
       " 0.62739,\n",
       " 1.05393,\n",
       " 0.7842,\n",
       " 0.80271,\n",
       " 0.7258,\n",
       " 1.25179,\n",
       " 0.85204,\n",
       " 1.23247,\n",
       " 0.98843,\n",
       " 0.75026,\n",
       " 0.84054,\n",
       " 0.67191,\n",
       " 0.95577,\n",
       " 0.77299,\n",
       " 1.00245,\n",
       " 1.13081,\n",
       " 1.35472,\n",
       " 1.38799,\n",
       " 1.15172,\n",
       " 1.61282,\n",
       " 0.06417,\n",
       " 0.09744,\n",
       " 0.08014,\n",
       " 0.17505,\n",
       " 0.02763,\n",
       " 0.03359,\n",
       " 0.12744,\n",
       " 0.1415,\n",
       " 0.15936,\n",
       " 0.12269,\n",
       " 0.17142,\n",
       " 0.18836,\n",
       " 0.22927,\n",
       " 0.25387,\n",
       " 0.21977,\n",
       " 0.08873,\n",
       " 0.04337,\n",
       " 0.0536,\n",
       " 0.04981,\n",
       " 0.0136,\n",
       " 0.01311,\n",
       " 0.02055,\n",
       " 0.01432,\n",
       " 0.15445,\n",
       " 0.10328,\n",
       " 0.14932,\n",
       " 0.17171,\n",
       " 0.11027,\n",
       " 0.1265,\n",
       " 0.01951,\n",
       " 0.03584,\n",
       " 0.04379,\n",
       " 0.05789,\n",
       " 0.13554,\n",
       " 0.12816,\n",
       " 0.08826,\n",
       " 0.15876,\n",
       " 0.09164,\n",
       " 0.19539,\n",
       " 0.07896,\n",
       " 0.09512,\n",
       " 0.10153,\n",
       " 0.08707,\n",
       " 0.05646,\n",
       " 0.08387,\n",
       " 0.04113,\n",
       " 0.04462,\n",
       " 0.03659,\n",
       " 0.03551,\n",
       " 0.05059,\n",
       " 0.05735,\n",
       " 0.05188,\n",
       " 0.07151,\n",
       " 0.0566,\n",
       " 0.05302,\n",
       " 0.04684,\n",
       " 0.03932,\n",
       " 0.04203,\n",
       " 0.02875,\n",
       " 0.04294,\n",
       " 0.12204,\n",
       " 0.11504,\n",
       " 0.12083,\n",
       " 0.08187,\n",
       " 0.0686,\n",
       " 0.14866,\n",
       " 0.11432,\n",
       " 0.22876,\n",
       " 0.21161,\n",
       " 0.1396,\n",
       " 0.13262,\n",
       " 0.1712,\n",
       " 0.13117,\n",
       " 0.12802,\n",
       " 0.26363,\n",
       " 0.10793,\n",
       " 0.10084,\n",
       " 0.12329,\n",
       " 0.22212,\n",
       " 0.14231,\n",
       " 0.17134,\n",
       " 0.13158,\n",
       " 0.15098,\n",
       " 0.13058,\n",
       " 0.14476,\n",
       " 0.06899,\n",
       " 0.07165,\n",
       " 0.09299,\n",
       " 0.15038,\n",
       " 0.09849,\n",
       " 0.16902]"
      ]
     },
     "execution_count": 48,
     "metadata": {},
     "output_type": "execute_result"
    }
   ],
   "source": [
    "crim"
   ]
  },
  {
   "cell_type": "code",
   "execution_count": 49,
   "id": "87bd0625",
   "metadata": {},
   "outputs": [],
   "source": [
    "crim = []\n",
    "for i in df.crim:\n",
    "    crim.append(i)\n",
    "crim = crim[::-1]"
   ]
  },
  {
   "cell_type": "code",
   "execution_count": 50,
   "id": "e60ec893",
   "metadata": {},
   "outputs": [
    {
     "data": {
      "text/plain": [
       "[0.04741,\n",
       " 0.10959,\n",
       " 0.06076,\n",
       " 0.04527,\n",
       " 0.06263,\n",
       " 0.22438,\n",
       " 0.17783,\n",
       " 0.23912,\n",
       " 0.26838,\n",
       " 0.2896,\n",
       " 0.17899,\n",
       " 0.27957,\n",
       " 0.17331,\n",
       " 0.11132,\n",
       " 0.10574,\n",
       " 0.20746,\n",
       " 0.18337,\n",
       " 0.15086,\n",
       " 4.83567,\n",
       " 5.69175,\n",
       " 3.67367,\n",
       " 2.37857,\n",
       " 2.81838,\n",
       " 5.73116,\n",
       " 5.70818,\n",
       " 5.82401,\n",
       " 14.3337,\n",
       " 10.233,\n",
       " 15.0234,\n",
       " 4.87141,\n",
       " 6.39312,\n",
       " 8.05579,\n",
       " 4.64689,\n",
       " 3.56868,\n",
       " 4.03841,\n",
       " 4.34879,\n",
       " 13.0751,\n",
       " 15.5757,\n",
       " 4.42228,\n",
       " 3.77498,\n",
       " 3.1636,\n",
       " 7.83932,\n",
       " 5.82115,\n",
       " 6.65492,\n",
       " 3.69311,\n",
       " 4.81213,\n",
       " 6.80117,\n",
       " 7.75223,\n",
       " 8.20058,\n",
       " 4.66883,\n",
       " 4.75237,\n",
       " 9.51363,\n",
       " 8.24809,\n",
       " 5.09017,\n",
       " 5.44114,\n",
       " 6.71772,\n",
       " 7.52601,\n",
       " 9.32909,\n",
       " 9.92485,\n",
       " 6.28807,\n",
       " 10.6718,\n",
       " 12.8023,\n",
       " 9.96654,\n",
       " 5.66637,\n",
       " 9.72418,\n",
       " 22.0511,\n",
       " 9.39063,\n",
       " 13.6781,\n",
       " 15.1772,\n",
       " 14.4208,\n",
       " 11.1604,\n",
       " 13.9134,\n",
       " 5.58107,\n",
       " 6.44405,\n",
       " 10.0623,\n",
       " 8.49213,\n",
       " 9.33889,\n",
       " 7.36711,\n",
       " 37.6619,\n",
       " 12.2472,\n",
       " 15.8603,\n",
       " 8.79212,\n",
       " 7.05042,\n",
       " 12.0482,\n",
       " 7.02259,\n",
       " 11.0874,\n",
       " 11.8123,\n",
       " 73.5341,\n",
       " 25.9406,\n",
       " 10.8342,\n",
       " 18.0846,\n",
       " 45.7461,\n",
       " 28.6558,\n",
       " 18.811,\n",
       " 14.0507,\n",
       " 51.1358,\n",
       " 14.4383,\n",
       " 7.40389,\n",
       " 11.9511,\n",
       " 20.7162,\n",
       " 67.9208,\n",
       " 41.5292,\n",
       " 24.8017,\n",
       " 9.59571,\n",
       " 14.2362,\n",
       " 25.0461,\n",
       " 9.91655,\n",
       " 38.3518,\n",
       " 7.67202,\n",
       " 5.87205,\n",
       " 8.71675,\n",
       " 13.3598,\n",
       " 8.64476,\n",
       " 11.5779,\n",
       " 5.29305,\n",
       " 6.96215,\n",
       " 8.15174,\n",
       " 14.3337,\n",
       " 22.5971,\n",
       " 24.3938,\n",
       " 16.8118,\n",
       " 20.0849,\n",
       " 7.99248,\n",
       " 9.18702,\n",
       " 15.8744,\n",
       " 88.9762,\n",
       " 17.8667,\n",
       " 23.6482,\n",
       " 9.82349,\n",
       " 15.288,\n",
       " 19.6091,\n",
       " 18.4982,\n",
       " 11.1081,\n",
       " 8.26725,\n",
       " 9.2323,\n",
       " 6.53876,\n",
       " 5.66998,\n",
       " 4.89822,\n",
       " 13.5222,\n",
       " 3.69695,\n",
       " 4.55587,\n",
       " 3.47428,\n",
       " 4.22239,\n",
       " 3.67822,\n",
       " 3.83684,\n",
       " 4.54192,\n",
       " 4.26131,\n",
       " 5.20177,\n",
       " 3.8497,\n",
       " 8.98296,\n",
       " 0.10659,\n",
       " 0.04301,\n",
       " 0.01709,\n",
       " 0.07244,\n",
       " 0.0795,\n",
       " 0.06211,\n",
       " 0.02899,\n",
       " 0.01501,\n",
       " 0.0187,\n",
       " 0.06162,\n",
       " 0.03113,\n",
       " 0.03049,\n",
       " 0.02543,\n",
       " 0.02498,\n",
       " 0.01301,\n",
       " 0.06151,\n",
       " 0.05497,\n",
       " 0.03306,\n",
       " 0.03041,\n",
       " 0.03427,\n",
       " 0.03961,\n",
       " 0.03738,\n",
       " 0.05083,\n",
       " 0.03466,\n",
       " 0.05023,\n",
       " 0.04544,\n",
       " 0.06724,\n",
       " 0.06617,\n",
       " 0.24103,\n",
       " 0.30347,\n",
       " 0.19186,\n",
       " 0.34109,\n",
       " 0.28392,\n",
       " 0.35114,\n",
       " 0.18159,\n",
       " 0.1676,\n",
       " 0.47547,\n",
       " 0.40202,\n",
       " 0.24522,\n",
       " 0.31827,\n",
       " 0.25356,\n",
       " 0.3692,\n",
       " 0.26938,\n",
       " 0.26169,\n",
       " 0.79041,\n",
       " 2.63548,\n",
       " 0.3494,\n",
       " 0.49298,\n",
       " 0.04932,\n",
       " 0.07503,\n",
       " 0.05479,\n",
       " 0.05515,\n",
       " 0.1,\n",
       " 0.09266,\n",
       " 0.03537,\n",
       " 0.04417,\n",
       " 0.05561,\n",
       " 0.06466,\n",
       " 0.14103,\n",
       " 0.05372,\n",
       " 0.12932,\n",
       " 0.08199,\n",
       " 0.08265,\n",
       " 0.03615,\n",
       " 0.07886,\n",
       " 0.03502,\n",
       " 0.04297,\n",
       " 0.0459,\n",
       " 0.03871,\n",
       " 0.01965,\n",
       " 0.01096,\n",
       " 0.00906,\n",
       " 0.01501,\n",
       " 0.06129,\n",
       " 0.03705,\n",
       " 0.03578,\n",
       " 0.21038,\n",
       " 0.07978,\n",
       " 0.06127,\n",
       " 0.10469,\n",
       " 0.09604,\n",
       " 0.05644,\n",
       " 0.22188,\n",
       " 0.1146,\n",
       " 0.16211,\n",
       " 0.29916,\n",
       " 0.09065,\n",
       " 0.5405,\n",
       " 0.57834,\n",
       " 0.7857,\n",
       " 0.76162,\n",
       " 0.55007,\n",
       " 0.82526,\n",
       " 0.52014,\n",
       " 0.53412,\n",
       " 0.54011,\n",
       " 0.65665,\n",
       " 0.66351,\n",
       " 0.61154,\n",
       " 0.01538,\n",
       " 0.03548,\n",
       " 0.04819,\n",
       " 0.36894,\n",
       " 0.08221,\n",
       " 0.21409,\n",
       " 0.1403,\n",
       " 0.19073,\n",
       " 0.16439,\n",
       " 0.19657,\n",
       " 0.33983,\n",
       " 0.19133,\n",
       " 0.20608,\n",
       " 0.12757,\n",
       " 0.1029,\n",
       " 0.10612,\n",
       " 0.11329,\n",
       " 0.09252,\n",
       " 0.08244,\n",
       " 0.51183,\n",
       " 0.52058,\n",
       " 0.33045,\n",
       " 0.44791,\n",
       " 0.33147,\n",
       " 0.57529,\n",
       " 0.46296,\n",
       " 0.537,\n",
       " 0.44178,\n",
       " 0.29819,\n",
       " 0.41238,\n",
       " 0.38214,\n",
       " 0.52693,\n",
       " 0.31533,\n",
       " 0.6147,\n",
       " 0.62356,\n",
       " 0.40771,\n",
       " 0.35809,\n",
       " 0.11425,\n",
       " 0.11069,\n",
       " 0.07013,\n",
       " 0.0456,\n",
       " 0.19802,\n",
       " 0.28955,\n",
       " 0.14052,\n",
       " 0.21719,\n",
       " 0.37578,\n",
       " 0.17446,\n",
       " 0.43571,\n",
       " 0.13587,\n",
       " 0.25199,\n",
       " 0.22969,\n",
       " 0.13642,\n",
       " 0.02009,\n",
       " 0.0351,\n",
       " 0.02177,\n",
       " 0.03445,\n",
       " 0.01778,\n",
       " 0.0315,\n",
       " 0.03768,\n",
       " 0.04666,\n",
       " 0.04011,\n",
       " 0.01381,\n",
       " 0.01439,\n",
       " 0.02187,\n",
       " 0.08664,\n",
       " 0.06911,\n",
       " 0.09068,\n",
       " 0.0837,\n",
       " 0.12579,\n",
       " 0.07875,\n",
       " 0.05602,\n",
       " 0.06047,\n",
       " 0.08308,\n",
       " 0.10008,\n",
       " 0.09103,\n",
       " 0.06888,\n",
       " 0.06588,\n",
       " 0.0578,\n",
       " 0.06642,\n",
       " 0.05425,\n",
       " 0.07022,\n",
       " 0.06664,\n",
       " 0.08447,\n",
       " 0.09178,\n",
       " 0.13914,\n",
       " 2.3139,\n",
       " 1.20742,\n",
       " 2.44953,\n",
       " 2.3004,\n",
       " 1.80028,\n",
       " 2.01019,\n",
       " 2.924,\n",
       " 2.24236,\n",
       " 1.51902,\n",
       " 1.83377,\n",
       " 1.46336,\n",
       " 1.27346,\n",
       " 1.42502,\n",
       " 1.34284,\n",
       " 1.22358,\n",
       " 2.44668,\n",
       " 3.53501,\n",
       " 1.41385,\n",
       " 2.14918,\n",
       " 1.12658,\n",
       " 1.49632,\n",
       " 1.6566,\n",
       " 2.73397,\n",
       " 2.33099,\n",
       " 2.36862,\n",
       " 2.15505,\n",
       " 2.37934,\n",
       " 2.77974,\n",
       " 4.0974,\n",
       " 3.32105,\n",
       " 1.62864,\n",
       " 0.2909,\n",
       " 0.54452,\n",
       " 0.2498,\n",
       " 0.35233,\n",
       " 0.32264,\n",
       " 0.55778,\n",
       " 0.97617,\n",
       " 0.32982,\n",
       " 0.59005,\n",
       " 1.19294,\n",
       " 0.34006,\n",
       " 0.88125,\n",
       " 0.32543,\n",
       " 0.25915,\n",
       " 0.38735,\n",
       " 0.16902,\n",
       " 0.09849,\n",
       " 0.15038,\n",
       " 0.09299,\n",
       " 0.07165,\n",
       " 0.06899,\n",
       " 0.14476,\n",
       " 0.13058,\n",
       " 0.15098,\n",
       " 0.13158,\n",
       " 0.17134,\n",
       " 0.14231,\n",
       " 0.22212,\n",
       " 0.12329,\n",
       " 0.10084,\n",
       " 0.10793,\n",
       " 0.26363,\n",
       " 0.12802,\n",
       " 0.13117,\n",
       " 0.1712,\n",
       " 0.13262,\n",
       " 0.1396,\n",
       " 0.21161,\n",
       " 0.22876,\n",
       " 0.11432,\n",
       " 0.14866,\n",
       " 0.0686,\n",
       " 0.08187,\n",
       " 0.12083,\n",
       " 0.11504,\n",
       " 0.12204,\n",
       " 0.04294,\n",
       " 0.02875,\n",
       " 0.04203,\n",
       " 0.03932,\n",
       " 0.04684,\n",
       " 0.05302,\n",
       " 0.0566,\n",
       " 0.07151,\n",
       " 0.05188,\n",
       " 0.05735,\n",
       " 0.05059,\n",
       " 0.03551,\n",
       " 0.03659,\n",
       " 0.04462,\n",
       " 0.04113,\n",
       " 0.08387,\n",
       " 0.05646,\n",
       " 0.08707,\n",
       " 0.10153,\n",
       " 0.09512,\n",
       " 0.07896,\n",
       " 0.19539,\n",
       " 0.09164,\n",
       " 0.15876,\n",
       " 0.08826,\n",
       " 0.12816,\n",
       " 0.13554,\n",
       " 0.05789,\n",
       " 0.04379,\n",
       " 0.03584,\n",
       " 0.01951,\n",
       " 0.1265,\n",
       " 0.11027,\n",
       " 0.17171,\n",
       " 0.14932,\n",
       " 0.10328,\n",
       " 0.15445,\n",
       " 0.01432,\n",
       " 0.02055,\n",
       " 0.01311,\n",
       " 0.0136,\n",
       " 0.04981,\n",
       " 0.0536,\n",
       " 0.04337,\n",
       " 0.08873,\n",
       " 0.21977,\n",
       " 0.25387,\n",
       " 0.22927,\n",
       " 0.18836,\n",
       " 0.17142,\n",
       " 0.12269,\n",
       " 0.15936,\n",
       " 0.1415,\n",
       " 0.12744,\n",
       " 0.03359,\n",
       " 0.02763,\n",
       " 0.17505,\n",
       " 0.08014,\n",
       " 0.09744,\n",
       " 0.06417,\n",
       " 1.61282,\n",
       " 1.15172,\n",
       " 1.38799,\n",
       " 1.35472,\n",
       " 1.13081,\n",
       " 1.00245,\n",
       " 0.77299,\n",
       " 0.95577,\n",
       " 0.67191,\n",
       " 0.84054,\n",
       " 0.75026,\n",
       " 0.98843,\n",
       " 1.23247,\n",
       " 0.85204,\n",
       " 1.25179,\n",
       " 0.7258,\n",
       " 0.80271,\n",
       " 0.7842,\n",
       " 1.05393,\n",
       " 0.62739,\n",
       " 0.63796,\n",
       " 0.62976,\n",
       " 0.09378,\n",
       " 0.11747,\n",
       " 0.22489,\n",
       " 0.17004,\n",
       " 0.21124,\n",
       " 0.14455,\n",
       " 0.08829,\n",
       " 0.02985,\n",
       " 0.06905,\n",
       " 0.03237,\n",
       " 0.02729,\n",
       " 0.02731,\n",
       " 0.00632]"
      ]
     },
     "execution_count": 50,
     "metadata": {},
     "output_type": "execute_result"
    }
   ],
   "source": [
    "crim"
   ]
  },
  {
   "cell_type": "code",
   "execution_count": 51,
   "id": "3a88e58f",
   "metadata": {},
   "outputs": [],
   "source": [
    "crim_rev = []\n",
    "for i in range(len(crim)):\n",
    "    p = crim.pop()\n",
    "    crim_rev.append(p)"
   ]
  },
  {
   "cell_type": "code",
   "execution_count": 54,
   "id": "f7ec0178",
   "metadata": {},
   "outputs": [
    {
     "data": {
      "text/plain": [
       "[0.00632,\n",
       " 0.02731,\n",
       " 0.02729,\n",
       " 0.03237,\n",
       " 0.06905,\n",
       " 0.02985,\n",
       " 0.08829,\n",
       " 0.14455,\n",
       " 0.21124,\n",
       " 0.17004,\n",
       " 0.22489,\n",
       " 0.11747,\n",
       " 0.09378,\n",
       " 0.62976,\n",
       " 0.63796,\n",
       " 0.62739,\n",
       " 1.05393,\n",
       " 0.7842,\n",
       " 0.80271,\n",
       " 0.7258,\n",
       " 1.25179,\n",
       " 0.85204,\n",
       " 1.23247,\n",
       " 0.98843,\n",
       " 0.75026,\n",
       " 0.84054,\n",
       " 0.67191,\n",
       " 0.95577,\n",
       " 0.77299,\n",
       " 1.00245,\n",
       " 1.13081,\n",
       " 1.35472,\n",
       " 1.38799,\n",
       " 1.15172,\n",
       " 1.61282,\n",
       " 0.06417,\n",
       " 0.09744,\n",
       " 0.08014,\n",
       " 0.17505,\n",
       " 0.02763,\n",
       " 0.03359,\n",
       " 0.12744,\n",
       " 0.1415,\n",
       " 0.15936,\n",
       " 0.12269,\n",
       " 0.17142,\n",
       " 0.18836,\n",
       " 0.22927,\n",
       " 0.25387,\n",
       " 0.21977,\n",
       " 0.08873,\n",
       " 0.04337,\n",
       " 0.0536,\n",
       " 0.04981,\n",
       " 0.0136,\n",
       " 0.01311,\n",
       " 0.02055,\n",
       " 0.01432,\n",
       " 0.15445,\n",
       " 0.10328,\n",
       " 0.14932,\n",
       " 0.17171,\n",
       " 0.11027,\n",
       " 0.1265,\n",
       " 0.01951,\n",
       " 0.03584,\n",
       " 0.04379,\n",
       " 0.05789,\n",
       " 0.13554,\n",
       " 0.12816,\n",
       " 0.08826,\n",
       " 0.15876,\n",
       " 0.09164,\n",
       " 0.19539,\n",
       " 0.07896,\n",
       " 0.09512,\n",
       " 0.10153,\n",
       " 0.08707,\n",
       " 0.05646,\n",
       " 0.08387,\n",
       " 0.04113,\n",
       " 0.04462,\n",
       " 0.03659,\n",
       " 0.03551,\n",
       " 0.05059,\n",
       " 0.05735,\n",
       " 0.05188,\n",
       " 0.07151,\n",
       " 0.0566,\n",
       " 0.05302,\n",
       " 0.04684,\n",
       " 0.03932,\n",
       " 0.04203,\n",
       " 0.02875,\n",
       " 0.04294,\n",
       " 0.12204,\n",
       " 0.11504,\n",
       " 0.12083,\n",
       " 0.08187,\n",
       " 0.0686,\n",
       " 0.14866,\n",
       " 0.11432,\n",
       " 0.22876,\n",
       " 0.21161,\n",
       " 0.1396,\n",
       " 0.13262,\n",
       " 0.1712,\n",
       " 0.13117,\n",
       " 0.12802,\n",
       " 0.26363,\n",
       " 0.10793,\n",
       " 0.10084,\n",
       " 0.12329,\n",
       " 0.22212,\n",
       " 0.14231,\n",
       " 0.17134,\n",
       " 0.13158,\n",
       " 0.15098,\n",
       " 0.13058,\n",
       " 0.14476,\n",
       " 0.06899,\n",
       " 0.07165,\n",
       " 0.09299,\n",
       " 0.15038,\n",
       " 0.09849,\n",
       " 0.16902,\n",
       " 0.38735,\n",
       " 0.25915,\n",
       " 0.32543,\n",
       " 0.88125,\n",
       " 0.34006,\n",
       " 1.19294,\n",
       " 0.59005,\n",
       " 0.32982,\n",
       " 0.97617,\n",
       " 0.55778,\n",
       " 0.32264,\n",
       " 0.35233,\n",
       " 0.2498,\n",
       " 0.54452,\n",
       " 0.2909,\n",
       " 1.62864,\n",
       " 3.32105,\n",
       " 4.0974,\n",
       " 2.77974,\n",
       " 2.37934,\n",
       " 2.15505,\n",
       " 2.36862,\n",
       " 2.33099,\n",
       " 2.73397,\n",
       " 1.6566,\n",
       " 1.49632,\n",
       " 1.12658,\n",
       " 2.14918,\n",
       " 1.41385,\n",
       " 3.53501,\n",
       " 2.44668,\n",
       " 1.22358,\n",
       " 1.34284,\n",
       " 1.42502,\n",
       " 1.27346,\n",
       " 1.46336,\n",
       " 1.83377,\n",
       " 1.51902,\n",
       " 2.24236,\n",
       " 2.924,\n",
       " 2.01019,\n",
       " 1.80028,\n",
       " 2.3004,\n",
       " 2.44953,\n",
       " 1.20742,\n",
       " 2.3139,\n",
       " 0.13914,\n",
       " 0.09178,\n",
       " 0.08447,\n",
       " 0.06664,\n",
       " 0.07022,\n",
       " 0.05425,\n",
       " 0.06642,\n",
       " 0.0578,\n",
       " 0.06588,\n",
       " 0.06888,\n",
       " 0.09103,\n",
       " 0.10008,\n",
       " 0.08308,\n",
       " 0.06047,\n",
       " 0.05602,\n",
       " 0.07875,\n",
       " 0.12579,\n",
       " 0.0837,\n",
       " 0.09068,\n",
       " 0.06911,\n",
       " 0.08664,\n",
       " 0.02187,\n",
       " 0.01439,\n",
       " 0.01381,\n",
       " 0.04011,\n",
       " 0.04666,\n",
       " 0.03768,\n",
       " 0.0315,\n",
       " 0.01778,\n",
       " 0.03445,\n",
       " 0.02177,\n",
       " 0.0351,\n",
       " 0.02009,\n",
       " 0.13642,\n",
       " 0.22969,\n",
       " 0.25199,\n",
       " 0.13587,\n",
       " 0.43571,\n",
       " 0.17446,\n",
       " 0.37578,\n",
       " 0.21719,\n",
       " 0.14052,\n",
       " 0.28955,\n",
       " 0.19802,\n",
       " 0.0456,\n",
       " 0.07013,\n",
       " 0.11069,\n",
       " 0.11425,\n",
       " 0.35809,\n",
       " 0.40771,\n",
       " 0.62356,\n",
       " 0.6147,\n",
       " 0.31533,\n",
       " 0.52693,\n",
       " 0.38214,\n",
       " 0.41238,\n",
       " 0.29819,\n",
       " 0.44178,\n",
       " 0.537,\n",
       " 0.46296,\n",
       " 0.57529,\n",
       " 0.33147,\n",
       " 0.44791,\n",
       " 0.33045,\n",
       " 0.52058,\n",
       " 0.51183,\n",
       " 0.08244,\n",
       " 0.09252,\n",
       " 0.11329,\n",
       " 0.10612,\n",
       " 0.1029,\n",
       " 0.12757,\n",
       " 0.20608,\n",
       " 0.19133,\n",
       " 0.33983,\n",
       " 0.19657,\n",
       " 0.16439,\n",
       " 0.19073,\n",
       " 0.1403,\n",
       " 0.21409,\n",
       " 0.08221,\n",
       " 0.36894,\n",
       " 0.04819,\n",
       " 0.03548,\n",
       " 0.01538,\n",
       " 0.61154,\n",
       " 0.66351,\n",
       " 0.65665,\n",
       " 0.54011,\n",
       " 0.53412,\n",
       " 0.52014,\n",
       " 0.82526,\n",
       " 0.55007,\n",
       " 0.76162,\n",
       " 0.7857,\n",
       " 0.57834,\n",
       " 0.5405,\n",
       " 0.09065,\n",
       " 0.29916,\n",
       " 0.16211,\n",
       " 0.1146,\n",
       " 0.22188,\n",
       " 0.05644,\n",
       " 0.09604,\n",
       " 0.10469,\n",
       " 0.06127,\n",
       " 0.07978,\n",
       " 0.21038,\n",
       " 0.03578,\n",
       " 0.03705,\n",
       " 0.06129,\n",
       " 0.01501,\n",
       " 0.00906,\n",
       " 0.01096,\n",
       " 0.01965,\n",
       " 0.03871,\n",
       " 0.0459,\n",
       " 0.04297,\n",
       " 0.03502,\n",
       " 0.07886,\n",
       " 0.03615,\n",
       " 0.08265,\n",
       " 0.08199,\n",
       " 0.12932,\n",
       " 0.05372,\n",
       " 0.14103,\n",
       " 0.06466,\n",
       " 0.05561,\n",
       " 0.04417,\n",
       " 0.03537,\n",
       " 0.09266,\n",
       " 0.1,\n",
       " 0.05515,\n",
       " 0.05479,\n",
       " 0.07503,\n",
       " 0.04932,\n",
       " 0.49298,\n",
       " 0.3494,\n",
       " 2.63548,\n",
       " 0.79041,\n",
       " 0.26169,\n",
       " 0.26938,\n",
       " 0.3692,\n",
       " 0.25356,\n",
       " 0.31827,\n",
       " 0.24522,\n",
       " 0.40202,\n",
       " 0.47547,\n",
       " 0.1676,\n",
       " 0.18159,\n",
       " 0.35114,\n",
       " 0.28392,\n",
       " 0.34109,\n",
       " 0.19186,\n",
       " 0.30347,\n",
       " 0.24103,\n",
       " 0.06617,\n",
       " 0.06724,\n",
       " 0.04544,\n",
       " 0.05023,\n",
       " 0.03466,\n",
       " 0.05083,\n",
       " 0.03738,\n",
       " 0.03961,\n",
       " 0.03427,\n",
       " 0.03041,\n",
       " 0.03306,\n",
       " 0.05497,\n",
       " 0.06151,\n",
       " 0.01301,\n",
       " 0.02498,\n",
       " 0.02543,\n",
       " 0.03049,\n",
       " 0.03113,\n",
       " 0.06162,\n",
       " 0.0187,\n",
       " 0.01501,\n",
       " 0.02899,\n",
       " 0.06211,\n",
       " 0.0795,\n",
       " 0.07244,\n",
       " 0.01709,\n",
       " 0.04301,\n",
       " 0.10659,\n",
       " 8.98296,\n",
       " 3.8497,\n",
       " 5.20177,\n",
       " 4.26131,\n",
       " 4.54192,\n",
       " 3.83684,\n",
       " 3.67822,\n",
       " 4.22239,\n",
       " 3.47428,\n",
       " 4.55587,\n",
       " 3.69695,\n",
       " 13.5222,\n",
       " 4.89822,\n",
       " 5.66998,\n",
       " 6.53876,\n",
       " 9.2323,\n",
       " 8.26725,\n",
       " 11.1081,\n",
       " 18.4982,\n",
       " 19.6091,\n",
       " 15.288,\n",
       " 9.82349,\n",
       " 23.6482,\n",
       " 17.8667,\n",
       " 88.9762,\n",
       " 15.8744,\n",
       " 9.18702,\n",
       " 7.99248,\n",
       " 20.0849,\n",
       " 16.8118,\n",
       " 24.3938,\n",
       " 22.5971,\n",
       " 14.3337,\n",
       " 8.15174,\n",
       " 6.96215,\n",
       " 5.29305,\n",
       " 11.5779,\n",
       " 8.64476,\n",
       " 13.3598,\n",
       " 8.71675,\n",
       " 5.87205,\n",
       " 7.67202,\n",
       " 38.3518,\n",
       " 9.91655,\n",
       " 25.0461,\n",
       " 14.2362,\n",
       " 9.59571,\n",
       " 24.8017,\n",
       " 41.5292,\n",
       " 67.9208,\n",
       " 20.7162,\n",
       " 11.9511,\n",
       " 7.40389,\n",
       " 14.4383,\n",
       " 51.1358,\n",
       " 14.0507,\n",
       " 18.811,\n",
       " 28.6558,\n",
       " 45.7461,\n",
       " 18.0846,\n",
       " 10.8342,\n",
       " 25.9406,\n",
       " 73.5341,\n",
       " 11.8123,\n",
       " 11.0874,\n",
       " 7.02259,\n",
       " 12.0482,\n",
       " 7.05042,\n",
       " 8.79212,\n",
       " 15.8603,\n",
       " 12.2472,\n",
       " 37.6619,\n",
       " 7.36711,\n",
       " 9.33889,\n",
       " 8.49213,\n",
       " 10.0623,\n",
       " 6.44405,\n",
       " 5.58107,\n",
       " 13.9134,\n",
       " 11.1604,\n",
       " 14.4208,\n",
       " 15.1772,\n",
       " 13.6781,\n",
       " 9.39063,\n",
       " 22.0511,\n",
       " 9.72418,\n",
       " 5.66637,\n",
       " 9.96654,\n",
       " 12.8023,\n",
       " 10.6718,\n",
       " 6.28807,\n",
       " 9.92485,\n",
       " 9.32909,\n",
       " 7.52601,\n",
       " 6.71772,\n",
       " 5.44114,\n",
       " 5.09017,\n",
       " 8.24809,\n",
       " 9.51363,\n",
       " 4.75237,\n",
       " 4.66883,\n",
       " 8.20058,\n",
       " 7.75223,\n",
       " 6.80117,\n",
       " 4.81213,\n",
       " 3.69311,\n",
       " 6.65492,\n",
       " 5.82115,\n",
       " 7.83932,\n",
       " 3.1636,\n",
       " 3.77498,\n",
       " 4.42228,\n",
       " 15.5757,\n",
       " 13.0751,\n",
       " 4.34879,\n",
       " 4.03841,\n",
       " 3.56868,\n",
       " 4.64689,\n",
       " 8.05579,\n",
       " 6.39312,\n",
       " 4.87141,\n",
       " 15.0234,\n",
       " 10.233,\n",
       " 14.3337,\n",
       " 5.82401,\n",
       " 5.70818,\n",
       " 5.73116,\n",
       " 2.81838,\n",
       " 2.37857,\n",
       " 3.67367,\n",
       " 5.69175,\n",
       " 4.83567,\n",
       " 0.15086,\n",
       " 0.18337,\n",
       " 0.20746,\n",
       " 0.10574,\n",
       " 0.11132,\n",
       " 0.17331,\n",
       " 0.27957,\n",
       " 0.17899,\n",
       " 0.2896,\n",
       " 0.26838,\n",
       " 0.23912,\n",
       " 0.17783,\n",
       " 0.22438,\n",
       " 0.06263,\n",
       " 0.04527,\n",
       " 0.06076,\n",
       " 0.10959,\n",
       " 0.04741]"
      ]
     },
     "execution_count": 54,
     "metadata": {},
     "output_type": "execute_result"
    }
   ],
   "source": [
    "crim_rev"
   ]
  },
  {
   "cell_type": "code",
   "execution_count": 55,
   "id": "ed9f1c5a",
   "metadata": {},
   "outputs": [],
   "source": [
    "a = range(1,11)"
   ]
  },
  {
   "cell_type": "code",
   "execution_count": 56,
   "id": "74b8ef82",
   "metadata": {},
   "outputs": [
    {
     "data": {
      "text/plain": [
       "[]"
      ]
     },
     "execution_count": 56,
     "metadata": {},
     "output_type": "execute_result"
    }
   ],
   "source": [
    "list()"
   ]
  },
  {
   "cell_type": "code",
   "execution_count": 64,
   "id": "4d4b4634",
   "metadata": {},
   "outputs": [],
   "source": [
    "b = list(a)"
   ]
  },
  {
   "cell_type": "code",
   "execution_count": 65,
   "id": "0a582b6e",
   "metadata": {},
   "outputs": [
    {
     "data": {
      "text/plain": [
       "[1, 2, 3, 4, 5, 6, 7, 8, 9, 10]"
      ]
     },
     "execution_count": 65,
     "metadata": {},
     "output_type": "execute_result"
    }
   ],
   "source": [
    "b"
   ]
  },
  {
   "cell_type": "code",
   "execution_count": 69,
   "id": "88712ac0",
   "metadata": {},
   "outputs": [
    {
     "data": {
      "text/plain": [
       "[]"
      ]
     },
     "execution_count": 69,
     "metadata": {},
     "output_type": "execute_result"
    }
   ],
   "source": [
    "b_rev"
   ]
  },
  {
   "cell_type": "code",
   "execution_count": 73,
   "id": "33795789",
   "metadata": {},
   "outputs": [
    {
     "name": "stdout",
     "output_type": "stream",
     "text": [
      " the value require:5\n",
      "the product table value5\n",
      "the product of 1 X 5 = 5\n",
      "the product of 2 X 5 = 10\n",
      "the product of 3 X 5 = 15\n",
      "the product of 4 X 5 = 20\n",
      "the product of 5 X 5 = 25\n"
     ]
    }
   ],
   "source": [
    "g = eval(input(' the value require:'))\n",
    "h = eval(input('the product table value'))\n",
    "for i in range(1,g+1):\n",
    "    print('the product of %i X %i = %i'%(i,h,i*h))\n"
   ]
  },
  {
   "cell_type": "code",
   "execution_count": 3,
   "id": "b9c88c00",
   "metadata": {},
   "outputs": [
    {
     "ename": "SyntaxError",
     "evalue": "invalid syntax (<ipython-input-3-799336cff444>, line 2)",
     "output_type": "error",
     "traceback": [
      "\u001b[1;36m  File \u001b[1;32m\"<ipython-input-3-799336cff444>\"\u001b[1;36m, line \u001b[1;32m2\u001b[0m\n\u001b[1;33m    for i in range(1,1):\u001b[0m\n\u001b[1;37m                       ^\u001b[0m\n\u001b[1;31mSyntaxError\u001b[0m\u001b[1;31m:\u001b[0m invalid syntax\n"
     ]
    }
   ],
   "source": [
    "a = eval(input('enter the values:')\n",
    "for i in range(1,1):\n",
    "         print('the values of %i ** %i =%i'% (a**a))"
   ]
  },
  {
   "cell_type": "code",
   "execution_count": 9,
   "id": "830a1e57",
   "metadata": {},
   "outputs": [],
   "source": [
    "cp = [1,2,3,4,5]\n",
    "vj = []\n",
    "for i in vj:\n",
    "      vj.append(i**2)"
   ]
  },
  {
   "cell_type": "code",
   "execution_count": 11,
   "id": "13695ca7",
   "metadata": {},
   "outputs": [
    {
     "data": {
      "text/plain": [
       "[]"
      ]
     },
     "execution_count": 11,
     "metadata": {},
     "output_type": "execute_result"
    }
   ],
   "source": [
    "vj"
   ]
  },
  {
   "cell_type": "code",
   "execution_count": 7,
   "id": "dcd4b9f3",
   "metadata": {},
   "outputs": [
    {
     "data": {
      "text/plain": [
       "[1, 4, 9, 16, 25]"
      ]
     },
     "execution_count": 7,
     "metadata": {},
     "output_type": "execute_result"
    }
   ],
   "source": [
    "b"
   ]
  },
  {
   "cell_type": "code",
   "execution_count": 1,
   "id": "3c38e79f",
   "metadata": {},
   "outputs": [],
   "source": [
    "a = [2,3,4,5,6]\n",
    "b = [1,7,8,9,4]\n",
    "c = [1,2,3,4,5]\n",
    "d = [2,4,6,8,10]\n"
   ]
  },
  {
   "cell_type": "code",
   "execution_count": 26,
   "id": "0af5881c",
   "metadata": {},
   "outputs": [
    {
     "ename": "SyntaxError",
     "evalue": "invalid syntax (<ipython-input-26-8ef5df8eb39c>, line 1)",
     "output_type": "error",
     "traceback": [
      "\u001b[1;36m  File \u001b[1;32m\"<ipython-input-26-8ef5df8eb39c>\"\u001b[1;36m, line \u001b[1;32m1\u001b[0m\n\u001b[1;33m    f = list(map(lambda w,x,y,z:(%who[::-1].sort())+(x**(1/2))+(z-y),a,b,c,d))\u001b[0m\n\u001b[1;37m                                 ^\u001b[0m\n\u001b[1;31mSyntaxError\u001b[0m\u001b[1;31m:\u001b[0m invalid syntax\n"
     ]
    }
   ],
   "source": [
    "f = list(map(lambda w,x,y,z:(%who[::-1].sort())+(x**(1/2))+(z-y),a,b,c,d))"
   ]
  },
  {
   "cell_type": "code",
   "execution_count": 6,
   "id": "81e834f7",
   "metadata": {},
   "outputs": [
    {
     "data": {
      "text/plain": [
       "<map at 0x187cf469160>"
      ]
     },
     "execution_count": 6,
     "metadata": {},
     "output_type": "execute_result"
    }
   ],
   "source": [
    "map(f,c)"
   ]
  },
  {
   "cell_type": "code",
   "execution_count": 7,
   "id": "77c5de0a",
   "metadata": {},
   "outputs": [
    {
     "name": "stdout",
     "output_type": "stream",
     "text": [
      "<map object at 0x00000187CEEC86A0>\n"
     ]
    }
   ],
   "source": [
    "print(f)"
   ]
  },
  {
   "cell_type": "code",
   "execution_count": 9,
   "id": "6dac511f",
   "metadata": {},
   "outputs": [
    {
     "data": {
      "text/plain": [
       "<map at 0x187cf924a00>"
      ]
     },
     "execution_count": 9,
     "metadata": {},
     "output_type": "execute_result"
    }
   ],
   "source": [
    "map(b,c)"
   ]
  },
  {
   "cell_type": "code",
   "execution_count": 10,
   "id": "d0fd9ee6",
   "metadata": {},
   "outputs": [
    {
     "name": "stdout",
     "output_type": "stream",
     "text": [
      "[1, 7, 8, 9, 4]\n"
     ]
    }
   ],
   "source": [
    "print(b)"
   ]
  },
  {
   "cell_type": "code",
   "execution_count": 13,
   "id": "a2bdfa44",
   "metadata": {},
   "outputs": [
    {
     "data": {
      "text/plain": [
       "<map at 0x187cf1087f0>"
      ]
     },
     "execution_count": 13,
     "metadata": {},
     "output_type": "execute_result"
    }
   ],
   "source": [
    "map(a,b)\n",
    "map(b,c)\n",
    "map(c,a)"
   ]
  },
  {
   "cell_type": "code",
   "execution_count": 15,
   "id": "f74e32b4",
   "metadata": {},
   "outputs": [
    {
     "name": "stdout",
     "output_type": "stream",
     "text": [
      "<map object at 0x00000187CEEC86A0>\n"
     ]
    }
   ],
   "source": [
    "print(f)"
   ]
  },
  {
   "cell_type": "code",
   "execution_count": 16,
   "id": "d523c0f8",
   "metadata": {},
   "outputs": [
    {
     "data": {
      "text/plain": [
       "<map at 0x187ceec86a0>"
      ]
     },
     "execution_count": 16,
     "metadata": {},
     "output_type": "execute_result"
    }
   ],
   "source": [
    "f"
   ]
  },
  {
   "cell_type": "code",
   "execution_count": 27,
   "id": "b68ccbf9",
   "metadata": {},
   "outputs": [],
   "source": [
    "import seaborn as sns"
   ]
  },
  {
   "cell_type": "code",
   "execution_count": 3,
   "id": "caf6623a",
   "metadata": {},
   "outputs": [
    {
     "name": "stdout",
     "output_type": "stream",
     "text": [
      "*****\n",
      "*    \n",
      "*    \n",
      "*    \n",
      "*    \n",
      "*    \n",
      "*****\n"
     ]
    }
   ],
   "source": [
    "str =\"c\"\n",
    "print_c = [[\" \" for i in range(7)] for j in range(5)]\n",
    "for row in range(7):\n",
    "    for col in range(5):\n",
    "        if (col==0) or (row==0 or row==6) and (col>0):\n",
    "            print(\"*\",end= \"\")\n",
    "        else:\n",
    "            print(end=\" \")\n",
    "    print()"
   ]
  },
  {
   "cell_type": "code",
   "execution_count": 28,
   "id": "1298e535",
   "metadata": {},
   "outputs": [
    {
     "name": "stdout",
     "output_type": "stream",
     "text": [
      " ***** \n",
      "   *   \n",
      "   *   \n",
      "   *   \n",
      "   *   \n",
      "   *   \n",
      "   *   \n",
      "\n"
     ]
    }
   ],
   "source": [
    "result_str=\"\";    \n",
    "for row in range(0,7):    \n",
    "    for column in range(0,5):     \n",
    "        if (column == 0 or (row == 0 and column > 0 and column <6)):  \n",
    "            result_str=result_str+\"*\"    \n",
    "        else:      \n",
    "            result_str=result_str+\" \"    \n",
    "    result_str=result_str+\"\\n\"    \n",
    "print(result_str);"
   ]
  },
  {
   "cell_type": "code",
   "execution_count": 8,
   "id": "ba4ec453",
   "metadata": {},
   "outputs": [
    {
     "name": "stdout",
     "output_type": "stream",
     "text": [
      "  * * *    \n",
      "*       *  \n",
      "*          \n",
      "*          \n",
      "*          \n",
      "*       *  \n",
      "  * * *    \n"
     ]
    }
   ],
   "source": [
    "result_str=' ';\n",
    "for row in range(0,7):\n",
    "    for col in range(0,5):\n",
    "        if row in {0,6} and col in {1,2,3}:\n",
    "            print('*',end=' ')\n",
    "        elif row in {1,5} and col in {0,4}:\n",
    "            print('*',end=' ')\n",
    "        elif row in {2,3,4} and col==0:\n",
    "            print('*',end=' ')\n",
    "        else:\n",
    "            print(' ',end=' ')\n",
    "    print(result_str)"
   ]
  },
  {
   "cell_type": "code",
   "execution_count": 6,
   "id": "991f9f9b",
   "metadata": {},
   "outputs": [
    {
     "name": "stdout",
     "output_type": "stream",
     "text": [
      "*****\n",
      "*    \n",
      "*    \n",
      "*    \n",
      "*    \n",
      "*    \n",
      "*****\n"
     ]
    }
   ],
   "source": [
    "for row in range(0,7):\n",
    "    for col in range(0,5):\n",
    "        if (col==0) or ((row==0 or row==6) and (col>0)):\n",
    "            print(\"*\",end=\"\")\n",
    "        else:\n",
    "            print(end=\" \")\n",
    "    print()"
   ]
  },
  {
   "cell_type": "code",
   "execution_count": 2,
   "id": "d141b58c",
   "metadata": {},
   "outputs": [],
   "source": [
    "import numpy as np"
   ]
  },
  {
   "cell_type": "code",
   "execution_count": 4,
   "id": "f071741a",
   "metadata": {},
   "outputs": [
    {
     "name": "stdout",
     "output_type": "stream",
     "text": [
      "[[[1 2 3 4 5]]]\n",
      "diemtions of  arr: 3\n"
     ]
    }
   ],
   "source": [
    "\n",
    "\n",
    "arr = np.array([1,2,3,4,5], ndmin=3)\n",
    "print(arr)\n",
    "print(\"diemtions of  arr:\", arr.ndim)"
   ]
  },
  {
   "cell_type": "code",
   "execution_count": 64,
   "id": "05560558",
   "metadata": {},
   "outputs": [
    {
     "name": "stdout",
     "output_type": "stream",
     "text": [
      "H*   H*\n",
      "H*   H*\n",
      "H*   H*\n",
      "H*H*H*H*H*\n",
      "H*   H*\n",
      "H*   H*\n",
      "H*   H*\n"
     ]
    }
   ],
   "source": [
    "for row in range(7):\n",
    "    for col in range(5):\n",
    "        if col==0 or col==4 or (row==3 and (col>0 and col<4)):\n",
    "            print(\"H*\",end=\"\")\n",
    "        else:\n",
    "            print(end=\" \")\n",
    "    print()"
   ]
  },
  {
   "cell_type": "code",
   "execution_count": 5,
   "id": "684d782f",
   "metadata": {},
   "outputs": [
    {
     "name": "stdout",
     "output_type": "stream",
     "text": [
      "* * *   \n",
      "*     * \n",
      "*     * \n",
      "*     * \n",
      "* * *   \n"
     ]
    }
   ],
   "source": [
    "for row in range(5):\n",
    "    for col in range(4):\n",
    "        if row in {0} and col in {0,1,2}:\n",
    "             print(\"*\",end=\" \")\n",
    "        elif row in {1,2,3} and col in {0,3}:\n",
    "             print(\"*\",end=\" \")\n",
    "        elif row in {4} and col in {0,1,2}:\n",
    "             print(\"*\",end=\" \")\n",
    "        else:\n",
    "            print(\" \",end=\" \")\n",
    "    print()"
   ]
  },
  {
   "cell_type": "code",
   "execution_count": 31,
   "id": "e2a0e864",
   "metadata": {},
   "outputs": [
    {
     "name": "stdout",
     "output_type": "stream",
     "text": [
      "*****\n",
      "*   *\n",
      "*   *\n",
      "*   *\n",
      "*****\n"
     ]
    }
   ],
   "source": [
    "for row in range(0,5):\n",
    "    for col in range(0,5):\n",
    "        if ((col==0) or (col==4)) or ((row==0) or (row==4)):\n",
    "             print(\"*\",end=\"\")\n",
    "        else:\n",
    "            print(end=\" \")\n",
    "    print()"
   ]
  },
  {
   "cell_type": "code",
   "execution_count": 63,
   "id": "8b3e4ca0",
   "metadata": {},
   "outputs": [
    {
     "name": "stdout",
     "output_type": "stream",
     "text": [
      "enter the size: \t8\n",
      "M     M\n",
      "MM   MM\n",
      "M M M M\n",
      "M  M  M\n",
      "M     M\n",
      "M     M\n",
      "M     M\n"
     ]
    }
   ],
   "source": [
    "def print_pattern(n):\n",
    "    for row in range(7):\n",
    "        for col in range(7):\n",
    "            if (col==0) or (col==6) or ((row==col) and (col>0 and col<4)) or (row==1 and col==5) or (row==2 and col==4):\n",
    "                print(\"M\",end=\"\")\n",
    "            else:\n",
    "                print(end=\" \")\n",
    "        print()\n",
    "\n",
    "size = int(input(\"enter the size: \\t\"))\n",
    "if size < 8:\n",
    "    print(\"enter a value minimum of 8\")\n",
    "else:\n",
    "    print_pattern(size)\n",
    "\n",
    "        \n",
    "                                    "
   ]
  },
  {
   "cell_type": "code",
   "execution_count": null,
   "id": "da1bab71",
   "metadata": {},
   "outputs": [],
   "source": [
    "\n"
   ]
  }
 ],
 "metadata": {
  "kernelspec": {
   "display_name": "Python 3",
   "language": "python",
   "name": "python3"
  },
  "language_info": {
   "codemirror_mode": {
    "name": "ipython",
    "version": 3
   },
   "file_extension": ".py",
   "mimetype": "text/x-python",
   "name": "python",
   "nbconvert_exporter": "python",
   "pygments_lexer": "ipython3",
   "version": "3.8.8"
  },
  "varInspector": {
   "cols": {
    "lenName": 16,
    "lenType": 16,
    "lenVar": 40
   },
   "kernels_config": {
    "python": {
     "delete_cmd_postfix": "",
     "delete_cmd_prefix": "del ",
     "library": "var_list.py",
     "varRefreshCmd": "print(var_dic_list())"
    },
    "r": {
     "delete_cmd_postfix": ") ",
     "delete_cmd_prefix": "rm(",
     "library": "var_list.r",
     "varRefreshCmd": "cat(var_dic_list()) "
    }
   },
   "types_to_exclude": [
    "module",
    "function",
    "builtin_function_or_method",
    "instance",
    "_Feature"
   ],
   "window_display": false
  }
 },
 "nbformat": 4,
 "nbformat_minor": 5
}
