{
 "cells": [
  {
   "cell_type": "code",
   "execution_count": 1,
   "id": "fa6cea36",
   "metadata": {},
   "outputs": [],
   "source": [
    "import pandas as pd"
   ]
  },
  {
   "cell_type": "code",
   "execution_count": 2,
   "id": "4419a010",
   "metadata": {},
   "outputs": [],
   "source": [
    "import numpy as np"
   ]
  },
  {
   "cell_type": "code",
   "execution_count": 3,
   "id": "1734d23d",
   "metadata": {},
   "outputs": [],
   "source": [
    "import matplotlib.pyplot as plt"
   ]
  },
  {
   "cell_type": "code",
   "execution_count": 4,
   "id": "1130dd5b",
   "metadata": {},
   "outputs": [],
   "source": [
    "import seaborn as sns"
   ]
  },
  {
   "cell_type": "code",
   "execution_count": 5,
   "id": "bda51825",
   "metadata": {},
   "outputs": [
    {
     "name": "stdout",
     "output_type": "stream",
     "text": [
      "Enter Year: 2012\n",
      "2012 is a Leap Year\n"
     ]
    }
   ],
   "source": [
    "# 1. Write a program to check whether an year entered by an user is leap year or not\n",
    "\n",
    "# User enters the year\n",
    "year = eval(input(\"Enter Year: \"))\n",
    "\n",
    "# Leap Year Check\n",
    "if year % 4 == 0 and year % 100 != 0 or year %400==0:\n",
    "    print(year, \"is a Leap Year\")\n",
    "else:\n",
    "    print(year, \"is not a Leap Year\")"
   ]
  },
  {
   "cell_type": "code",
   "execution_count": 6,
   "id": "bd982310",
   "metadata": {},
   "outputs": [
    {
     "name": "stdout",
     "output_type": "stream",
     "text": [
      "Enter a string: ----====CP\n",
      "====CP\n"
     ]
    }
   ],
   "source": [
    "# 2. Take a string containing punctuation marks as an input from user and write a program to remove all the punctuation marks from a string\n",
    "\n",
    "# define punctuation\n",
    "punctuations = '''!()-[]{};:'\"\\,<>./?@#$%^&*_~'''\n",
    "\n",
    "#my_str = \"Hello!!!, he said ---and went.\"\n",
    "\n",
    "# To take input from the user\n",
    "my_str = input(\"Enter a string: \")\n",
    "\n",
    "# remove punctuation from the string\n",
    "no_punct = \"\"\n",
    "for char in my_str:\n",
    "    if char not in punctuations:\n",
    "        no_punct = no_punct + char\n",
    "\n",
    "# display the unpunctuated string\n",
    "print(no_punct)\n",
    "\n",
    "# give input value : \"hello --my [best] friend"
   ]
  },
  {
   "cell_type": "code",
   "execution_count": 7,
   "id": "ae787770",
   "metadata": {},
   "outputs": [
    {
     "name": "stdout",
     "output_type": "stream",
     "text": [
      " enter the A number = 5\n",
      " enter the B number = 6\n",
      "after swappiing: \n",
      "value of A :  6\n",
      "value of B :  5\n"
     ]
    }
   ],
   "source": [
    " # 3. Take two separate numbers as input from the user and Write a program to swap 2 numbers without using temporary variable\n",
    "    \n",
    "a = int(input(\" enter the A number = \"))\n",
    "b = int(input(\" enter the B number = \"))\n",
    "#temp = a \n",
    "#a = b \n",
    "#b = temp\n",
    "a = a+b\n",
    "b = a-b\n",
    "a = a-b\n",
    "print(\"after swappiing: \")\n",
    "print(\"value of A : \" ,a )\n",
    "print(\"value of B : \" ,b )"
   ]
  },
  {
   "cell_type": "code",
   "execution_count": 8,
   "id": "46353369",
   "metadata": {},
   "outputs": [
    {
     "data": {
      "text/plain": [
       "150"
      ]
     },
     "execution_count": 8,
     "metadata": {},
     "output_type": "execute_result"
    }
   ],
   "source": [
    "# 4. Write a program to print product of following variables\n",
    "# we to use nested for loop which means for loop inside the for loop\n",
    "integer = 10\n",
    "string = \"15\"\n",
    "product = integer*int(string)\n",
    "product"
   ]
  },
  {
   "cell_type": "code",
   "execution_count": 5,
   "id": "765b2a51",
   "metadata": {},
   "outputs": [
    {
     "name": "stdout",
     "output_type": "stream",
     "text": [
      "Enter the number of rows :5\n",
      "a \n",
      "b c \n",
      "d e f \n",
      "g h i j \n",
      "k l m n o \n"
     ]
    }
   ],
   "source": [
    "# 5. Write a program to print following pattern\n",
    "\n",
    "n = eval(input(\"Enter the number of rows :\"))\n",
    "k = ord(\"a\")\n",
    "\n",
    "for i in range(n):\n",
    "    for j in range(i+1):\n",
    "        print(chr(k), end = \" \")\n",
    "        k=k+1\n",
    "    print()"
   ]
  },
  {
   "cell_type": "code",
   "execution_count": 6,
   "id": "64aa07c4",
   "metadata": {},
   "outputs": [
    {
     "name": "stdout",
     "output_type": "stream",
     "text": [
      " enter the value of n :5\n",
      "2 * 5 = 10\n",
      "3 * 5 = 15\n",
      "4 * 5 = 20\n",
      "5 * 5 = 25\n"
     ]
    }
   ],
   "source": [
    "# 6. Write a program to print tables from 2 to n, where n is provided by user\n",
    "a = 2\n",
    "n = int(input(\" enter the value of n :\"))\n",
    "\n",
    "for i in range(a,n+1):\n",
    "    print(a,\"*\",n,\"=\",n*i)\n",
    "    a+=1\n",
    "    \n",
    "\n",
    "# just enter the two tables multiplication tables will come "
   ]
  },
  {
   "cell_type": "code",
   "execution_count": 7,
   "id": "093fd2d6",
   "metadata": {},
   "outputs": [
    {
     "name": "stdout",
     "output_type": "stream",
     "text": [
      "Enter the my height in centimeters:180\n",
      "The length in inches 70.92\n",
      "The length in feet 5.9\n"
     ]
    }
   ],
   "source": [
    "#7.Write a program to read height (in centimeters) from user and then convert it to feet and inches:\n",
    "cm=int(input(\"Enter the my height in centimeters:\"))\n",
    "inches=0.394*cm\n",
    "feet=0.0328*cm\n",
    "print(\"The length in inches\",round(inches,2))\n",
    "print(\"The length in feet\",round(feet,2))"
   ]
  },
  {
   "cell_type": "code",
   "execution_count": 6,
   "id": "850644f7",
   "metadata": {},
   "outputs": [
    {
     "name": "stdout",
     "output_type": "stream",
     "text": [
      "enter the numbre of rows: 5\n",
      "\n",
      "* \n",
      "* * \n",
      "* * * \n",
      "* * * * \n",
      "* * * * * \n",
      "* * * * \n",
      "* * * \n",
      "* * \n",
      "* \n"
     ]
    }
   ],
   "source": [
    "# 8. Write a program to print following pattern\n",
    "\n",
    "n = int(input(\"enter the numbre of rows: \"))\n",
    "for i in range(n):\n",
    "    for j in range(i):\n",
    "        print ('* ', end=\"\")\n",
    "    print('')\n",
    "\n",
    "for i in range(n,0,-1):\n",
    "    for j in range(i):\n",
    "        print('* ', end=\"\")\n",
    "    print('')"
   ]
  },
  {
   "cell_type": "code",
   "execution_count": 3,
   "id": "c82734aa",
   "metadata": {},
   "outputs": [
    {
     "name": "stdout",
     "output_type": "stream",
     "text": [
      "enter a number: 5\n",
      "\n",
      "*\n",
      "**\n",
      "***\n",
      "****\n",
      "*****\n",
      "****\n",
      "***\n",
      "**\n",
      "*\n"
     ]
    }
   ],
   "source": [
    "n=int(input('enter a number: '))\n",
    "a=''\n",
    "for i in range(n):\n",
    "    print()\n",
    "    a+='*'\n",
    "    print(a,end='')\n",
    "for i in range(n):\n",
    "    print(a[0:-i])"
   ]
  },
  {
   "cell_type": "code",
   "execution_count": 18,
   "id": "0c54ddf8",
   "metadata": {},
   "outputs": [
    {
     "name": "stdout",
     "output_type": "stream",
     "text": [
      "Enter a number: 3\n",
      "* \n",
      "\n",
      "* * \n",
      "\n",
      "* * * \n",
      "\n",
      "* * \n",
      "\n",
      "* \n",
      "\n",
      "\n",
      "\n"
     ]
    }
   ],
   "source": [
    "m=0\n",
    "mr=eval(input('Enter a number: '))\n",
    "for i in range(0,mr):\n",
    "    m+=1\n",
    "    for j in range(0,m):\n",
    "        print('*',end=' ')\n",
    "    print('\\n')\n",
    "    if m>(mr-1):\n",
    "        for k in range(0,mr):\n",
    "            m-=1\n",
    "            for l in range(0,m):\n",
    "                print('*',end=' ')\n",
    "            print('\\n')"
   ]
  },
  {
   "cell_type": "code",
   "execution_count": 8,
   "id": "b47a9cb1",
   "metadata": {
    "code_folding": []
   },
   "outputs": [
    {
     "name": "stdout",
     "output_type": "stream",
     "text": [
      "{'Jon': 26, 'Roger': 34, 'Jessica': 13, 'Monica': 24, 'Ashton': 65}\n"
     ]
    }
   ],
   "source": [
    "# 9. Below list contains age and name of five students.\n",
    "#Convert the list into a dictionary such that the name is taken as key and\n",
    "# the age before their name is taken as thier respective value in the dictionary\n",
    "#students = [26,'Jon',34,'Roger',13,'Jessica',24,'Monica',65,'Ashton'] \n",
    "#Output: {'Jon':26, 'Roger':34, 'Jessica':13, 'Monica':24, 'Ashton':65}\n",
    "    \n",
    "def Convert(student):\n",
    "    res_dct = {student[i + 1] :student[i] for i in range(0, len(student), 2)}\n",
    "    return res_dct    \n",
    "\n",
    "student = [26,'Jon',34,'Roger',13,'Jessica',24,'Monica',65,'Ashton']\n",
    "print(Convert(student))"
   ]
  },
  {
   "cell_type": "code",
   "execution_count": 22,
   "id": "f6cea98e",
   "metadata": {},
   "outputs": [
    {
     "name": "stdout",
     "output_type": "stream",
     "text": [
      "string 1 : dad\n",
      "string 2 : bad\n",
      "given string are not anagram\n"
     ]
    }
   ],
   "source": [
    "#10. Write a program to check whether two strings, taken from user, are anagram or not\n",
    "# IF SORT THE STRING ARE EQUAL THAT IS ANAGRAM # (DAD , ADD),(EARTH,HEART)\n",
    "# SORT AND COMPARE\n",
    "str1 = input(\"string 1 : \")\n",
    "str2 = input(\"string 2 : \")\n",
    "sorted_str1 = sorted(str1)\n",
    "sorted_str2 = sorted(str2)\n",
    "\n",
    "if sorted_str1 == sorted_str2:\n",
    "    print(\"given string are Anagram\")\n",
    "else:\n",
    "    print(\"given string are not anagram\")\n"
   ]
  },
  {
   "cell_type": "code",
   "execution_count": 35,
   "id": "556ef56b",
   "metadata": {},
   "outputs": [
    {
     "name": "stdout",
     "output_type": "stream",
     "text": [
      "how many numbers you want to enter ?6\n",
      "enter the number :5\n",
      "enter the number :26\n",
      "enter the number :24\n",
      "enter the number :15\n",
      "enter the number :81\n",
      "enter the number :5\n",
      "unsorted_list :  [5, 26, 24, 15, 81, 5]\n",
      "[5, 5, 15, 24, 26, 81]\n"
     ]
    }
   ],
   "source": [
    "# 11. Write a program that sorts all the elements of the list according to the first letter,\n",
    "#irrespective of their cases (uppercase or lowercase).\n",
    "#Note: Do not use any inbuilt sorting function\n",
    "num = int(input(\"how many numbers you want to enter ?\"))\n",
    "list1 = [int(input(\"enter the number :\")) for x in range(num)]\n",
    "\n",
    "print(\"unsorted_list : \", list1)\n",
    "\n",
    "for i in range(len(list1)-1):\n",
    "    m_ind = i\n",
    "    for j in range(i+1,len(list1)):\n",
    "        if  list1[j] < list1[m_ind]:\n",
    "            m_ind = j\n",
    "    if list1[i] != list1[m_ind]:\n",
    "        list1[i],list1[m_ind] = list1[m_ind],list1[i]\n",
    "print(list1)"
   ]
  },
  {
   "cell_type": "code",
   "execution_count": 45,
   "id": "7d8b754d",
   "metadata": {},
   "outputs": [
    {
     "name": "stdout",
     "output_type": "stream",
     "text": [
      "Sour fruits :  ['Lemon', 'Grapes', 'Kiwi', 'Orange', 'Limes']\n"
     ]
    }
   ],
   "source": [
    "# 12. Write a program that prints a list of sour fruits from the below tuple:\n",
    "# fruits = (('Lemon','sour'), ('DragonFruit', 'Sweet'), ('Grapes','soUr'), ('Kiwi','Sour'), ('Apples','sweet'), ('Orange','sour'), ('Blueberries','sweet'), ('Limes','Sour') )\n",
    "# Output: Sour Fruits: ['Lemon', 'Grapes', 'Kiwi', 'Orange', 'Limes']\n",
    "\n",
    "\n",
    "\n",
    "fruits = (('Lemon','sour'), ('DragonFruit', 'Sweet'), ('Grapes','soUr'), \n",
    "          ('Kiwi','Sour'), ('Apples','sweet'), ('Orange','sour'), ('Blueberries','sweet'), ('Limes','Sour') )\n",
    "li=[]\n",
    "for i in fruits:\n",
    "    if i[1].lower() == 'sour':\n",
    "        li.append(i[0])\n",
    "print(\"Sour fruits : \",li)"
   ]
  },
  {
   "cell_type": "code",
   "execution_count": 1,
   "id": "00a9701c",
   "metadata": {},
   "outputs": [
    {
     "ename": "NameError",
     "evalue": "name 'postive_comments' is not defined",
     "output_type": "error",
     "traceback": [
      "\u001b[1;31m---------------------------------------------------------------------------\u001b[0m",
      "\u001b[1;31mNameError\u001b[0m                                 Traceback (most recent call last)",
      "\u001b[1;32m<ipython-input-1-27e643f79797>\u001b[0m in \u001b[0;36m<module>\u001b[1;34m\u001b[0m\n\u001b[0;32m     15\u001b[0m     \u001b[1;32mfor\u001b[0m \u001b[0mword\u001b[0m \u001b[1;32min\u001b[0m \u001b[0msentence\u001b[0m\u001b[1;33m.\u001b[0m\u001b[0msplit\u001b[0m\u001b[1;33m(\u001b[0m\u001b[1;34m' '\u001b[0m\u001b[1;33m)\u001b[0m\u001b[1;33m:\u001b[0m\u001b[1;33m\u001b[0m\u001b[1;33m\u001b[0m\u001b[0m\n\u001b[0;32m     16\u001b[0m         \u001b[1;32mif\u001b[0m \u001b[0mword\u001b[0m \u001b[1;32min\u001b[0m \u001b[0mpositive\u001b[0m\u001b[1;33m:\u001b[0m\u001b[1;33m\u001b[0m\u001b[1;33m\u001b[0m\u001b[0m\n\u001b[1;32m---> 17\u001b[1;33m             \u001b[0mpostive_comments\u001b[0m\u001b[1;33m.\u001b[0m\u001b[0mappend\u001b[0m\u001b[1;33m(\u001b[0m\u001b[0msentence\u001b[0m\u001b[1;33m)\u001b[0m\u001b[1;33m\u001b[0m\u001b[1;33m\u001b[0m\u001b[0m\n\u001b[0m\u001b[0;32m     18\u001b[0m         \u001b[1;32melif\u001b[0m \u001b[0mword\u001b[0m \u001b[1;32min\u001b[0m \u001b[0mnegative\u001b[0m\u001b[1;33m:\u001b[0m\u001b[1;33m\u001b[0m\u001b[1;33m\u001b[0m\u001b[0m\n\u001b[0;32m     19\u001b[0m             \u001b[0mnegative_comments\u001b[0m\u001b[1;33m.\u001b[0m\u001b[0mappend\u001b[0m\u001b[1;33m(\u001b[0m\u001b[0msentence\u001b[0m\u001b[1;33m)\u001b[0m\u001b[1;33m\u001b[0m\u001b[1;33m\u001b[0m\u001b[0m\n",
      "\u001b[1;31mNameError\u001b[0m: name 'postive_comments' is not defined"
     ]
    }
   ],
   "source": [
    "# 13.  Given below are the list of positive and negative words. Also a list of tweets is provided.\n",
    "#Separate out the positive and negative comments\n",
    "\n",
    "positive = ['good','awesome', 'best', 'nice']\n",
    "\n",
    "negative = ['worst','awful', 'bad']\n",
    "\n",
    "tweets = ['This government policies are good', 'bad implementation', \n",
    "          'The way he played showed that he is one of the best players in the world', \n",
    "          'Her acting in the play was awesome', 'The wine tastes awful', 'Its nice to hear this little kids laugh']\n",
    "\n",
    "postive_comments=[]\n",
    "negative_comments=[]\n",
    "for sentence in tweets:\n",
    "    for word in sentence.split(' '):\n",
    "        if word in positive:\n",
    "            postive_comments.append(sentence)\n",
    "        elif word in negative:\n",
    "            negative_comments.append(sentence)\n",
    "print('positive tweets are',postive_comments)\n",
    "print('\\n')\n",
    "print('negative tweets are',negative_comments)\n",
    "\n"
   ]
  },
  {
   "cell_type": "code",
   "execution_count": 13,
   "id": "47afca75",
   "metadata": {},
   "outputs": [],
   "source": [
    "import numpy as np"
   ]
  },
  {
   "cell_type": "code",
   "execution_count": 6,
   "id": "4f20da39",
   "metadata": {},
   "outputs": [
    {
     "name": "stdout",
     "output_type": "stream",
     "text": [
      "original matrix: \n",
      "[[1, 2, 3], [4, 5, 6], [7, 8, 9]]\n",
      "[[1, 8, 1], [3, 7, 3], [4, 5, 9]]\n",
      "result of matrix multiplication: \n",
      "[[ 19  37  34]\n",
      " [ 43  97  73]\n",
      " [ 67 157 112]]\n"
     ]
    }
   ],
   "source": [
    "# 14. 14. Write a program that performs multiplication of the following two matrix\n",
    "\n",
    "X = [[1,2,3],\n",
    "     [4 ,5,6],\n",
    "     [7 ,8,9]]\n",
    "Y = [[1,8,1],\n",
    "     [3,7,3],\n",
    "     [4,5,9]]\n",
    "print(\"original matrix: \")\n",
    "print(X)\n",
    "print(Y)\n",
    "result = np.dot(X,Y)\n",
    "print(\"result of matrix multiplication: \")\n",
    "print(result)\n",
    "\n"
   ]
  },
  {
   "cell_type": "code",
   "execution_count": 29,
   "id": "c8150238",
   "metadata": {},
   "outputs": [
    {
     "name": "stdout",
     "output_type": "stream",
     "text": [
      "New_dictionary:  {'emp01': 'Raj', 'emp02': 'Sheela', 'emp03': 'Joseph'}\n"
     ]
    }
   ],
   "source": [
    "# 15. Write a program to remove space from keys of the given dictionary\n",
    "Employee = {'emp 01' : 'Raj', 'emp 02' : 'Sheela', 'emp 0 3 ': 'Joseph'};\n",
    "Employee =  {x.replace(' ',''): v \n",
    "     for x, v in Employee.items()}\n",
    "print(\"New_dictionary: \",Employee)\n"
   ]
  },
  {
   "cell_type": "code",
   "execution_count": 17,
   "id": "0b0aab53",
   "metadata": {
    "scrolled": false
   },
   "outputs": [
    {
     "name": "stdout",
     "output_type": "stream",
     "text": [
      "old dataframe :      Subjects  Score\n",
      "0      Maths    345\n",
      "1    Physics    432\n",
      "2  Chemistry    456\n",
      "3    Biology    234\n",
      "4    Geology    254\n"
     ]
    },
    {
     "data": {
      "text/html": [
       "<div>\n",
       "<style scoped>\n",
       "    .dataframe tbody tr th:only-of-type {\n",
       "        vertical-align: middle;\n",
       "    }\n",
       "\n",
       "    .dataframe tbody tr th {\n",
       "        vertical-align: top;\n",
       "    }\n",
       "\n",
       "    .dataframe thead th {\n",
       "        text-align: right;\n",
       "    }\n",
       "</style>\n",
       "<table border=\"1\" class=\"dataframe\">\n",
       "  <thead>\n",
       "    <tr style=\"text-align: right;\">\n",
       "      <th></th>\n",
       "      <th>Subjects</th>\n",
       "      <th>Score</th>\n",
       "    </tr>\n",
       "  </thead>\n",
       "  <tbody>\n",
       "    <tr>\n",
       "      <th>0</th>\n",
       "      <td>Maths</td>\n",
       "      <td>345</td>\n",
       "    </tr>\n",
       "    <tr>\n",
       "      <th>1</th>\n",
       "      <td>Physics</td>\n",
       "      <td>432</td>\n",
       "    </tr>\n",
       "    <tr>\n",
       "      <th>2</th>\n",
       "      <td>Chemistry</td>\n",
       "      <td>456</td>\n",
       "    </tr>\n",
       "  </tbody>\n",
       "</table>\n",
       "</div>"
      ],
      "text/plain": [
       "    Subjects  Score\n",
       "0      Maths    345\n",
       "1    Physics    432\n",
       "2  Chemistry    456"
      ]
     },
     "execution_count": 17,
     "metadata": {},
     "output_type": "execute_result"
    }
   ],
   "source": [
    "# 16. Write a program to display the subjects for which the scores are between 300 and 500 (inclusive) in the given dataframe\n",
    "\n",
    "\n",
    "df1 = pd.DataFrame ({\n",
    "    \"Subjects\": [\"Maths\",\"Physics\",\"Chemistry\",\"Biology\",\"Geology\"],\n",
    "    \"Score\": [345,432,456,234,254] ,\n",
    "})\n",
    "\n",
    "print(\"old dataframe : \", df1)\n",
    "\n",
    "#max_val = df1.max()\n",
    "#min_val = df1.min()\n",
    "#print(max_val)\n",
    "#print(min_val)\n",
    "\n",
    "df1[(df1['Score']>300) & (df1['Score']<500)]\n",
    "\n",
    "\n",
    "\n",
    " "
   ]
  },
  {
   "cell_type": "code",
   "execution_count": 11,
   "id": "ffbdcec2",
   "metadata": {},
   "outputs": [
    {
     "name": "stdout",
     "output_type": "stream",
     "text": [
      "12459\n",
      "12447\n",
      "12678\n"
     ]
    }
   ],
   "source": [
    "#17. Write a program to find numbers between 10000 to 20000 from a given array\n",
    "Sales = [1432,143223,2043332,1642357,54327,754338,12459,75435,224454,1433,12447,25532,86674,74338,12678]\n",
    "for numbers in Sales:\n",
    "    if numbers>10000 and numbers<20000:\n",
    "        print(numbers)"
   ]
  },
  {
   "cell_type": "code",
   "execution_count": 7,
   "id": "8a67f50e",
   "metadata": {
    "scrolled": true
   },
   "outputs": [
    {
     "data": {
      "text/html": [
       "<div>\n",
       "<style scoped>\n",
       "    .dataframe tbody tr th:only-of-type {\n",
       "        vertical-align: middle;\n",
       "    }\n",
       "\n",
       "    .dataframe tbody tr th {\n",
       "        vertical-align: top;\n",
       "    }\n",
       "\n",
       "    .dataframe thead th {\n",
       "        text-align: right;\n",
       "    }\n",
       "</style>\n",
       "<table border=\"1\" class=\"dataframe\">\n",
       "  <thead>\n",
       "    <tr style=\"text-align: right;\">\n",
       "      <th></th>\n",
       "      <th>Name</th>\n",
       "      <th>Rank</th>\n",
       "    </tr>\n",
       "  </thead>\n",
       "  <tbody>\n",
       "    <tr>\n",
       "      <th>3</th>\n",
       "      <td>Tom</td>\n",
       "      <td>84</td>\n",
       "    </tr>\n",
       "    <tr>\n",
       "      <th>0</th>\n",
       "      <td>Joy</td>\n",
       "      <td>115</td>\n",
       "    </tr>\n",
       "    <tr>\n",
       "      <th>2</th>\n",
       "      <td>Karan</td>\n",
       "      <td>341</td>\n",
       "    </tr>\n",
       "    <tr>\n",
       "      <th>1</th>\n",
       "      <td>Mia</td>\n",
       "      <td>451</td>\n",
       "    </tr>\n",
       "  </tbody>\n",
       "</table>\n",
       "</div>"
      ],
      "text/plain": [
       "    Name  Rank\n",
       "3    Tom    84\n",
       "0    Joy   115\n",
       "2  Karan   341\n",
       "1    Mia   451"
      ]
     },
     "execution_count": 7,
     "metadata": {},
     "output_type": "execute_result"
    }
   ],
   "source": [
    "#18. Write a program to sort the dataframe by Rank (in ascending order)\n",
    "df=pd.DataFrame({'Name':['Joy','Mia','Karan','Tom'],'Rank':[115,451,341,84]})\n",
    "df.sort_values('Rank')"
   ]
  },
  {
   "cell_type": "code",
   "execution_count": 14,
   "id": "f5a8a2fa",
   "metadata": {},
   "outputs": [
    {
     "name": "stdout",
     "output_type": "stream",
     "text": [
      "before swapping \n",
      "     Name  Rank\n",
      "0    Mia   451\n",
      "1    Joy   115\n",
      "2  Karan   341\n",
      "3    Tom    84\n",
      "before swapping \n",
      "     Name  Rank\n",
      "0    Joy   115\n",
      "1    Mia   451\n",
      "2  Karan   341\n",
      "3    Tom    84\n"
     ]
    }
   ],
   "source": [
    "# 19. Use the data given in the question 18, to do the following:\n",
    " # Write a program to swap the 1st and 2nd row in a dataframe\n",
    "print(\"before swapping \\n\",df)\n",
    "\n",
    "temp = df.iloc[1]\n",
    "df.iloc[1] = df.iloc[0]\n",
    "df.iloc[0] = temp\n",
    "print(\"before swapping \\n\",df)\n"
   ]
  },
  {
   "cell_type": "code",
   "execution_count": 33,
   "id": "dd746460",
   "metadata": {},
   "outputs": [
    {
     "name": "stdout",
     "output_type": "stream",
     "text": [
      "   iId   Name  Age  Gender\n",
      "0    1    Mia   47       1\n",
      "1    2   sara   38       1\n",
      "2    3    Joy   47       0\n",
      "3    4  Karan   41       0\n"
     ]
    },
    {
     "name": "stderr",
     "output_type": "stream",
     "text": [
      "<ipython-input-33-027afa95686e>:7: SettingWithCopyWarning: \n",
      "A value is trying to be set on a copy of a slice from a DataFrame\n",
      "\n",
      "See the caveats in the documentation: https://pandas.pydata.org/pandas-docs/stable/user_guide/indexing.html#returning-a-view-versus-a-copy\n",
      "  df1.Gender[df1.Gender == 'male'] = 1\n",
      "<ipython-input-33-027afa95686e>:8: SettingWithCopyWarning: \n",
      "A value is trying to be set on a copy of a slice from a DataFrame\n",
      "\n",
      "See the caveats in the documentation: https://pandas.pydata.org/pandas-docs/stable/user_guide/indexing.html#returning-a-view-versus-a-copy\n",
      "  df1.Gender[df1.Gender == 'female'] = 2\n"
     ]
    }
   ],
   "source": [
    "# 20. Write a program to replace 0 and 1 in Gender variable with M and F\n",
    "\n",
    "df1=pd.DataFrame({'iId': [1,2,3,4],'Name':['Mia','sara','Joy','Karan'],'Age':[47,38,47,41],\n",
    "                 'Gender':[1,1,0,0],})\n",
    "df1\n",
    "\n",
    "df1.Gender[df1.Gender == 'male'] = 1\n",
    "df1.Gender[df1.Gender == 'female'] = 2\n",
    "print(df1)"
   ]
  },
  {
   "cell_type": "code",
   "execution_count": 9,
   "id": "259011db",
   "metadata": {
    "scrolled": true
   },
   "outputs": [
    {
     "data": {
      "text/plain": [
       "array([[331, 245, 246],\n",
       "       [475, 348, 229]])"
      ]
     },
     "execution_count": 9,
     "metadata": {},
     "output_type": "execute_result"
    }
   ],
   "source": [
    "#21. Convert a 1D array to a 2D array containing 2 rows\n",
    "dim_1 = ([331, 245, 246, 475, 348, 229])\n",
    "a=np.array(dim_1)\n",
    "a.reshape(2,3)"
   ]
  },
  {
   "cell_type": "code",
   "execution_count": 25,
   "id": "e66b2626",
   "metadata": {
    "scrolled": true
   },
   "outputs": [
    {
     "data": {
      "text/plain": [
       "Shop1    20.000000\n",
       "Shop2    17.333333\n",
       "Shop3    17.333333\n",
       "dtype: float64"
      ]
     },
     "execution_count": 25,
     "metadata": {},
     "output_type": "execute_result"
    }
   ],
   "source": [
    "#22. Find the average cost of each variety of product available in the three different shops\n",
    "d1=pd.DataFrame([[10, 20, 30], [17, 14, 21], [25, 15, 12]], \n",
    "                columns=['product_a', 'product_b', 'product_c'], \n",
    "                index=['Shop1', 'Shop2', 'Shop3'])\n",
    "d1.mean(axis=1)"
   ]
  },
  {
   "cell_type": "code",
   "execution_count": 26,
   "id": "a63aae5b",
   "metadata": {},
   "outputs": [
    {
     "data": {
      "text/plain": [
       "<AxesSubplot:ylabel='Frequency'>"
      ]
     },
     "execution_count": 26,
     "metadata": {},
     "output_type": "execute_result"
    },
    {
     "data": {
      "image/png": "[encoded data removed]",
      "text/plain": [
       "<Figure size 432x288 with 1 Axes>"
      ]
     },
     "metadata": {
      "needs_background": "light"
     },
     "output_type": "display_data"
    }
   ],
   "source": [
    "#23. Write a program to create a histogram using given data\n",
    "weight = [34,56,43,22,2,58,89,78,67,56,65,43,23]\n",
    "pd.Series(weight).plot(kind='hist')"
   ]
  },
  {
   "cell_type": "code",
   "execution_count": 29,
   "id": "ed4e6db7",
   "metadata": {},
   "outputs": [
    {
     "data": {
      "text/plain": [
       "[11, 12, 13]"
      ]
     },
     "execution_count": 29,
     "metadata": {},
     "output_type": "execute_result"
    }
   ],
   "source": [
    "#24. Write a program to delete items from series_a that are present in series_b and print the updated series_a\n",
    "#Use the series given below:\n",
    "series_a = ([11, 12, 13, 14, 15])\n",
    "series_b= ([14, 15, 16, 17, 18])\n",
    "del_list=[]\n",
    "for numbers in series_a:\n",
    "    if numbers in series_b:\n",
    "        del_list.append(numbers)\n",
    "for i in del_list:\n",
    "    series_a.pop(series_a.index(i))        \n",
    "series_a"
   ]
  },
  {
   "cell_type": "code",
   "execution_count": 27,
   "id": "be923f39",
   "metadata": {},
   "outputs": [
    {
     "data": {
      "text/html": [
       "<div>\n",
       "<style scoped>\n",
       "    .dataframe tbody tr th:only-of-type {\n",
       "        vertical-align: middle;\n",
       "    }\n",
       "\n",
       "    .dataframe tbody tr th {\n",
       "        vertical-align: top;\n",
       "    }\n",
       "\n",
       "    .dataframe thead th {\n",
       "        text-align: right;\n",
       "    }\n",
       "</style>\n",
       "<table border=\"1\" class=\"dataframe\">\n",
       "  <thead>\n",
       "    <tr style=\"text-align: right;\">\n",
       "      <th></th>\n",
       "      <th>0</th>\n",
       "      <th>1</th>\n",
       "      <th>2</th>\n",
       "      <th>3</th>\n",
       "      <th>4</th>\n",
       "      <th>5</th>\n",
       "      <th>6</th>\n",
       "    </tr>\n",
       "  </thead>\n",
       "  <tbody>\n",
       "    <tr>\n",
       "      <th>0</th>\n",
       "      <td>81</td>\n",
       "      <td>92</td>\n",
       "      <td>88</td>\n",
       "      <td>18</td>\n",
       "      <td>95</td>\n",
       "      <td>50</td>\n",
       "      <td>2</td>\n",
       "    </tr>\n",
       "    <tr>\n",
       "      <th>1</th>\n",
       "      <td>25</td>\n",
       "      <td>90</td>\n",
       "      <td>88</td>\n",
       "      <td>50</td>\n",
       "      <td>76</td>\n",
       "      <td>57</td>\n",
       "      <td>64</td>\n",
       "    </tr>\n",
       "    <tr>\n",
       "      <th>2</th>\n",
       "      <td>20</td>\n",
       "      <td>88</td>\n",
       "      <td>35</td>\n",
       "      <td>28</td>\n",
       "      <td>44</td>\n",
       "      <td>76</td>\n",
       "      <td>65</td>\n",
       "    </tr>\n",
       "    <tr>\n",
       "      <th>3</th>\n",
       "      <td>71</td>\n",
       "      <td>96</td>\n",
       "      <td>20</td>\n",
       "      <td>41</td>\n",
       "      <td>74</td>\n",
       "      <td>75</td>\n",
       "      <td>93</td>\n",
       "    </tr>\n",
       "    <tr>\n",
       "      <th>4</th>\n",
       "      <td>10</td>\n",
       "      <td>48</td>\n",
       "      <td>55</td>\n",
       "      <td>72</td>\n",
       "      <td>76</td>\n",
       "      <td>29</td>\n",
       "      <td>37</td>\n",
       "    </tr>\n",
       "  </tbody>\n",
       "</table>\n",
       "</div>"
      ],
      "text/plain": [
       "    0   1   2   3   4   5   6\n",
       "0  81  92  88  18  95  50   2\n",
       "1  25  90  88  50  76  57  64\n",
       "2  20  88  35  28  44  76  65\n",
       "3  71  96  20  41  74  75  93\n",
       "4  10  48  55  72  76  29  37"
      ]
     },
     "execution_count": 27,
     "metadata": {},
     "output_type": "execute_result"
    }
   ],
   "source": [
    "#25. Create a series of 40 random numbers and transform it into a dataframe containing seven columns and five rows\n",
    "a=np.random.randint(100,size=(5,7))\n",
    "ad=pd.DataFrame(a)\n",
    "ad"
   ]
  },
  {
   "cell_type": "code",
   "execution_count": 12,
   "id": "a9150c3b",
   "metadata": {},
   "outputs": [
    {
     "name": "stdout",
     "output_type": "stream",
     "text": [
      "13 22 44 "
     ]
    }
   ],
   "source": [
    "#26. Get common elements from the two arrays¶\n",
    "test_a = np.array([11,12,13,22,23,44,43,24,45,36])\n",
    "test_b = np.array([17,22,13,22,47,34,39,44,29,28])\n",
    "for num in test_a:\n",
    "    if num in test_b:\n",
    "        print(num,end=' ')"
   ]
  },
  {
   "cell_type": "code",
   "execution_count": 22,
   "id": "c20e17f1",
   "metadata": {},
   "outputs": [
    {
     "name": "stdout",
     "output_type": "stream",
     "text": [
      "<class 'pandas.core.frame.DataFrame'>\n",
      "RangeIndex: 144 entries, 0 to 143\n",
      "Data columns (total 3 columns):\n",
      " #   Column      Non-Null Count  Dtype   \n",
      "---  ------      --------------  -----   \n",
      " 0   year        144 non-null    int64   \n",
      " 1   month       144 non-null    category\n",
      " 2   passengers  144 non-null    int64   \n",
      "dtypes: category(1), int64(2)\n",
      "memory usage: 2.9 KB\n"
     ]
    }
   ],
   "source": [
    "#27. Import dataset 'flights' from library seaborn. Check for datatypes of all variable.\n",
    "ds=sns.load_dataset('flights')\n",
    "ds.info()"
   ]
  },
  {
   "cell_type": "code",
   "execution_count": 21,
   "id": "54866c5f",
   "metadata": {
    "scrolled": true
   },
   "outputs": [
    {
     "name": "stdout",
     "output_type": "stream",
     "text": [
      "My original data    Product Country  Sales\n",
      "0       A     USA  44000\n",
      "1       J   Japan  43000\n",
      "2       A  Europe  54000\n",
      "3       L   Japan  95600\n",
      "4       R  Europe  79000\n",
      "5       A     USA  67000\n",
      "6       R     USA  68000\n",
      "7       J   Japan  38000\n",
      "8       L     USA  59000\n",
      "9       A  Europe  60000\n",
      "                  Sales\n",
      "Country Product        \n",
      "Europe  A        114000\n",
      "        R         79000\n",
      "Japan   J         81000\n",
      "        L         95600\n",
      "USA     A        111000\n",
      "        L         59000\n",
      "        R         68000\n",
      "cross tab table :  Product  A  J  L  R\n",
      "Country            \n",
      "Europe   2  0  0  1\n",
      "Japan    0  2  1  0\n",
      "USA      2  0  1  1\n",
      "output of the table:             Sales                                         \n",
      "Product        A        J        L        R           All\n",
      "Country                                                  \n",
      "Europe   57000.0      NaN      NaN  79000.0  64333.333333\n",
      "Japan        NaN  40500.0  95600.0      NaN  58866.666667\n",
      "USA      55500.0      NaN  59000.0  68000.0  59500.000000\n",
      "All      56250.0  40500.0  77300.0  73500.0  60760.000000\n"
     ]
    }
   ],
   "source": [
    "# 28. Compute total sales for each product and country\n",
    "\n",
    "data = pd.read_csv(\"C:/Users/chandraprakash/Documents/Book1.csv\")\n",
    "print(\"My original data \", data)\n",
    "data3 = data.groupby(['Country','Product']).sum()\n",
    "print(data3)\n",
    "data1 = pd.crosstab(data.Country,data.Product)\n",
    "print(\"cross tab table : \",data1)\n",
    "data2 = data.pivot_table(index=\"Country\",columns=\"Product\",margins=True)\n",
    "print(\"output of the table: \",data2)\n"
   ]
  },
  {
   "cell_type": "code",
   "execution_count": 37,
   "id": "345a2484",
   "metadata": {},
   "outputs": [
    {
     "name": "stdout",
     "output_type": "stream",
     "text": [
      "My original data    Product Country  Sales\n",
      "0       A     USA  44000\n",
      "1       J   Japan  43000\n",
      "2       A  Europe  54000\n",
      "3       L   Japan  95600\n",
      "4       R  Europe  79000\n",
      "5       A     USA  67000\n",
      "6       R     USA  68000\n",
      "7       J   Japan  38000\n",
      "8       L     USA  59000\n",
      "9       A  Europe  60000\n"
     ]
    }
   ],
   "source": [
    "# 29. Get the descriptive statistics of the sales for each Country\n",
    "\n",
    "data = pd.read_csv(\"C:/Users/chandraprakash/Documents/Book1.csv\")\n",
    "print(\"My original data \", data)\n",
    "\n",
    "# descritive analytics count()sum()mean()median()mode()std()min()max()abs()prod()cumsum()cumprod()\n",
    "\n",
    "\n",
    "\n"
   ]
  },
  {
   "cell_type": "code",
   "execution_count": 18,
   "id": "6b1a69c7",
   "metadata": {},
   "outputs": [
    {
     "name": "stdout",
     "output_type": "stream",
     "text": [
      "normal array :  [[ 0  1  2  3  4]\n",
      " [ 5  6  7  8  9]\n",
      " [10 11 12 13 14]\n",
      " [15 16 17 18 19]]\n",
      "reversed arrayy: [[4, 3, 2, 1, 0], [9, 8, 7, 6, 5], [14, 13, 12, 11, 10], [19, 18, 17, 16, 15]]\n"
     ]
    }
   ],
   "source": [
    "# 30. Reverse each of the rows of the 2D array\n",
    "\n",
    "num_array = np.arange(20).reshape(4,5)\n",
    "\n",
    "print(\"normal array : \", num_array)\n",
    "\n",
    "res = [sorted(sub, reverse = True) for sub in num_array]\n",
    "\n",
    "print(\"reversed arrayy:\", res)"
   ]
  },
  {
   "cell_type": "code",
   "execution_count": 4,
   "id": "67e65bc9",
   "metadata": {},
   "outputs": [
    {
     "ename": "SyntaxError",
     "evalue": "invalid syntax (<ipython-input-4-c519d6840351>, line 6)",
     "output_type": "error",
     "traceback": [
      "\u001b[1;36m  File \u001b[1;32m\"<ipython-input-4-c519d6840351>\"\u001b[1;36m, line \u001b[1;32m6\u001b[0m\n\u001b[1;33m    birthday = datetime.datetime(year)\u001b[0m\n\u001b[1;37m    ^\u001b[0m\n\u001b[1;31mSyntaxError\u001b[0m\u001b[1;31m:\u001b[0m invalid syntax\n"
     ]
    }
   ],
   "source": [
    "import datetime\n",
    "\n",
    "\n",
    "def get_user_birthday():\n",
    "    year = int(input(datetime.date)\n",
    "    birthday = datetime.datetime(year)\n",
    "    return birthday\n",
    "\n",
    "\n",
    "def calculate_dates(original_date, now):\n",
    "    date1 = now\n",
    "    date2 = datetime.datetime(now.year, original_date.month, original_date.day)\n",
    "    delta = date2 - date1\n",
    "    days = delta.total_seconds() / 60 /60 /24\n",
    "\n",
    "    return days\n",
    "\n",
    "\n",
    "def show_info(self):\n",
    "    pass\n",
    "\n",
    "\n",
    "\n",
    "bd = get_user_birthday()\n",
    "now = datetime.datetime.now()\n",
    "c = calculate_dates(bd,now)\n",
    "print(c)"
   ]
  },
  {
   "cell_type": "code",
   "execution_count": 6,
   "id": "7bb1ae41",
   "metadata": {},
   "outputs": [
    {
     "name": "stdout",
     "output_type": "stream",
     "text": [
      "Enter date: 21\n"
     ]
    }
   ],
   "source": [
    "from dateutil import parser\n",
    "\n",
    "date = parser.parse(input(\"Enter date: \"))"
   ]
  },
  {
   "cell_type": "code",
   "execution_count": 8,
   "id": "da80e49d",
   "metadata": {},
   "outputs": [
    {
     "name": "stdout",
     "output_type": "stream",
     "text": [
      "Enter year: 1996\n",
      "Enter month: 01\n",
      "    January 1996\n",
      "Mo Tu We Th Fr Sa Su\n",
      " 1  2  3  4  5  6  7\n",
      " 8  9 10 11 12 13 14\n",
      "15 16 17 18 19 20 21\n",
      "22 23 24 25 26 27 28\n",
      "29 30 31\n",
      "\n"
     ]
    }
   ],
   "source": [
    "# Program to display calendar of the given month and year\n",
    "\n",
    "# importing calendar module\n",
    "import calendar\n",
    "\n",
    "yy = 2014  # year\n",
    "mm = 11    # month\n",
    "\n",
    "# To take month and year input from the user\n",
    "yy = int(input(\"Enter year: \"))\n",
    "mm = int(input(\"Enter month: \"))\n",
    "\n",
    "# display the calendar\n",
    "print(calendar.month(yy, mm))"
   ]
  },
  {
   "cell_type": "code",
   "execution_count": null,
   "id": "37c0a743",
   "metadata": {},
   "outputs": [],
   "source": [
    "From = \"chandraprakash2194@gmail.com\"\n",
    "print(\"From mail -ID\",From)\n",
    "To = eval(input(\"TO Mail-ID: \"))\n",
    "To"
   ]
  },
  {
   "cell_type": "code",
   "execution_count": null,
   "id": "1e2fca61",
   "metadata": {},
   "outputs": [],
   "source": []
  }
 ],
 "metadata": {
  "kernelspec": {
   "display_name": "Python 3",
   "language": "python",
   "name": "python3"
  },
  "language_info": {
   "codemirror_mode": {
    "name": "ipython",
    "version": 3
   },
   "file_extension": ".py",
   "mimetype": "text/x-python",
   "name": "python",
   "nbconvert_exporter": "python",
   "pygments_lexer": "ipython3",
   "version": "3.8.8"
  },
  "varInspector": {
   "cols": {
    "lenName": 16,
    "lenType": 16,
    "lenVar": 40
   },
   "kernels_config": {
    "python": {
     "delete_cmd_postfix": "",
     "delete_cmd_prefix": "del ",
     "library": "var_list.py",
     "varRefreshCmd": "print(var_dic_list())"
    },
    "r": {
     "delete_cmd_postfix": ") ",
     "delete_cmd_prefix": "rm(",
     "library": "var_list.r",
     "varRefreshCmd": "cat(var_dic_list()) "
    }
   },
   "types_to_exclude": [
    "module",
    "function",
    "builtin_function_or_method",
    "instance",
    "_Feature"
   ],
   "window_display": false
  }
 },
 "nbformat": 4,
 "nbformat_minor": 5
}
